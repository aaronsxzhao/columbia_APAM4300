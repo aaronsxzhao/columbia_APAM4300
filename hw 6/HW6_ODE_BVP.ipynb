{
 "cells": [
  {
   "cell_type": "markdown",
   "metadata": {},
   "source": [
    "Before you turn this problem in, make sure everything runs as expected. First, **restart the kernel** (in the menubar, select Kernel$\\rightarrow$Restart) and then **run all cells** (in the menubar, select Cell$\\rightarrow$Run All).\n",
    "\n",
    "Make sure you fill in any place that says `YOUR CODE HERE` or \"YOUR ANSWER HERE\", as well as any collaborators you worked with:"
   ]
  },
  {
   "cell_type": "code",
   "execution_count": 1,
   "metadata": {},
   "outputs": [],
   "source": [
    "COLLABORATORS = \"me myself and I\""
   ]
  },
  {
   "cell_type": "markdown",
   "metadata": {},
   "source": [
    "---"
   ]
  },
  {
   "cell_type": "code",
   "execution_count": 2,
   "metadata": {},
   "outputs": [],
   "source": [
    "from __future__ import print_function\n",
    "%matplotlib inline\n",
    "%precision 16\n",
    "import numpy\n",
    "import matplotlib.pyplot as plt\n",
    "from scipy.integrate import solve_ivp\n",
    "from scipy.optimize import root_scalar\n",
    "from scipy.sparse import identity"
   ]
  },
  {
   "cell_type": "markdown",
   "metadata": {
    "deletable": false,
    "editable": false,
    "nbgrader": {
     "cell_type": "markdown",
     "checksum": "fbe5d3559b16bc51c3a877d03b1c03a3",
     "grade": false,
     "grade_id": "cell-6282430347078978",
     "locked": true,
     "schema_version": 3,
     "solution": false
    }
   },
   "source": [
    "# HW 6:  ODE Methods - Boundary Value Problems\n",
    "\n",
    "This homework will combine a lot of previous codes to solve simple linear and non-linear Boundary value problems\n",
    "\n",
    "This problem set has two questions"
   ]
  },
  {
   "cell_type": "markdown",
   "metadata": {
    "deletable": false,
    "editable": false,
    "nbgrader": {
     "cell_type": "markdown",
     "checksum": "f5d65d046b5e97039def75327a92f976",
     "grade": false,
     "grade_id": "cell-97c426ce43130f77",
     "locked": true,
     "schema_version": 3,
     "solution": false,
     "task": false
    }
   },
   "source": [
    "## Question 1 - A linear ODE BVP\n",
    "\n",
    "Consider the *linear* non-homogeneous 2-pt boundary value problem\n",
    "\n",
    "$$\n",
    "    u^{\\prime\\prime}+ u = \\sin3x\\quad\\quad x\\in[0,L],\\quad u(0)=u(L)=0\n",
    "$$\n",
    "\n",
    "which is related to the modes of vibration of a forced string of length $L$."
   ]
  },
  {
   "cell_type": "markdown",
   "metadata": {
    "deletable": false,
    "editable": false,
    "nbgrader": {
     "cell_type": "markdown",
     "checksum": "1b49e1dd9947cd6b6f2ab235740d8bbd",
     "grade": false,
     "grade_id": "cell-d57d5cccd5fe437a",
     "locked": true,
     "schema_version": 3,
     "solution": false,
     "task": false
    }
   },
   "source": [
    "**(a)** [6] Find an analytic solution to this problem for general $L$ (hint:\n",
    "  remember your basic ODE's for constant-coefficient problems).  Is\n",
    "  this solution unique?"
   ]
  },
  {
   "cell_type": "markdown",
   "metadata": {
    "deletable": false,
    "hide_input": true,
    "nbgrader": {
     "cell_type": "markdown",
     "checksum": "8fe0a03958de833b2da0d36686cf19de",
     "grade": true,
     "grade_id": "cell-78f1cbd4419916a6",
     "locked": false,
     "points": 6,
     "schema_version": 3,
     "solution": true,
     "task": false
    }
   },
   "source": [
    "## Answer to Question 1 (a)\n",
    "\n",
    "In order to solve the problem analytically, I first assumed $u(x) = c_1\\sin(x) + c_2\\cos(x) + c_3\\sin(3x) + c_4\\cos(3x)$\n",
    "\n",
    "Since we know that $u(0) = 0$, we then can know $c_2$ and $c_4$ are both 0, $u(x) = c_1\\sin(x) + c_3\\sin(3x) $\n",
    "\n",
    "We then can know $u^{\\prime \\prime} = -c_1\\sin(x) - 9c_3\\sin(3x)$\n",
    "\n",
    "Since we have the equation $u^{\\prime \\prime} + u(x) = \\sin(3x)$, we then can know $-8c_3 = 1 \\implies c_3 = \\frac{-1}{8}$\n",
    "\n",
    "We then substitute the other boundary condition $u(L) = 0$ then can get $0 = c_1\\sin(L) - \\frac{1}{8}\\sin(3L) \\implies c_1 = \\frac{\\sin(3L)}{8\\sin(L)}$\n",
    "\n",
    "We then can know\n",
    "\n",
    "$$\n",
    "u(x) = \\frac{\\sin(3L)}{8\\sin(L)}\\sin(x) - \\frac{1}{8}\\sin(3x)\n",
    "$$\n",
    "\n",
    "The solution is unique when L is given but actually the solution is a function of L and x. lets say solution(L), if you see it in as a function, it is not unique"
   ]
  },
  {
   "cell_type": "markdown",
   "metadata": {
    "deletable": false,
    "editable": false,
    "nbgrader": {
     "cell_type": "markdown",
     "checksum": "c8cc410e3845d7486047d748f8119574",
     "grade": false,
     "grade_id": "cell-e7a7093e0a889a24",
     "locked": true,
     "schema_version": 3,
     "solution": false,
     "task": false
    }
   },
   "source": [
    "**(b)** [4]  create a function `u_true(x,L)` and plot your solution for $L=10$ evaluated on a regularly spaced set of points $\\mathbf{x}$"
   ]
  },
  {
   "cell_type": "code",
   "execution_count": 3,
   "metadata": {
    "deletable": false,
    "nbgrader": {
     "cell_type": "code",
     "checksum": "6f9429ac5a5c064215d8c3c4c99a902f",
     "grade": true,
     "grade_id": "cell-f8a9836fa0894e29",
     "locked": false,
     "points": 4,
     "schema_version": 3,
     "solution": true,
     "task": false
    }
   },
   "outputs": [
    {
     "data": {
      "image/png": "[encoded data removed]",
      "text/plain": [
       "<Figure size 1152x432 with 1 Axes>"
      ]
     },
     "metadata": {
      "needs_background": "light"
     },
     "output_type": "display_data"
    }
   ],
   "source": [
    "L = 10.\n",
    "N = 200\n",
    "x = numpy.linspace(0., L, N)\n",
    "\n",
    "u_true = lambda x, L:(numpy.sin(3*L)/(8*numpy.sin(L))*numpy.sin(x)-1/8*numpy.sin(3*x))\n",
    "\n",
    "fig = plt.figure(figsize=(16,6))\n",
    "axes = fig.add_subplot(1, 1, 1)\n",
    "axes.plot(x, u_true(x,L), 'r', label=\"True\")\n",
    "axes.set_title(\"True Solution to $u_{xx} + u= sin3x$\")\n",
    "axes.set_xlabel(\"x\")\n",
    "axes.set_ylabel(\"u(x)\")\n",
    "axes.grid()\n"
   ]
  },
  {
   "cell_type": "markdown",
   "metadata": {
    "deletable": false,
    "editable": false,
    "nbgrader": {
     "cell_type": "markdown",
     "checksum": "59b51ef2bb9b3df0d2ded9754a2cb4ff",
     "grade": false,
     "grade_id": "cell-28b8298c72a5a12c",
     "locked": true,
     "schema_version": 3,
     "solution": false,
     "task": false
    }
   },
   "source": [
    "**(b)** [8] Write a general shooting algorithm that combines the two scipy routines\n",
    "\n",
    "* scipy.integrate.solve_ivp\n",
    "* scipy.optimized.root_scalar\n",
    "\n",
    "and returns the solution evaluated at an evenly spaced set of points $\\mathbf{x}$.  \n",
    "\n",
    "Some hints\n",
    "\n",
    "* use `dense_output = True` in solve_ivp\n",
    "* you can introduce a second def within shoot_bvp for use in root_scalar\n",
    "\n",
    "For convenience (and testing), I've provided the interface introduced in class for a routine that can handle a range of boundary conditions and can control relative and absolute tolerance."
   ]
  },
  {
   "cell_type": "code",
   "execution_count": 4,
   "metadata": {
    "deletable": false,
    "nbgrader": {
     "cell_type": "code",
     "checksum": "3438c513390e7dd6a4438c83b2c292b9",
     "grade": false,
     "grade_id": "cell-0faef9786658c554",
     "locked": false,
     "schema_version": 3,
     "solution": true,
     "task": false
    }
   },
   "outputs": [],
   "source": [
    "#  write a general shooting algorithm\n",
    "\n",
    "from scipy.integrate import solve_ivp\n",
    "from scipy.optimize import root_scalar\n",
    "\n",
    "def shoot_bvp(f, x, u_a, u_b, i_a, i_b, rtol=1.e-5, atol=1.e-9):\n",
    "    \"\"\"\n",
    "    Solve the two-point boundary value problem on the interval x\\in [a,b], using a shooting method that combines \n",
    "        scipy.integrate.solve_ivp and scipy.optimize.root_scalar and allows a range of boundary conditions\n",
    "        \n",
    "        \n",
    "    parameters:\n",
    "    -----------\n",
    "    f: calleable \n",
    "        vector value function for righthand side of the ODE with interface f(t,u). returns ndarray of length 2\n",
    "    x: numpy array\n",
    "        coordinates array for solution  on interval [a,b] with x[0] = a, x[-1] = b\n",
    "    u_a:  numpy array (length 2)\n",
    "        provide initial boundary conditions  [u, u' ] at x=a\n",
    "    u_b:  numpy array (length 2)\n",
    "        target boundary condition at x = b\n",
    "    i_a: integer\n",
    "        index of known boundary condition at x = a.  i.e.\n",
    "        if dirichlet conditions : i_a = 0 and u(a) is known  \n",
    "        if neumann conditions   : i_a = 1 and u'(a) is known\n",
    "        the complementary index is adjusted to match the boundary condition at b\n",
    "    i_b: integer\n",
    "        index of known boundary condition at x = b. i.e.\n",
    "        if dirichlet conditions : i_b = 0 and u(b) is known  \n",
    "        if neumann conditions   : i_b = 1 and u'(b) is known\n",
    "        the complementary index is ignored at b\n",
    "    rtol:  float\n",
    "        relative tolerance\n",
    "    atol:  float\n",
    "        absolute tolerance\n",
    "        \n",
    "    returns:\n",
    "    --------\n",
    "    u: solution u(x) for x (uses dense_output from solve_ivp to interpolate solution onto x)\n",
    "    \"\"\"\n",
    "    \n",
    "    def udiff(u_var):\n",
    "        \"\"\"\n",
    "            Solves the IVP problem using solve_ivp with adjustable initial condition u_var \n",
    "            and returns the difference between sol.y[ib] - u_b[ib]\n",
    "            \n",
    "        \"\"\"\n",
    "        u_a = [0.0, u_var]\n",
    "        \n",
    "        sol_ivp = solve_ivp(f, [x[0], x[-1]] ,u_a, rtol=1.e-6, atol=1.e-9,dense_output = True)\n",
    "        \n",
    "        return sol_ivp.y[0][-1]-u_b\n",
    "    \n",
    "\n",
    "    sol_root = root_scalar(udiff, bracket=[-10,10], method = 'brentq',rtol=1.e-6, xtol=1.e-9)\n",
    "    \n",
    "    sol_ivp = solve_ivp(f, [x[0], x[-1]] ,[u_a, sol_root.root], rtol=1.e-6, atol=1.e-9,dense_output = True)\n",
    "    \n",
    "    return sol_ivp"
   ]
  },
  {
   "cell_type": "markdown",
   "metadata": {
    "deletable": false,
    "editable": false,
    "nbgrader": {
     "cell_type": "markdown",
     "checksum": "609dee8359595fe3d603c4b8f69cef00",
     "grade": false,
     "grade_id": "cell-ac342e3055e81254",
     "locked": true,
     "schema_version": 3,
     "solution": false,
     "task": false
    }
   },
   "source": [
    "**(c)** [4] rewrite the original problem \n",
    "\n",
    "$$\n",
    "    u^{\\prime\\prime} + u = \\sin(3x)\n",
    "$$\n",
    "\n",
    "as a system of first order ODE's\n",
    "\n",
    "$$\n",
    "    \\frac{d\\mathbf{v}}{dx} = \\mathbf{f}(x,\\mathbf{v})\n",
    "$$  \n",
    "\n",
    "and solve using the interface\n",
    "\n",
    "`u_sol = shoot_bvp(f, x, u_a, u_b, i_a, i_b)`\n",
    "\n",
    "* make a plot comparing your shooting solution with the true solution."
   ]
  },
  {
   "cell_type": "code",
   "execution_count": 14,
   "metadata": {
    "deletable": false,
    "nbgrader": {
     "cell_type": "code",
     "checksum": "f68c61daca6974c31c190d8332fb0308",
     "grade": true,
     "grade_id": "cell-ca6e0c8df676bf6b",
     "locked": false,
     "points": 4,
     "schema_version": 3,
     "solution": true,
     "task": false
    }
   },
   "outputs": [
    {
     "data": {
      "image/png": "[encoded data removed]",
      "text/plain": [
       "<Figure size 576x432 with 1 Axes>"
      ]
     },
     "metadata": {
      "needs_background": "light"
     },
     "output_type": "display_data"
    }
   ],
   "source": [
    "#  write a general shooting algorithm\n",
    "\n",
    "a = 0.0\n",
    "b = 10.0\n",
    "L = 10.0\n",
    "N = 100\n",
    "x = numpy.linspace(a, b, N)\n",
    "u_a = 0.0\n",
    "u_b = 0.0\n",
    "i_a = 0\n",
    "i_b = 0\n",
    "\n",
    "u_true = lambda x, L:(numpy.sin(3*L)/(8*numpy.sin(L))*numpy.sin(x)-1/8*numpy.sin(3*x))\n",
    "\n",
    "# RHS function\n",
    "def f(x, u):\n",
    "    return numpy.array([u[1], numpy.sin(3*x)-u[0]])\n",
    "\n",
    "u_sol = shoot_bvp(f, x, u_a, u_b, i_a, i_b, rtol=1.e-6, atol=1.e-9).sol(x)[0]\n",
    "\n",
    "# Plotting\n",
    "fig = plt.figure(figsize=(8,6))\n",
    "axes = fig.add_subplot(1, 1, 1)\n",
    "axes.plot(x, u_sol, 'o', label = \"Solution\")\n",
    "axes.plot(x, u_true(x,L), 'r', label=\"True\")\n",
    "axes.set_title(\"True Solution and Shooting Solution comparison\")\n",
    "axes.set_xlabel(\"x\")\n",
    "axes.set_ylabel(\"u(x)\")\n",
    "axes.legend(loc = 'best')\n",
    "axes.grid()"
   ]
  },
  {
   "cell_type": "markdown",
   "metadata": {
    "deletable": false,
    "editable": false,
    "nbgrader": {
     "cell_type": "markdown",
     "checksum": "27e60582069c6f73b8f2f51d0df2992d",
     "grade": false,
     "grade_id": "cell-41ae76f60e3f99ae",
     "locked": true,
     "schema_version": 3,
     "solution": false,
     "task": false
    }
   },
   "source": [
    "The following cell tests your shooting code against the true solution.  Adjust the relative and absolute tolerances in shoot_bvp, to make sure the following test passes with relative error $<10^{-6}$"
   ]
  },
  {
   "cell_type": "code",
   "execution_count": 6,
   "metadata": {
    "deletable": false,
    "editable": false,
    "nbgrader": {
     "cell_type": "code",
     "checksum": "f075b26db00cc6dcf50debbfa24c6957",
     "grade": true,
     "grade_id": "cell-b091d3210fd80d9e",
     "locked": true,
     "points": 8,
     "schema_version": 3,
     "solution": false,
     "task": false
    }
   },
   "outputs": [
    {
     "name": "stdout",
     "output_type": "stream",
     "text": [
      "relative error = 3.729145791793941e-07\n",
      "success\n"
     ]
    }
   ],
   "source": [
    "#  test the solution against the true solution and pass if relative error < 1.e-6\n",
    "\n",
    "rel_err = numpy.linalg.norm(u_sol - u_true(x,L))/numpy.linalg.norm(u_true(x,L))\n",
    "print('relative error = {}'.format(rel_err))\n",
    "\n",
    "assert(rel_err < 1.e-6)\n",
    "print('success')"
   ]
  },
  {
   "cell_type": "markdown",
   "metadata": {
    "deletable": false,
    "editable": false,
    "nbgrader": {
     "cell_type": "markdown",
     "checksum": "d1c7eaff21ee1e51bd6c45ff05f13ec8",
     "grade": false,
     "grade_id": "cell-7ec628ae6be5fcc2",
     "locked": true,
     "schema_version": 3,
     "solution": false,
     "task": false
    }
   },
   "source": [
    "**(d)** [8] Repeat the exercise but use the 2nd order finite difference methods introduced in class.  For convenience I have provided the routines for assembly of sparse 2nd derivative matrices and RHS from class.  "
   ]
  },
  {
   "cell_type": "code",
   "execution_count": 7,
   "metadata": {},
   "outputs": [],
   "source": [
    "# routines from class for generating 2nd order sparse second derivative operator and RHS vector\n",
    "\n",
    "from fdcoeffV import fdcoeffV\n",
    "from scipy.sparse import lil_matrix, identity, spdiags\n",
    "from scipy.sparse.linalg import spsolve\n",
    "\n",
    "def D2(x,bcs=['dirichlet', 'dirichlet']):\n",
    "    \"\"\"  \n",
    "        Assemble a general sparse second-order finite-difference approximation to d/dx^2 on a possibly irregular mesh\n",
    "        First and last rows are set by string bcs\n",
    "        \n",
    "        parameters:\n",
    "        -----------\n",
    "        x: numpy.array\n",
    "            mesh coordinates\n",
    "        bcs: list of strings for boundary conditions e.g [left_string, right_string] where\n",
    "            the strings can be either 'dirichlet' or 'neumann'\n",
    "    \"\"\"\n",
    "    N = len(x)\n",
    "    A = lil_matrix((N,N))\n",
    "    if bcs[0] == 'dirichlet':\n",
    "        A[0,0] = 1.\n",
    "    elif bcs[0] == 'neumann':\n",
    "        A[0,0:3] = fdcoeffV(1,x[0],x[:3])\n",
    "    else:\n",
    "        raise ValueError('no known BC type for left boundary {}'.format(bcs[0]))\n",
    "        \n",
    "    if bcs[1] == 'dirichlet':\n",
    "        A[-1,-1] = 1.\n",
    "    elif bcs[1] == 'neumann':\n",
    "        A[-1,-3:] = fdcoeffV(1,x[-1],x[-3:])\n",
    "    else:\n",
    "        raise ValueError('no known BC type for right boundary {}'.format(bcs[1]))\n",
    "        \n",
    "    for i in range(1,N-1):\n",
    "        A[i, i-1:i+2] = fdcoeffV(2, x[i], x[i-1:i+2] )        \n",
    "    return A.tocsr()\n",
    "\n",
    "def RHS(x, f, bvalues):\n",
    "    \"\"\" Set the rhs vector\n",
    "    \n",
    "        parameters\n",
    "        ----------\n",
    "        x: numpy.array\n",
    "            mesh coordinates\n",
    "        f: callable\n",
    "            rhs function for interior points called on f(x[1:-2])\n",
    "        bvalues:  numpy.array (len 2)\n",
    "            values for boundary conditions (either dirichlet or neumann)        \n",
    "    \"\"\"\n",
    "    \n",
    "    N = len(x)\n",
    "    rhs = numpy.empty(N)\n",
    "    rhs[[0, N-1]] = bvalues\n",
    "    rhs[1:-1] = f(x[1:-1])\n",
    "    \n",
    "    return rhs\n",
    "    "
   ]
  },
  {
   "cell_type": "markdown",
   "metadata": {
    "deletable": false,
    "editable": false,
    "nbgrader": {
     "cell_type": "markdown",
     "checksum": "e809927a123befde771a8fc4ba8aae3a",
     "grade": false,
     "grade_id": "cell-ca2ebfc8a33b923b",
     "locked": true,
     "schema_version": 3,
     "solution": false,
     "task": false
    }
   },
   "source": [
    "Create a well-labeled convergence plot showing the relative error \n",
    "\n",
    "$$\n",
    "    e_{rel} = \\frac{|| u - u_{true} ||}{||u_{true}||}\n",
    "$$\n",
    "\n",
    "as a function of grid spacing $\\Delta x$\n",
    "\n",
    "This plot should calculate and show\n",
    "\n",
    "* rate of convergence of error (i.e. find $p$ such that $e_{rel}\\propto \\Delta x^p$)\n",
    "* an estimate of the  number of grid points $N$ required for the relative error to be $\\leq 10^{-6}$\n",
    "* the relative error at this smallest mesh spacing"
   ]
  },
  {
   "cell_type": "code",
   "execution_count": 8,
   "metadata": {
    "deletable": false,
    "nbgrader": {
     "cell_type": "code",
     "checksum": "13e0788b321186d7814f5c858e9069f7",
     "grade": true,
     "grade_id": "cell-7cd66462aa6317ed",
     "locked": false,
     "points": 8,
     "schema_version": 3,
     "solution": true,
     "task": false
    }
   },
   "outputs": [
    {
     "data": {
      "image/png": "[encoded data removed]",
      "text/plain": [
       "<Figure size 576x432 with 1 Axes>"
      ]
     },
     "metadata": {
      "needs_background": "light"
     },
     "output_type": "display_data"
    }
   ],
   "source": [
    "# Make a well labeled convergence plot that shows convergence rate of relative error vs grid spacing\n",
    "\n",
    "a = 0.0\n",
    "b = 10.0\n",
    "L = 10.0\n",
    "N = 100\n",
    "x = numpy.linspace(a, b, N)\n",
    "u_a = 0.0\n",
    "u_b = 0.0\n",
    "i_a = 0\n",
    "i_b = 0\n",
    "\n",
    "u_true = lambda x:(numpy.sin(3*L)/(8*numpy.sin(L))*numpy.sin(x)-1/8*numpy.sin(3*x))\n",
    "\n",
    "N = [ 2**n for n in range(3,10) ]\n",
    "rel_err = numpy.empty(len(N))\n",
    "delta_x = numpy.empty(len(N))\n",
    "\n",
    "f_sin = lambda x: numpy.sin(3*x)\n",
    "\n",
    "for i,n in enumerate(N):\n",
    "    x = numpy.linspace(a, b, n)\n",
    "    A = D2(x) + identity(n)\n",
    "    A[0,0] = 1.0\n",
    "    A[-1,-1] = 1.0\n",
    "    f = RHS(x, f_sin, [0., 0. ])\n",
    "    u = spsolve(A,f)\n",
    "    rel_err[i] = numpy.linalg.norm(u - u_true(x))/numpy.linalg.norm(u_true(x))\n",
    "    delta_x[i] = x[1] - x[0]\n",
    "    \n",
    "\n",
    "# calculate best fit slope and Plot result\n",
    "\n",
    "p = numpy.polyfit(numpy.log(delta_x),numpy.log(rel_err),1)\n",
    "dx = numpy.logspace(numpy.log10(delta_x[0]),numpy.log10(delta_x[-1]),100)\n",
    "err = numpy.exp(p[1])*dx**p[0]\n",
    "fig = plt.figure(figsize=(8,6))\n",
    "axes = fig.add_subplot(1, 1, 1)\n",
    "axes.loglog(delta_x, rel_err, 'o',label='error', markersize=10 )\n",
    "axes.loglog(dx,err,'r--',label=\"p={}\".format(p[0]))\n",
    "axes.set_title(\"Convergence\")\n",
    "axes.set_xlabel(\"$\\Delta x$\")\n",
    "axes.set_ylabel(\"$||u - u_{true}||/||u_{true}||$\")\n",
    "axes.legend(loc='best')\n",
    "axes.grid()\n",
    "\n",
    "\n",
    "plt.show()"
   ]
  },
  {
   "cell_type": "markdown",
   "metadata": {
    "deletable": false,
    "editable": false,
    "nbgrader": {
     "cell_type": "markdown",
     "checksum": "1440d1fde90a7306e787735c1341406e",
     "grade": false,
     "grade_id": "cell-99a38b15c1ba164b",
     "locked": true,
     "schema_version": 3,
     "solution": false,
     "task": false
    }
   },
   "source": [
    "### Some themes and variations\n",
    "\n",
    "This is meant to be a short problem set, but there are many other things to try if you are interested.\n",
    "\n",
    "* Try this problem using Galerkin Finite Elements.  \n",
    "* Try modifying the matrices to use higher order Finite difference schemes (i.e. 4th order schemes)\n",
    "* Compare timing between Finite Difference and shooting schemes for the same order of accuracy\n"
   ]
  },
  {
   "cell_type": "markdown",
   "metadata": {
    "deletable": false,
    "editable": false,
    "nbgrader": {
     "cell_type": "markdown",
     "checksum": "81147ddd5a7cf767c359d403baa21f87",
     "grade": false,
     "grade_id": "cell-c54586fa263cc449",
     "locked": true,
     "schema_version": 3,
     "solution": false,
     "task": false
    }
   },
   "source": [
    "## Question 2 - Non-Linear Fun\n",
    "\n",
    "try to solve the related  **non-linear** 2-point boundary value problem\n",
    "\n",
    "$$\n",
    "u^{\\prime\\prime}+\\sin(u)=\\sin(3x),\\quad x\\in[0,10],\\quad u(0)=u(10)=0\n",
    "$$\n",
    "\n",
    "using  finite-difference plus Newton's method. For convenience, I've added the Newton Solver for sparse jacobians from the notes"
   ]
  },
  {
   "cell_type": "code",
   "execution_count": 9,
   "metadata": {},
   "outputs": [],
   "source": [
    "# a Newton Solver for sparse matrices\n",
    "def newton(F,J,x0,tol=1.e-6,MAX_ITS=100,verbose=True):\n",
    "    \"\"\" Solve F(x) = 0 using Newton's method until ||F(x)|| < tol or reaches Max iterations\n",
    "    \n",
    "    Params:\n",
    "    -------\n",
    "        F: calleable: \n",
    "            Function returning residual F(x)\n",
    "        J: calleable\n",
    "            Function returning Jacobian J(x)\n",
    "        tol: float\n",
    "            stopping criteria for ||F|| < tol\n",
    "        MAX_ITS: integer\n",
    "            maximum number of iterations\n",
    "        verbose: bool\n",
    "            if true spits out norm of the residual at each iteration\n",
    "    \n",
    "    Returns:\n",
    "    --------\n",
    "        x: numpy.array\n",
    "            solution\n",
    "        k: int\n",
    "            number of iterations\n",
    "    \n",
    "    Raises:\n",
    "    -----------\n",
    "        ValueError if number of its exceeds MAX_ITS\n",
    "    \n",
    "    \"\"\"\n",
    "    x = x0 \n",
    "    for k in range(MAX_ITS+1):\n",
    "        res = numpy.linalg.norm(F(x))\n",
    "        if verbose:\n",
    "            print('k = {}, ||F|| = {}'.format(k,res))\n",
    "        if res < tol: \n",
    "            return x, k\n",
    "        delta = spsolve(J(x),-F(x))\n",
    "        x += delta\n",
    "        \n",
    "    raise ValueError('Maximum number of iterations exceeded {}'.format(MAX_ITS))"
   ]
  },
  {
   "cell_type": "markdown",
   "metadata": {
    "deletable": false,
    "editable": false,
    "nbgrader": {
     "cell_type": "markdown",
     "checksum": "06a0d4ab391c3a25323c9a92debaea77",
     "grade": false,
     "grade_id": "cell-dd9d7792263258d8",
     "locked": true,
     "schema_version": 3,
     "solution": false,
     "task": false
    }
   },
   "source": [
    "**(a)** [4 pt]  Solve the problem for an initial guess\n",
    "$u_0=0$. For this problem you will need to\n",
    "\n",
    "* create a function to return the residual $\\mathbf{F}(\\mathbf{u})$\n",
    "* create a function to return the Jacobian $J(\\mathbf{u})$\n",
    "* use `verbose=True` to see the convergence behavior of Newton\n",
    "* produce a plot showing the solution and labeled with the number of newton iterations and final residual norm $||\\mathbf{F}(\\mathbf{u})||$\n",
    "\n",
    "**Note:**  To choose a reasonable number of grid points, use your results from Question 1 and choose a mesh size such that the linear problem returns a relative error $< 10^{-3}$"
   ]
  },
  {
   "cell_type": "code",
   "execution_count": 10,
   "metadata": {
    "deletable": false,
    "nbgrader": {
     "cell_type": "code",
     "checksum": "666e215304384d9c7ecbb73ed299d1e4",
     "grade": true,
     "grade_id": "cell-1ca065b824f2cbb0",
     "locked": false,
     "points": 4,
     "schema_version": 3,
     "solution": true,
     "task": false
    }
   },
   "outputs": [
    {
     "name": "stdout",
     "output_type": "stream",
     "text": [
      "k = 0, ||F|| = 14.142965796073474\n",
      "k = 1, ||F|| = 0.05660516849639772\n",
      "k = 2, ||F|| = 0.0016089098656531398\n",
      "k = 3, ||F|| = 2.1795993913228956e-06\n"
     ]
    }
   ],
   "source": [
    "N = 400\n",
    "x = numpy.linspace(0.,10.,N)\n",
    "A = D2(x)\n",
    "\n",
    "# wondered whether my F and J were right\n",
    "\n",
    "def F(u):\n",
    "    f =  A.dot(u) + numpy.sin(u) - numpy.sin(3*x)\n",
    "    # set residual to 0 on dirichlet BCs\n",
    "    f[[0,-1]] = 0\n",
    "    \n",
    "    return f\n",
    "    \n",
    "def J(u):\n",
    "    \n",
    "    n = len(u)\n",
    "    \n",
    "    return A + spdiags(numpy.cos(u),0,n,n)\n",
    "    \n",
    "u0 = numpy.linspace(0.,0.,N)\n",
    "\n",
    "sol, its = newton(F,J,u0,tol=1.e-3,MAX_ITS=100,verbose=True)"
   ]
  },
  {
   "cell_type": "code",
   "execution_count": 11,
   "metadata": {},
   "outputs": [
    {
     "data": {
      "image/png": "[encoded data removed]",
      "text/plain": [
       "<Figure size 576x432 with 1 Axes>"
      ]
     },
     "metadata": {
      "needs_background": "light"
     },
     "output_type": "display_data"
    }
   ],
   "source": [
    "fig = plt.figure(figsize=(8,6))\n",
    "axes = fig.add_subplot(1,1,1)\n",
    "\n",
    "axes.plot(x,sol,label='$k={}$'.format(its))\n",
    "axes.legend(loc='best')\n",
    "axes.set_title('k = 3, ||F|| = 2.4366898003184574e-06')\n",
    "axes.set_xlabel('x')\n",
    "axes.set_ylabel('u')\n",
    "axes.grid()\n",
    "plt.show()"
   ]
  },
  {
   "cell_type": "markdown",
   "metadata": {
    "deletable": false,
    "editable": false,
    "nbgrader": {
     "cell_type": "markdown",
     "checksum": "68a421cae08541a106a3f77786fd669c",
     "grade": false,
     "grade_id": "cell-273021c1878d0b00",
     "locked": true,
     "schema_version": 3,
     "solution": false,
     "task": false
    }
   },
   "source": [
    "**(b)**  Is your solution unique?  Try starting newton from different\n",
    "  periodic initial conditions \n",
    "  \n",
    "  $$\n",
    "      u_0(x) = \\sin\\left[\\frac{n\\pi x}{L}\\right]\n",
    "  $$ \n",
    "  \n",
    "  for $n\\in[0,6]$ that all satisfy the homogeneous boundary conditions. \n",
    "  \n",
    "  Make two plots. \n",
    "  \n",
    "  1. The first shows solutions for different values of $n$\n",
    "  1. The second plots the residual $\\mathbf{F}(\\mathbf{u})$ to show that at least the discrete ODE is satisfied\n",
    "  \n",
    " Welcome to the wonderful world of non-linear equations. Can you find any other solutions?"
   ]
  },
  {
   "cell_type": "code",
   "execution_count": 12,
   "metadata": {
    "deletable": false,
    "nbgrader": {
     "cell_type": "code",
     "checksum": "c22c044ae08789ed040f660d30f31df8",
     "grade": true,
     "grade_id": "cell-9c688399c72e251a",
     "locked": false,
     "points": 6,
     "schema_version": 3,
     "solution": true,
     "task": false
    }
   },
   "outputs": [
    {
     "name": "stdout",
     "output_type": "stream",
     "text": [
      "k = 0, ||F|| = 14.142965796073474\n",
      "k = 1, ||F|| = 0.05660516849639772\n",
      "k = 2, ||F|| = 0.0016089098656531398\n",
      "k = 3, ||F|| = 2.1795993913228956e-06\n",
      "k = 0, ||F|| = 17.877331186055873\n",
      "k = 1, ||F|| = 2.893701200182174\n",
      "k = 2, ||F|| = 0.26517817322867615\n",
      "k = 3, ||F|| = 0.009408199170947264\n",
      "k = 4, ||F|| = 2.3261358128106746e-05\n",
      "k = 0, ||F|| = 15.844242465796198\n",
      "k = 1, ||F|| = 6.671463853406089\n",
      "k = 2, ||F|| = 3.446009734125377\n",
      "k = 3, ||F|| = 0.6219781476655102\n",
      "k = 4, ||F|| = 0.06293980279717759\n",
      "k = 5, ||F|| = 0.0010017120452104245\n",
      "k = 6, ||F|| = 2.998992236762371e-07\n",
      "k = 0, ||F|| = 13.847615445769632\n",
      "k = 1, ||F|| = 0.2092438345704981\n",
      "k = 2, ||F|| = 0.02091126328195706\n",
      "k = 3, ||F|| = 0.000557541667299842\n",
      "k = 0, ||F|| = 16.917579797134504\n",
      "k = 1, ||F|| = 2.1467130292331165\n",
      "k = 2, ||F|| = 0.4139512401417462\n",
      "k = 3, ||F|| = 0.06564247275407822\n",
      "k = 4, ||F|| = 0.0028040911507234926\n",
      "k = 5, ||F|| = 6.438455341098699e-06\n",
      "k = 0, ||F|| = 27.0919695681952\n",
      "k = 1, ||F|| = 3.031502168231199\n",
      "k = 2, ||F|| = 0.12805159852073703\n",
      "k = 3, ||F|| = 0.0004083602438916832\n",
      "k = 0, ||F|| = 39.38647170092628\n",
      "k = 1, ||F|| = 3.0227216597653785\n",
      "k = 2, ||F|| = 0.09638037110533203\n",
      "k = 3, ||F|| = 4.300153326657538e-05\n"
     ]
    },
    {
     "data": {
      "image/png": "[encoded data removed]",
      "text/plain": [
       "<Figure size 576x432 with 1 Axes>"
      ]
     },
     "metadata": {
      "needs_background": "light"
     },
     "output_type": "display_data"
    }
   ],
   "source": [
    "sol_total = []\n",
    "its_total = []\n",
    "fig = plt.figure(figsize=(8,6))\n",
    "for n in range(7):\n",
    "    \n",
    "    u0 = numpy.sin(n*numpy.pi*numpy.linspace(0.,10.,N) / 10)\n",
    "\n",
    "    sol, its = newton(F,J,u0,tol=1.e-3,MAX_ITS=100,verbose=True)\n",
    "    \n",
    "    sol_total.append(sol)\n",
    "    its_total.append(its)\n",
    "axes = fig.add_subplot(1,1,1)\n",
    "for i in range(7):\n",
    "    axes.plot(x,sol_total[i],label='$k={}, n = {}$'.format(its_total[i], i))\n",
    "axes.legend(loc='best')\n",
    "axes.set_xlabel('x')\n",
    "axes.set_ylabel('u')\n",
    "axes.grid()\n",
    "plt.show()   \n",
    "\n"
   ]
  },
  {
   "cell_type": "code",
   "execution_count": 13,
   "metadata": {},
   "outputs": [
    {
     "name": "stdout",
     "output_type": "stream",
     "text": [
      "k = 0, ||F|| = 14.142965796073474\n",
      "k = 1, ||F|| = 0.05660516849639772\n",
      "k = 2, ||F|| = 0.0016089098656531398\n",
      "k = 3, ||F|| = 2.1795993913228956e-06\n",
      "k = 0, ||F|| = 17.877331186055873\n",
      "k = 1, ||F|| = 2.893701200182174\n",
      "k = 2, ||F|| = 0.26517817322867615\n",
      "k = 3, ||F|| = 0.009408199170947264\n",
      "k = 4, ||F|| = 2.3261358128106746e-05\n",
      "k = 0, ||F|| = 15.844242465796198\n",
      "k = 1, ||F|| = 6.671463853406089\n",
      "k = 2, ||F|| = 3.446009734125377\n",
      "k = 3, ||F|| = 0.6219781476655102\n",
      "k = 4, ||F|| = 0.06293980279717759\n",
      "k = 5, ||F|| = 0.0010017120452104245\n",
      "k = 6, ||F|| = 2.998992236762371e-07\n",
      "k = 0, ||F|| = 13.847615445769632\n",
      "k = 1, ||F|| = 0.2092438345704981\n",
      "k = 2, ||F|| = 0.02091126328195706\n",
      "k = 3, ||F|| = 0.000557541667299842\n",
      "k = 0, ||F|| = 16.917579797134504\n",
      "k = 1, ||F|| = 2.1467130292331165\n",
      "k = 2, ||F|| = 0.4139512401417462\n",
      "k = 3, ||F|| = 0.06564247275407822\n",
      "k = 4, ||F|| = 0.0028040911507234926\n",
      "k = 5, ||F|| = 6.438455341098699e-06\n",
      "k = 0, ||F|| = 27.0919695681952\n",
      "k = 1, ||F|| = 3.031502168231199\n",
      "k = 2, ||F|| = 0.12805159852073703\n",
      "k = 3, ||F|| = 0.0004083602438916832\n",
      "k = 0, ||F|| = 39.38647170092628\n",
      "k = 1, ||F|| = 3.0227216597653785\n",
      "k = 2, ||F|| = 0.09638037110533203\n",
      "k = 3, ||F|| = 4.300153326657538e-05\n"
     ]
    },
    {
     "data": {
      "image/png": "[encoded data removed]",
      "text/plain": [
       "<Figure size 576x432 with 1 Axes>"
      ]
     },
     "metadata": {
      "needs_background": "light"
     },
     "output_type": "display_data"
    }
   ],
   "source": [
    "res_total = []\n",
    "\n",
    "for n in range(7):\n",
    "    u0 = numpy.sin(n*numpy.pi*numpy.linspace(0.,10.,N) / 10)\n",
    "    sol, its = newton(F,J,u0,tol=1.e-3,MAX_ITS=100,verbose=True)\n",
    "    res_total.append(numpy.linalg.norm(F(sol)))\n",
    "\n",
    "fig = plt.figure(figsize=(8,6))\n",
    "axes = fig.add_subplot(1,1,1)\n",
    "\n",
    "axes.plot([0,1,2,3,4,5,6],res_total,'r')\n",
    "\n",
    "axes.set_xlabel('x')\n",
    "axes.set_ylabel('F(u)')\n",
    "axes.grid()\n",
    "plt.show()  "
   ]
  },
  {
   "cell_type": "code",
   "execution_count": null,
   "metadata": {},
   "outputs": [],
   "source": []
  },
  {
   "cell_type": "markdown",
   "metadata": {
    "deletable": false,
    "editable": false,
    "nbgrader": {
     "cell_type": "markdown",
     "checksum": "9314d25abc2055783143bcea7e2ff106",
     "grade": false,
     "grade_id": "cell-6c6b18dc3ded9f8a",
     "locked": true,
     "schema_version": 3,
     "solution": false,
     "task": false
    }
   },
   "source": [
    "### Extra Fun\n",
    "\n",
    "Use your shooting routines to systematically search for non-linear solutions to this BVP problem by varying the initial guess for the initial slope $u'(0)$. How many solutions can you find?"
   ]
  },
  {
   "cell_type": "code",
   "execution_count": null,
   "metadata": {},
   "outputs": [],
   "source": []
  }
 ],
 "metadata": {
  "kernelspec": {
   "display_name": "Python 3",
   "language": "python",
   "name": "python3"
  },
  "language_info": {
   "codemirror_mode": {
    "name": "ipython",
    "version": 3
   },
   "file_extension": ".py",
   "mimetype": "text/x-python",
   "name": "python",
   "nbconvert_exporter": "python",
   "pygments_lexer": "ipython3",
   "version": "3.8.8"
  },
  "latex_envs": {
   "bibliofile": "biblio.bib",
   "cite_by": "apalike",
   "current_citInitial": 1,
   "eqLabelWithNumbers": true,
   "eqNumInitial": 0
  }
 },
 "nbformat": 4,
 "nbformat_minor": 4
}
