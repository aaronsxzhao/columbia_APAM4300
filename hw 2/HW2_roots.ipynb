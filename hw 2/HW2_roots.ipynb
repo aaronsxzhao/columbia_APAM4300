{
 "cells": [
  {
   "cell_type": "markdown",
   "metadata": {},
   "source": [
    "Before you turn this problem in, make sure everything runs as expected. First, **restart the kernel** (in the menubar, select Kernel$\\rightarrow$Restart) and then **run all cells** (in the menubar, select Cell$\\rightarrow$Run All).\n",
    "\n",
    "Make sure you fill in any place that says `YOUR CODE HERE` or \"YOUR ANSWER HERE\", as well as any collaborators you worked with:"
   ]
  },
  {
   "cell_type": "code",
   "execution_count": 1,
   "metadata": {},
   "outputs": [],
   "source": [
    "COLLABORATORS = \"me myself and i\""
   ]
  },
  {
   "cell_type": "markdown",
   "metadata": {},
   "source": [
    "---"
   ]
  },
  {
   "cell_type": "code",
   "execution_count": 2,
   "metadata": {},
   "outputs": [],
   "source": [
    "from __future__ import print_function\n",
    "import numpy\n",
    "import matplotlib.pyplot as plt\n",
    "import warnings\n",
    "import scipy\n",
    "%matplotlib inline\n",
    "import scipy\n",
    "from scipy.optimize import brentq\n"
   ]
  },
  {
   "cell_type": "markdown",
   "metadata": {
    "deletable": false,
    "editable": false,
    "nbgrader": {
     "cell_type": "markdown",
     "checksum": "16a15b070eb04274387730b373ead3b7",
     "grade": false,
     "grade_id": "cell-7752050701682384",
     "locked": true,
     "schema_version": 3,
     "solution": false
    },
    "tags": []
   },
   "source": [
    "# HW 2:  Root Finding and Optimization"
   ]
  },
  {
   "cell_type": "markdown",
   "metadata": {
    "deletable": false,
    "editable": false,
    "nbgrader": {
     "cell_type": "markdown",
     "checksum": "b1026f6bf86b4386a6355f883f07995b",
     "grade": false,
     "grade_id": "cell-8382527651811313",
     "locked": true,
     "schema_version": 3,
     "solution": false
    }
   },
   "source": [
    "## Question 1 - Fun with Fixed Point iteration\n",
    "\n",
    "Let's say that we wanted to calculate $\\sqrt{M}$ given that $M \\in \\mathbb{R}$ and $M > 0$ and that we did not want to use the function `sqrt` directly.  Consider the function \n",
    "\n",
    "$$\n",
    "    f(x) = x^2 - M\n",
    "$$\n",
    "\n",
    "which has a positive root at at $x=\\sqrt{M}$.   Here we will try to solve this using  fixed point iteration\n",
    "\n",
    "$$\n",
    "    x_{k+1} = g(x_k)\n",
    "$$\n",
    "for several different iteration functions $g(x)$ (see below)\n",
    "\n",
    "For each function $g$:\n",
    "\n",
    "- Confirm analytically that $x=\\sqrt{M}$ is a fixed point of $g(x)$\n",
    "- Analyze the convergence behavior close to the fixed-point *for all values* of $\\sqrt{M}$ and determine the stability of the iterative scheme\n",
    "- Now set $M=3$  and $x_0 = 2$.  Make a nicely labeled convergence plot showing the log of the relative error as a function of iteration number.  If the solution converges: \n",
    "    * Describe the convergence rate (linear, quadratic, etc)\n",
    "    * How many iterations are required to reduce the relative error to machine precision?\n",
    "\n",
    "\n",
    "**Remember**: if you want to write $g^\\prime$, remember to use `g^\\prime` rather than `g'` in $\\LaTeX$ (otherwise nbgrader gets very unhappy)"
   ]
  },
  {
   "cell_type": "markdown",
   "metadata": {
    "deletable": false,
    "editable": false,
    "nbgrader": {
     "cell_type": "markdown",
     "checksum": "47d9ae565a714b67099b1500b01a4250",
     "grade": false,
     "grade_id": "cell-7408468548362671",
     "locked": true,
     "schema_version": 3,
     "solution": false
    }
   },
   "source": [
    "**(a)** [4] To help with the last part,  write a short python function to return N iterations of a fixed point iteration."
   ]
  },
  {
   "cell_type": "code",
   "execution_count": 3,
   "metadata": {
    "deletable": false,
    "nbgrader": {
     "cell_type": "code",
     "checksum": "d129be3e3aef3ba4dfe96d293a5310cb",
     "grade": false,
     "grade_id": "cell-5217816963816529",
     "locked": false,
     "schema_version": 3,
     "solution": true
    }
   },
   "outputs": [],
   "source": [
    "def fixed_point(g, x0, N=5):\n",
    "    \"\"\"conduct N iterations of the fixed point iteration x_{k+1} = g(x_k)\n",
    "    \n",
    "    :Input:\n",
    "        - *g* (function) - The iteration function\n",
    "        - *x_0* (float) - Initial guess\n",
    "        - *N* (int) - number of terms in iteration\n",
    "     \n",
    "    :Output:\n",
    "        x: numpy array (float)\n",
    "            array containing the iterations [ x0, x1, ... x_N ]\n",
    "    \"\"\"\n",
    "    x = numpy.empty(N+1)\n",
    "    x[0] = x0\n",
    "    for i in range(1,N+1):\n",
    "        x[i] = g(x[i-1])\n",
    "    return x    \n",
    "# # YOUR CODE HERE\n",
    "# raise NotImplementedError()"
   ]
  },
  {
   "cell_type": "code",
   "execution_count": 4,
   "metadata": {
    "deletable": false,
    "editable": false,
    "nbgrader": {
     "cell_type": "code",
     "checksum": "62a641c4ff1153c8b1e8e39058a3a5eb",
     "grade": true,
     "grade_id": "cell-5409919424122382",
     "locked": true,
     "points": 4,
     "schema_version": 3,
     "solution": false
    }
   },
   "outputs": [
    {
     "name": "stdout",
     "output_type": "stream",
     "text": [
      "success: passed N=5 test\n",
      "success: passed N=1000 test\n"
     ]
    }
   ],
   "source": [
    "# Testing Cell\n",
    "\n",
    "N = 5\n",
    "g = lambda x: numpy.cos(x)\n",
    "x0 = 1.\n",
    "answer = numpy.array([1., 0.54030231, 0.85755322, 0.65428979, 0.79348036, 0.70136877])\n",
    "\n",
    "x = fixed_point(g, x0, N )\n",
    "numpy.testing.assert_allclose(x, answer)\n",
    "print('success: passed N=5 test')\n",
    "\n",
    "x_true = 0.7390851332153119\n",
    "x = fixed_point(g, x0, 1000)\n",
    "numpy.testing.assert_almost_equal(x[-1],x_true)\n",
    "print('success: passed N=1000 test')"
   ]
  },
  {
   "cell_type": "markdown",
   "metadata": {
    "deletable": false,
    "editable": false,
    "nbgrader": {
     "cell_type": "markdown",
     "checksum": "14b5f732f5aa0e3b5cfeac176c46d19c",
     "grade": false,
     "grade_id": "cell-2533433274902651",
     "locked": true,
     "schema_version": 3,
     "solution": false
    }
   },
   "source": [
    "**(b)** [6] analyze the problem with \n",
    "$$ g(x) = 1 + x - \\frac{x^2}{M}$$"
   ]
  },
  {
   "cell_type": "markdown",
   "metadata": {
    "deletable": false,
    "nbgrader": {
     "cell_type": "markdown",
     "checksum": "f8553ede2a496f25fd88744bab86b8fa",
     "grade": true,
     "grade_id": "cell-340019030337399",
     "locked": false,
     "points": 4,
     "schema_version": 3,
     "solution": true,
     "task": false
    }
   },
   "source": [
    "First, substitute $sqrt(M)$ into $g(x)$ and then we can get:\n",
    "$$\n",
    "g(\\sqrt(M)) = 1 + \\sqrt(M) - \\frac{M}{M} = \\sqrt(M)\n",
    "$$\n",
    "Also, taking the $g^\\prime$, substitute sqrt(M) into it, and take absolute value of it, then we can get:\n",
    "$$\n",
    "g^\\prime(\\sqrt(M)) = 1 - \\frac{2x}{M} = \\mid1 - \\frac{2}{\\sqrt(M)}\\mid\n",
    "$$\n",
    "We can know that when M goes from 0 to 1, $\\mid g^\\prime(\\sqrt(M))\\mid$ is larger than 1 which is divergent\n",
    "\n",
    "We can say that after 19 iterations the function starts to reduce the relative error to machine precision"
   ]
  },
  {
   "cell_type": "code",
   "execution_count": 5,
   "metadata": {
    "deletable": false,
    "nbgrader": {
     "cell_type": "code",
     "checksum": "743a196e7f7129d5fdeb501531d96bc2",
     "grade": true,
     "grade_id": "cell-9ea67719fcf6c873",
     "locked": false,
     "points": 2,
     "schema_version": 3,
     "solution": true,
     "task": false
    }
   },
   "outputs": [
    {
     "name": "stdout",
     "output_type": "stream",
     "text": [
      "19\n"
     ]
    },
    {
     "data": {
      "image/png": "[encoded data removed]",
      "text/plain": [
       "<Figure size 432x288 with 1 Axes>"
      ]
     },
     "metadata": {
      "needs_background": "light"
     },
     "output_type": "display_data"
    }
   ],
   "source": [
    "# Place plotting code here if needed\n",
    "def fixed_point(g, x0, N):\n",
    "    x = numpy.empty(N+1)\n",
    "    x[0] = x0\n",
    "    eps = numpy.finfo(float).eps\n",
    "    for i in range(1,N+1):\n",
    "        x[i] = g(x[i-1])\n",
    "        if abs(numpy.sqrt(M)-x[i]) <= eps:\n",
    "            print(i) # precision number of precision and break\n",
    "            break\n",
    "    return x  \n",
    "M = 3\n",
    "x0 = 2.\n",
    "g = lambda x: 1 + x - x**2/M\n",
    "k = lambda x: x\n",
    "\n",
    "x = range(50)\n",
    "\n",
    "y = fixed_point(g,x0,N=49)\n",
    "plt.plot(x,y)\n",
    "plt.grid()\n",
    "\n",
    "# # YOUR CODE HERE\n",
    "# raise NotImplementedError()"
   ]
  },
  {
   "cell_type": "markdown",
   "metadata": {
    "deletable": false,
    "editable": false,
    "nbgrader": {
     "cell_type": "markdown",
     "checksum": "631a3e4c05e43db09ece645a93dd948c",
     "grade": false,
     "grade_id": "cell-2533433274adsfadf1",
     "locked": true,
     "schema_version": 3,
     "solution": false
    }
   },
   "source": [
    " **(c)** [6] analyze the problem with \n",
    "$$ g(x) = \\frac{M}{x}$$"
   ]
  },
  {
   "cell_type": "markdown",
   "metadata": {
    "deletable": false,
    "nbgrader": {
     "cell_type": "markdown",
     "checksum": "4b9b505f2509ac5d4d21866f8f8735d0",
     "grade": true,
     "grade_id": "cell-340019030h348fqoi",
     "locked": false,
     "points": 4,
     "schema_version": 3,
     "solution": true,
     "task": false
    }
   },
   "source": [
    "this will not converge sicne we can easily find that the function runs between somewhere near 1.5 and somewhere near 2.9"
   ]
  },
  {
   "cell_type": "code",
   "execution_count": 6,
   "metadata": {
    "deletable": false,
    "nbgrader": {
     "cell_type": "code",
     "checksum": "564a941d39f88c7cb280a1cc912d4b05",
     "grade": true,
     "grade_id": "cell-9ea67238r9y",
     "locked": false,
     "points": 2,
     "schema_version": 3,
     "solution": true,
     "task": false
    }
   },
   "outputs": [
    {
     "data": {
      "image/png": "[encoded data removed]",
      "text/plain": [
       "<Figure size 432x288 with 1 Axes>"
      ]
     },
     "metadata": {
      "needs_background": "light"
     },
     "output_type": "display_data"
    }
   ],
   "source": [
    "# Place plotting code here if needed\n",
    "\n",
    "# # YOUR CODE HERE\n",
    "# raise NotImplementedError()\n",
    "def fixed_point(g, x0, N):\n",
    "    x = numpy.empty(N+1)\n",
    "    x[0] = x0\n",
    "    eps = numpy.finfo(float).eps\n",
    "    for i in range(1,N+1):\n",
    "        x[i] = g(x[i-1])\n",
    "        if abs(numpy.sqrt(M)-x[i]) <= eps:\n",
    "            print(i) # precision number of precision and break\n",
    "            break\n",
    "    return x  \n",
    "M = 3\n",
    "x0 = 2.\n",
    "g = lambda x: 3/x\n",
    "k = lambda x: x\n",
    "\n",
    "x = range(50)\n",
    "\n",
    "y = fixed_point(g,x0,N=49)\n",
    "plt.plot(x,y)\n",
    "plt.grid()\n"
   ]
  },
  {
   "cell_type": "markdown",
   "metadata": {
    "deletable": false,
    "editable": false,
    "nbgrader": {
     "cell_type": "markdown",
     "checksum": "d41d5129f00d5d1f3b8dceea620547c2",
     "grade": false,
     "grade_id": "cell-253343327982308ufu",
     "locked": true,
     "schema_version": 3,
     "solution": false
    }
   },
   "source": [
    "**(d)** [6] Newton's method\n",
    "$$ g(x) = x - \\frac{f}{f^\\prime}$$\n",
    "\n",
    "with $$ f = x^2 - M$$"
   ]
  },
  {
   "cell_type": "markdown",
   "metadata": {
    "deletable": false,
    "nbgrader": {
     "cell_type": "markdown",
     "checksum": "064fb95869cb3acd441daafd5640ee52",
     "grade": true,
     "grade_id": "cell-340019030oijq234roi",
     "locked": false,
     "points": 4,
     "schema_version": 3,
     "solution": true,
     "task": false
    }
   },
   "source": [
    "First, substitute $sqrt(M)$ into $g(x)$ and then we can get:\n",
    "$$\n",
    "g(\\sqrt(M)) = \\sqrt(M) - \\frac{\\sqrt(M)^2-M}{2*\\sqrt(M)} = \\sqrt(M)\n",
    "$$\n",
    "Also, taking the $g^\\prime$, substitute sqrt(M) into it, and take absolute value of it, then we can get:\n",
    "$$\n",
    "g^\\prime(\\sqrt(M)) = \\frac{1}{2} - \\frac{M}{2x^2} = \\frac{1}{2} - \\frac{1}{2}\n",
    "$$\n",
    "We can know that $g^\\prime$is smaller than 1, which is convergent\n",
    "\n",
    "we can know after 4 iterations the function will converge to $\\sqrt(3)$ and the relative error has been reduced to machine precision"
   ]
  },
  {
   "cell_type": "code",
   "execution_count": 7,
   "metadata": {
    "deletable": false,
    "nbgrader": {
     "cell_type": "code",
     "checksum": "de8bb72e85c8267066928bf4faaa5e8f",
     "grade": true,
     "grade_id": "cell-9ea67719fouerouh",
     "locked": false,
     "points": 2,
     "schema_version": 3,
     "solution": true,
     "task": false
    }
   },
   "outputs": [
    {
     "name": "stdout",
     "output_type": "stream",
     "text": [
      "4\n"
     ]
    },
    {
     "data": {
      "image/png": "[encoded data removed]",
      "text/plain": [
       "<Figure size 432x288 with 1 Axes>"
      ]
     },
     "metadata": {
      "needs_background": "light"
     },
     "output_type": "display_data"
    }
   ],
   "source": [
    "# Place plotting code here if needed\n",
    "\n",
    "# # YOUR CODE HERE\n",
    "# raise NotImplementedError()\n",
    "def fixed_point(g, x0, N):\n",
    "    x = numpy.empty(N+1)\n",
    "    x[0] = x0\n",
    "    eps = numpy.finfo(float).eps\n",
    "    for i in range(1,N+1):\n",
    "        x[i] = g(x[i-1])\n",
    "        if abs(numpy.sqrt(M)-x[i]) <= eps:\n",
    "            print(i) # precision number of precision and break\n",
    "            break\n",
    "    return x  \n",
    "M = 3\n",
    "x0 = 2.\n",
    "g = lambda x: x - ((x**2 - 3) / (2*x))\n",
    "k = lambda x: x\n",
    "\n",
    "x = range(50)\n",
    "\n",
    "y = fixed_point(g,x0,N=49)\n",
    "plt.plot(x,y,'r')\n",
    "plt.grid()"
   ]
  },
  {
   "cell_type": "markdown",
   "metadata": {
    "deletable": false,
    "editable": false,
    "nbgrader": {
     "cell_type": "markdown",
     "checksum": "268f820b9f5eab632cd649479bcb3072",
     "grade": false,
     "grade_id": "cell-5084202108adoiu923",
     "locked": true,
     "schema_version": 3,
     "solution": false
    }
   },
   "source": [
    "## Question 2 - Fun with Rootfinders and NewtSafe\n",
    "\n",
    "This problem will explore the behavior of a range of different rootfinding routines against  a more challenging rootfinding problem.  Feel free to use any or all  of the routines presented in class which have been included in an auxiliary python file `rootfinding_optimization_schemes.py`\n",
    "\n",
    "\n",
    "You need to have this file in the same directory with your homework for this notebook to import it."
   ]
  },
  {
   "cell_type": "code",
   "execution_count": 8,
   "metadata": {
    "tags": []
   },
   "outputs": [
    {
     "name": "stdout",
     "output_type": "stream",
     "text": [
      "functions loaded correctly\n"
     ]
    },
    {
     "data": {
      "text/plain": [
       "<Figure size 432x288 with 0 Axes>"
      ]
     },
     "metadata": {},
     "output_type": "display_data"
    }
   ],
   "source": [
    "#  Cell to import and test at least newton's method from class\n",
    "%run rootfinding_optimization_schemes.py\n",
    "from  rootfinding_optimization_schemes import newton\n",
    "\n",
    "# set test function and its derivative\n",
    "f = lambda x: numpy.cos(x) - x\n",
    "f_prime = lambda x: -numpy.sin(x) - 1.\n",
    "\n",
    "#set initial guess and call newton\n",
    "x0 = 1.\n",
    "x, x_array = newton(f, f_prime, x0,tol=1.e-12)\n",
    "\n",
    "# run tests\n",
    "answer = 0.7390851332151606\n",
    "N = 5\n",
    "numpy.testing.assert_almost_equal(x, answer)\n",
    "numpy.testing.assert_almost_equal(N, len(x_array))\n",
    "print(\"functions loaded correctly\")"
   ]
  },
  {
   "cell_type": "markdown",
   "metadata": {
    "deletable": false,
    "editable": false,
    "nbgrader": {
     "cell_type": "markdown",
     "checksum": "a32d15febb12107bc3e15a6804e7cddd",
     "grade": false,
     "grade_id": "cell-08d7aa7aa9d9d246",
     "locked": true,
     "schema_version": 3,
     "solution": false,
     "task": false
    },
    "tags": []
   },
   "source": [
    "Consider the function \n",
    "\n",
    "$$\n",
    "    f(x) = \\cos(x) +  N(x, A, \\alpha, \\beta))\n",
    "$$\n",
    "where\n",
    "\n",
    "$$\n",
    "    N(x, A, \\alpha, \\beta) =  A\\left[\\sin(\\alpha x) + \\sin(\\beta x)\\right]\n",
    "$$\n",
    "\n",
    "is a function that adds smooth additive \"noise\" with fixed amplitude $A = 0.05$ and varying frequencies $\\alpha$ and $\\beta$"
   ]
  },
  {
   "cell_type": "markdown",
   "metadata": {
    "deletable": false,
    "editable": false,
    "nbgrader": {
     "cell_type": "markdown",
     "checksum": "aabb69283b8785747e05cf0367042331",
     "grade": false,
     "grade_id": "cell-fadb86c67ee671d2",
     "locked": true,
     "schema_version": 3,
     "solution": false,
     "task": false
    }
   },
   "source": [
    "**(a)** [4] Make a nicely labeled plot to showing the behavior of this function for \n",
    "* $\\alpha = 0.$, $\\beta =0.$\n",
    "* $\\alpha = 4.$, $\\beta =5.$\n",
    "* $\\alpha = 27$, $\\beta = 50$\n",
    "\n",
    "over the domain $x\\in[-2\\pi, 2\\pi]$. Make sure you have enough points to resolve the wiggles.  You should plot all three curves on the same plot"
   ]
  },
  {
   "cell_type": "code",
   "execution_count": 9,
   "metadata": {
    "deletable": false,
    "nbgrader": {
     "cell_type": "code",
     "checksum": "edc7c9bcc180f7f6c5e68c36a482e7ba",
     "grade": true,
     "grade_id": "cell-fadb86c67ee67848gr",
     "locked": false,
     "points": 4,
     "schema_version": 3,
     "solution": true,
     "task": false
    }
   },
   "outputs": [
    {
     "data": {
      "image/png": "[encoded data removed]",
      "text/plain": [
       "<Figure size 1080x360 with 1 Axes>"
      ]
     },
     "metadata": {
      "needs_background": "light"
     },
     "output_type": "display_data"
    }
   ],
   "source": [
    "x = numpy.linspace(-2 * numpy.pi,2 * numpy.pi,1000001)\n",
    "A = 0.05\n",
    "\n",
    "\n",
    "f1 = numpy.cos(x) + A * numpy.sin(0. * x) + A * numpy.sin(0. * x)\n",
    "f2 = numpy.cos(x) + A * numpy.sin(4. * x) + A * numpy.sin(5. * x)\n",
    "f3 = numpy.cos(x) + A * numpy.sin(27 * x) + A * numpy.sin(50 * x)\n",
    "\n",
    "fig = plt.figure(figsize = (15,5))\n",
    "axes = fig.add_subplot(1,1,1)\n",
    "plt.plot(x,f1,label = r'$\\alpha = 0, \\beta = 0$')\n",
    "plt.plot(x,f2,label = r'$\\alpha = 4, \\beta = 5$')\n",
    "plt.plot(x,f3,label = r'$\\alpha = 27, \\beta = 50$')\n",
    "plt.title(r'Graph of function f(x) with different $\\alpha$s and $\\beta$s', fontsize =15)\n",
    "plt.xlabel('$x$', fontsize =15)\n",
    "plt.ylabel('$f(x)$', rotation=0, fontsize =15)\n",
    "plt.legend(loc='best')\n",
    "plt.grid()\n",
    "\n",
    "## YOUR CODE HERE\n",
    "# raise NotImplementedError()"
   ]
  },
  {
   "cell_type": "markdown",
   "metadata": {
    "deletable": false,
    "editable": false,
    "nbgrader": {
     "cell_type": "markdown",
     "checksum": "3b9302605aa4f4dedadf35490138eeea",
     "grade": false,
     "grade_id": "cell-cfeab33ec7437a33",
     "locked": true,
     "schema_version": 3,
     "solution": false,
     "task": false
    }
   },
   "source": [
    "**(b)** [4] Explore the behavior of the following rootfinding routines \n",
    "* bisection\n",
    "* newton\n",
    "* secant\n",
    "* brentq method using scipy.optimize.root_scalar\n",
    "* **EXTRA CREDIT** any other method used in root_scalar\n",
    "\n",
    "for finding a root of this function, given the bracket $x\\in[x_0, x_1]$ with $x_0 = 0.2$, $x_1 = 2.$ for each ($\\alpha, \\beta$) pair\n",
    "\n",
    "`params = [ (0., 0.), (4., 5.),  (27, 50.) ]`\n",
    "\n",
    "For each routine,  report\n",
    "* the root found $x^*$\n",
    "* the value of $f$ at the root $f(x^*$)\n",
    "* the number of iterations."
   ]
  },
  {
   "cell_type": "code",
   "execution_count": 10,
   "metadata": {
    "deletable": false,
    "nbgrader": {
     "cell_type": "code",
     "checksum": "e4da74b90e3a108cde24c50d129d4a41",
     "grade": true,
     "grade_id": "cell-3d03e0785ba74cee",
     "locked": false,
     "points": 4,
     "schema_version": 3,
     "solution": true,
     "task": false
    }
   },
   "outputs": [
    {
     "name": "stdout",
     "output_type": "stream",
     "text": [
      "root at r = 1.5707963198423385, f(r*) = 6.952558146037445e-09, 26 steps\n",
      "root at r = 1.6304407358169555, f(r*) = 7.952243745446008e-09, 23 steps\n",
      "root at r = 1.5567201036959886, f(r*) = -6.491353149451484e-10, 29 steps\n"
     ]
    }
   ],
   "source": [
    "# Bisection\n",
    "\n",
    "x = numpy.linspace(0.2, 2, 1000)\n",
    "params = [ (0., 0.), (4., 5.), (27, 50.) ]\n",
    "a = 0.2\n",
    "b = 2\n",
    "A = 0.05\n",
    "\n",
    "for p in params:\n",
    "    f = lambda x,a=a,b=b: numpy.cos(x) + A * numpy.sin(p[0] * x) + A * numpy.sin(p[1] * x)\n",
    "    r_star, r_array = bisection(f, a, b, tol=1e-8)\n",
    "    print('root at r = {}, f(r*) = {}, {} steps'.format(r_star,f(r_star),len(r_array)))\n",
    "\n",
    "# # YOUR CODE HERE\n",
    "# raise NotImplementedError()"
   ]
  },
  {
   "cell_type": "code",
   "execution_count": 11,
   "metadata": {},
   "outputs": [
    {
     "name": "stdout",
     "output_type": "stream",
     "text": [
      "root at r = 4.71238898038469, f(r*) = -1.8369701987210297e-16, 5 steps\n",
      "root at r = -14.096326236971352, f(r*) = 6.931560738582254e-08, 5 steps\n",
      "root at r = 7.839905532640377, f(r*) = -4.1546196562908255e-07, 18 steps\n"
     ]
    }
   ],
   "source": [
    "# Newton\n",
    "x = numpy.linspace(0.2, 2, 1000)\n",
    "params = [ (0., 0.), (4., 5.), (27, 50.) ]\n",
    "a = 0.2\n",
    "b = 2\n",
    "A = 0.05\n",
    "\n",
    "for p in params:\n",
    "    f = lambda x: numpy.cos(x) + A * numpy.sin(p[0] * x) + A * numpy.sin(p[1] * x)\n",
    "    f_prime = lambda x: -numpy.sin(x) + A * p[0] * numpy.cos(p[0] * x) + A * p[1] * numpy.cos(p[1] * x)\n",
    "    r_star, r_array = newton(f, f_prime,a, tol = 1.e-6, max_steps=1000)\n",
    "    print('root at r = {}, f(r*) = {}, {} steps'.format(r_star,f(r_star),len(r_array)))\n"
   ]
  },
  {
   "cell_type": "code",
   "execution_count": 12,
   "metadata": {},
   "outputs": [
    {
     "name": "stdout",
     "output_type": "stream",
     "text": [
      "root at r = 1.5707963267998242, f(r*) = -4.927552640156338e-12, 6 steps\n",
      "root at r = 1.6304406749277849, f(r*) = 6.137287288099369e-08, 7 steps\n",
      "root at r = 1.5567201023472799, f(r*) = 3.9454700617724825e-09, 9 steps\n"
     ]
    }
   ],
   "source": [
    "# Secant\n",
    "x = numpy.linspace(0.2, 2, 1000)\n",
    "params = [ (0., 0.), (4., 5.), (27, 50.) ]\n",
    "a = 0.2\n",
    "b = 2\n",
    "A = 0.05\n",
    "\n",
    "for p in params:\n",
    "    f = lambda x,a=a,b=b: numpy.cos(x) + A * numpy.sin(p[0] * x) + A * numpy.sin(p[1] * x)\n",
    "    r_star, r_array = secant(f,a,b,tol = 1.e-6, max_steps=1000)\n",
    "    print('root at r = {}, f(r*) = {}, {} steps'.format(r_star,f(r_star),len(r_array)))\n"
   ]
  },
  {
   "cell_type": "code",
   "execution_count": 13,
   "metadata": {},
   "outputs": [
    {
     "name": "stdout",
     "output_type": "stream",
     "text": [
      "root at r = 1.5707963267948966, f(r*) = 6.123233995736766e-17, 9 steps\n",
      "root at r = 1.630440744880973, f(r*) = -2.983724378680108e-16, 9 steps\n",
      "root at r = 1.5567201035054403, f(r*) = -3.191891195797325e-16, 9 steps\n"
     ]
    }
   ],
   "source": [
    "# Brentq\n",
    "import scipy\n",
    "from scipy.optimize import brentq\n",
    "\n",
    "x = numpy.linspace(0.2, 2, 1000)\n",
    "params = [ (0., 0.), (4., 5.), (27, 50.) ]\n",
    "a = 0.2\n",
    "b = 2\n",
    "A = 0.05\n",
    "\n",
    "for p in params:\n",
    "    f = lambda x,a=a,b=b: numpy.cos(x) + A * numpy.sin(p[0] * x) + A * numpy.sin(p[1] * x)\n",
    "    r_star = scipy.optimize.brentq(f,a,b)\n",
    "    print('root at r = {}, f(r*) = {}, {} steps'.format(r_star,f(r_star),len(r_array)))\n",
    "    \n"
   ]
  },
  {
   "cell_type": "code",
   "execution_count": 14,
   "metadata": {},
   "outputs": [
    {
     "name": "stdout",
     "output_type": "stream",
     "text": [
      "root at r = 1.5707963267948966, f(r*) = 6.123233995736766e-17, 9 steps\n",
      "root at r = 1.6304407448809728, f(r*) = -9.020562075079397e-17, 9 steps\n",
      "root at r = 1.55672010350544, f(r*) = 4.510281037539698e-16, 9 steps\n"
     ]
    }
   ],
   "source": [
    "# Brenth (extra method)\n",
    "import scipy\n",
    "from scipy.optimize import brenth\n",
    "\n",
    "x = numpy.linspace(0.2, 2, 1000)\n",
    "params = [ (0., 0.), (4., 5.), (27, 50.) ]\n",
    "a = 0.2\n",
    "b = 2\n",
    "A = 0.05\n",
    "\n",
    "for p in params:\n",
    "    f = lambda x,a=a,b=b: numpy.cos(x) + A * numpy.sin(p[0] * x) + A * numpy.sin(p[1] * x)\n",
    "    r_star = scipy.optimize.brenth(f,a,b)\n",
    "    print('root at r = {}, f(r*) = {}, {} steps'.format(r_star,f(r_star),len(r_array)))\n"
   ]
  },
  {
   "cell_type": "code",
   "execution_count": 15,
   "metadata": {},
   "outputs": [
    {
     "name": "stdout",
     "output_type": "stream",
     "text": [
      "root at r = 1.5707963267945357, f(r*) = 3.6088371534313326e-13, 9 steps\n",
      "root at r = 1.630440744881973, f(r*) = -8.777145676930331e-13, 9 steps\n",
      "root at r = 1.5567201035044596, f(r*) = 3.3408553701264054e-12, 9 steps\n"
     ]
    }
   ],
   "source": [
    "# Ridder (extra method)\n",
    "import scipy\n",
    "from scipy.optimize import ridder\n",
    "\n",
    "x = numpy.linspace(0.2, 2, 1000)\n",
    "params = [ (0., 0.), (4., 5.), (27, 50.) ]\n",
    "a = 0.2\n",
    "b = 2\n",
    "A = 0.05\n",
    "\n",
    "for p in params:\n",
    "    f = lambda x,a=a,b=b: numpy.cos(x) + A * numpy.sin(p[0] * x) + A * numpy.sin(p[1] * x)\n",
    "    r_star = scipy.optimize.ridder(f,a,b)\n",
    "    print('root at r = {}, f(r*) = {}, {} steps'.format(r_star,f(r_star),len(r_array)))\n"
   ]
  },
  {
   "cell_type": "markdown",
   "metadata": {
    "deletable": false,
    "editable": false,
    "nbgrader": {
     "cell_type": "markdown",
     "checksum": "4ed9f634a22a3aaf8cb2b524c119f3b9",
     "grade": false,
     "grade_id": "cell-d6c0204318b16a38",
     "locked": true,
     "schema_version": 3,
     "solution": false,
     "task": false
    }
   },
   "source": [
    "**(c)** [4] Make a convergence plot showing the relative error at each step for Newton's method for the same three parameter pairs and initial guess $x_0 = 0.2$.  Hint: your convergence plots should use `semilogy` for clearest results.  Again put all your results on one plot and label things well"
   ]
  },
  {
   "cell_type": "code",
   "execution_count": 16,
   "metadata": {
    "deletable": false,
    "nbgrader": {
     "cell_type": "code",
     "checksum": "712e8203de014a4d1bff6c5d3589f974",
     "grade": true,
     "grade_id": "cell-03e97ced4d02bc89",
     "locked": false,
     "points": 4,
     "schema_version": 3,
     "solution": true,
     "task": false
    }
   },
   "outputs": [],
   "source": [
    "def newton_cov(f, f_prime, x0, tol=1.e-6, max_steps=200):\n",
    "    \n",
    "    MAX_STEPS = max_steps\n",
    "    \n",
    "    x = x0\n",
    "    x_array = [ x0 ]\n",
    "    for k in range(1, MAX_STEPS + 1):\n",
    "        x = x  - f(x) / f_prime(x)\n",
    "        x_array.append(x)\n",
    "        if numpy.abs(f(x)) < tol:\n",
    "            break\n",
    "        \n",
    "    if k == MAX_STEPS:\n",
    "        warnings.warn('Maximum number of steps exceeded')\n",
    "    \n",
    "    return numpy.array(x_array)\n",
    "\n",
    "# # YOUR CODE HERE\n",
    "# raise NotImplementedError()"
   ]
  },
  {
   "cell_type": "code",
   "execution_count": 17,
   "metadata": {},
   "outputs": [
    {
     "data": {
      "image/png": "[encoded data removed]",
      "text/plain": [
       "<Figure size 1080x360 with 1 Axes>"
      ]
     },
     "metadata": {
      "needs_background": "light"
     },
     "output_type": "display_data"
    }
   ],
   "source": [
    "\n",
    "x = numpy.linspace(0.2, 2, 1000)\n",
    "params = [ (0., 0.), (4., 5.), (27, 50.) ]\n",
    "a = 0.2\n",
    "b = 2\n",
    "A = 0.05\n",
    "\n",
    "fig = plt.figure(figsize = (15,5))\n",
    "for p in params:\n",
    "    x_plot = []\n",
    "    \n",
    "    f = lambda x,a=a,b=b: numpy.cos(x) + A * numpy.sin(p[0] * x) + A * numpy.sin(p[1] * x)\n",
    "    f_prime = lambda x: -numpy.sin(x) + A * p[0] * numpy.cos(p[0] * x) + A * p[1] * numpy.cos(p[1] * x)\n",
    "    \n",
    "    r_array_cov = newton_cov(f, f_prime,a, tol = 1.e-6, max_steps=1000)\n",
    "    r_star, r_array = newton(f, f_prime,a, tol = 1.e-6, max_steps=1000)\n",
    "    \n",
    "    for n in range(len(r_array)):\n",
    "        x_plot.append(x[n])\n",
    "    \n",
    "    y_plot = abs(r_array-r_star)\n",
    "    \n",
    "    plt.semilogy(x_plot, y_plot, 'o', linestyle = 'dashed',label = r'$\\alpha={}, \\beta={}$'.format(p[0],p[1]))\n",
    "plt.legend()\n",
    "plt.title('Relative Error at Each Step')\n",
    "plt.ylabel('Relative Error at Each Step')\n",
    "plt.xlabel('x')\n",
    "plt.grid()\n"
   ]
  },
  {
   "cell_type": "markdown",
   "metadata": {
    "deletable": false,
    "editable": false,
    "nbgrader": {
     "cell_type": "markdown",
     "checksum": "2df03ce3234624a2a1c2d6b521634126",
     "grade": false,
     "grade_id": "cell-688d9772c0ee0353",
     "locked": true,
     "schema_version": 3,
     "solution": false,
     "task": false
    }
   },
   "source": [
    "**(d)** [4] Briefly explain your results so far for all the methods.  Feel free to play with other initial parameters or to make additional plots.  "
   ]
  },
  {
   "cell_type": "markdown",
   "metadata": {
    "deletable": false,
    "nbgrader": {
     "cell_type": "markdown",
     "checksum": "2fd45f3d0ef415e1263944f18cb82175",
     "grade": true,
     "grade_id": "cell-0d30efbc8418cd82",
     "locked": false,
     "points": 4,
     "schema_version": 3,
     "solution": true,
     "task": false
    }
   },
   "source": [
    "**Answer to Question 2 (d)**\n",
    "\n",
    "The function goes as:\n",
    "\n",
    "$$\n",
    "    f(x) = \\cos(x) +  N(x, A, \\alpha, \\beta))\n",
    "$$\n",
    "where\n",
    "\n",
    "$$\n",
    "    N(x, A, \\alpha, \\beta) =  A\\left[\\sin(\\alpha x) + \\sin(\\beta x)\\right]\n",
    "$$\n",
    "\n",
    "Bisection method takes the most steps to reach the roots, Newton is the fastest to some degree(when it is able to get a root), then Secant is the second fastest method.\n",
    "\n",
    "- Bisection\n",
    "    - since these three functions all have negative and positive values and all are somehow decreasing, we can say that under this specific situation, Bisection method is very robust.\n",
    "\n",
    "- Secant\n",
    "    - Secant method takes the slope of two points on the curve instead of simply calculating the derivative, we can see from the results that under this specific condition, it is more robust than Newton's since our initial guess is not bad then Secant will lead us to a relatively reasonable answer in this case\n",
    "\n",
    "- Brentq\n",
    "    - Brent's method can be regarded as an advanced combination of bisection and Secant method. Since $f(0.2) * f(2) < 0$, the existance of a solution can then be guaranteed. Since we have a initial guess and contrapoint, after computing two provisional values by using linear interpolation(Secant method) and bisection method, we then can repeat the process\n",
    "\n",
    "- Newton\n",
    "    - $\\alpha = 0.$ and $\\beta = 0.$. When $x \\in [0.2, 2]$, the function can be treated as a smooth monotonically decreasing function from the graph we already plotted, which means we dont have to consider the probability of the natural peaks in this $\\sin(x)$ finction. So, the Newton's method will be efferctive since we did not take the 'noice' into consideration.\n",
    "    - $\\alpha = 4.$ and $\\beta = 5.$. Newton's method has already lost its stability and returned a wrong output because even though $f(x)$ now is still a monotonically decreasing function but the derivative of it varies from positive and negative which will majorly influence the output.\n",
    "    - $\\alpha = 27.$ and $\\beta = 50.$. We can tell from the graph that for now Newton's method will not be effective since the original function has been affected by 'noice' severely and we can not keep calculating the derivatives repeatly and hope to get the right answer by chance."
   ]
  },
  {
   "cell_type": "markdown",
   "metadata": {
    "deletable": false,
    "editable": false,
    "nbgrader": {
     "cell_type": "markdown",
     "checksum": "db197de596ae1a5191790bc36a15b67c",
     "grade": false,
     "grade_id": "cell-b46861a6140bb51d",
     "locked": true,
     "schema_version": 3,
     "solution": false,
     "task": false
    }
   },
   "source": [
    "**(e)** [6] Write a controlled Newton routine `NewtSafe`,  that finds a root with an initial bracket by combining newton steps with a bisection routine.  The basic algorithm is to first try Newton from the midpoint of the bracket.  If Newton predicts a solution outside of the bracket, ignore it and take a bisection step instead.  You can use and modify any of the rootfinding routines I presented in class, but write a decent docstring and raise appropriate exceptions as necessary. \n",
    "\n",
    "The routine should return the best estimate of the root and number of Newton Steps and the number of bisection steps\n",
    "\n",
    "`x, N_newt, N_bisection = newtsafe(f, f_prime, a, b)`"
   ]
  },
  {
   "cell_type": "code",
   "execution_count": 18,
   "metadata": {
    "deletable": false,
    "nbgrader": {
     "cell_type": "code",
     "checksum": "c064de33e8e33bb749259d97e0fb04a1",
     "grade": false,
     "grade_id": "cell-a20f6d1abec7c19d",
     "locked": false,
     "schema_version": 3,
     "solution": true,
     "task": false
    }
   },
   "outputs": [],
   "source": [
    "def newtsafe(f,f_prime,a,b,tol = 1.e-6, max_steps=1000):\n",
    "    \"\"\" Please improve this docstring\n",
    "        \n",
    "    \n",
    "    Parameters:\n",
    "    -----------\n",
    "    \n",
    "    f: function (float)\n",
    "        function returning f(x)\n",
    "    f_prime:  function (float)\n",
    "        function returning derivative of f with respect to x\n",
    "    a: float\n",
    "        left bracket a < x\n",
    "    b: float\n",
    "        right bracket x < b\n",
    "        \n",
    "        Note:  the signs of f(a) and f(b) must be different to insure a bracket\n",
    "    tol: float\n",
    "        tolerance.  Returns when |f(x)| < tol\n",
    "    max_steps: int\n",
    "        maximum number of iteration steps\n",
    "        \n",
    "    Returns:\n",
    "    --------\n",
    "    x: float\n",
    "        midpoint of final bracket\n",
    "    n_newt:  number of newton steps for successful newton iteration\n",
    "    n_bisection: number of bisection steps\n",
    "        \n",
    "    Raises:\n",
    "    -------\n",
    "    ValueError:  \n",
    "        if initial bracket is invalid \n",
    "    Warning: \n",
    "        if number of iterations exceed MAX_STEPS\n",
    "    Prints warning if Newton exceeds the bracket\n",
    "    \n",
    "    \"\"\"\n",
    "    \n",
    "    n_newt = 0\n",
    "    n_bisection = 0\n",
    "    c = ( a + b ) / 2\n",
    "    x_array = [c]\n",
    "    \n",
    "    \n",
    "    \n",
    "    if numpy.sign(f(a)) == numpy.sign(f(b)):\n",
    "        raise ValueError(\"no bracket: f(a) and f(b) must have different signs\")\n",
    "    \n",
    "    for step in range(max_steps):\n",
    "        if numpy.abs(f(c)) < tol:\n",
    "            break\n",
    "        \n",
    "        x_newt = c - f(c) / f_prime(c)\n",
    "        \n",
    "        if x_newt > b or x_newt < a:\n",
    "            n_bisection += 1\n",
    "            if numpy.sign(f(a)) != numpy.sign(f(c)):\n",
    "                b = c\n",
    "                \n",
    "            else:\n",
    "                a = c\n",
    "            x_newt = a + (b - a)/2.\n",
    "        else:\n",
    "            n_newt += 1\n",
    "        c = x_newt\n",
    "        x_array.append(c)\n",
    "                \n",
    "    \n",
    "    if step == max_steps:\n",
    "        warnings.warn('Maximum number of steps exceeded')\n",
    "        \n",
    "    return c, n_newt, n_bisection\n",
    "    \n",
    "# # YOUR CODE HERE\n",
    "# raise NotImplementedError()\n"
   ]
  },
  {
   "cell_type": "code",
   "execution_count": 19,
   "metadata": {},
   "outputs": [],
   "source": [
    "# you can play with your code here"
   ]
  },
  {
   "cell_type": "code",
   "execution_count": 20,
   "metadata": {
    "deletable": false,
    "editable": false,
    "nbgrader": {
     "cell_type": "code",
     "checksum": "a0fc4358c1096461564e6e35cea822ab",
     "grade": true,
     "grade_id": "cell-7cdbdbda9ca86f82",
     "locked": true,
     "points": 6,
     "schema_version": 3,
     "solution": false,
     "task": false
    }
   },
   "outputs": [
    {
     "name": "stdout",
     "output_type": "stream",
     "text": [
      "Bracket  = [-0.68309670780092, 2.642524050776319]\n",
      "Newton   = 1.27194847295657,    N   = 3\n",
      "NewtSafe = 1.27194847295657,    N_n = 3, N_b = 0\n",
      "brentq   = 1.2719484732512498,    N   = 9\n",
      "\n",
      "Bracket  = [-0.7104536143852529, 3.8152626763086603]\n",
      "Newton   = -23.8662065317763,    N   = 7\n",
      "NewtSafe = 1.0884990113244402,    N_n = 3, N_b = 2\n",
      "brentq   = 1.088499013515958,    N   = 13\n",
      "\n",
      "Bracket  = [-0.5236057894835726, 3.9067882124238986]\n",
      "Newton   = -10.863477689404652,    N   = 11\n",
      "NewtSafe = 1.1106142646362411,    N_n = 5, N_b = 1\n",
      "brentq   = 1.1106142646873127,    N   = 11\n",
      "\n",
      "Bracket  = [-0.5275356434135271, 2.4988039593212776]\n",
      "Newton   = 1.3248590962279085,    N   = 3\n",
      "NewtSafe = 1.3248590962279085,    N_n = 3, N_b = 0\n",
      "brentq   = 1.3248590968150393,    N   = 9\n",
      "\n",
      "Bracket  = [-0.3534683303763972, 3.9130408021252014]\n",
      "Newton   = 1.1473182519095415,    N   = 10\n",
      "NewtSafe = 1.1473181573836526,    N_n = 6, N_b = 1\n",
      "brentq   = 1.1473182519138232,    N   = 9\n",
      "\n",
      "no bracket: f(a) and f(b) must have different signs\n",
      "success!\n"
     ]
    }
   ],
   "source": [
    "# Testing Cell\n",
    "from  rootfinding_optimization_schemes import newton\n",
    "from scipy.optimize import root_scalar\n",
    "\n",
    "a = 27\n",
    "b = 50\n",
    "A = 0.3\n",
    "f = lambda x: numpy.cos(x) + A*(numpy.sin(a * x) + numpy.sin(b * x))\n",
    "f_prime = lambda x: -numpy.sin(x) + A*(a*numpy.cos(a * x) + b*numpy.cos(b * x))\n",
    "\n",
    "pi = numpy.pi\n",
    "\n",
    "brackets = [ \n",
    "            (-0.68309670780092, 2.642524050776319),\n",
    "            (-0.7104536143852529, 3.8152626763086603),\n",
    "            (-0.5236057894835726, 3.9067882124238986),\n",
    "            (-0.5275356434135271, 2.4988039593212776),\n",
    "            (-0.3534683303763972, 3.9130408021252014)\n",
    "           ]\n",
    "\n",
    "for bracket in brackets:\n",
    "    #a = numpy.random.uniform(low=-pi/4, high=pi/4)\n",
    "    #b = numpy.random.uniform(low=3*pi/4, high=5*pi/4)\n",
    "    a = bracket[0]\n",
    "    b = bracket[1]\n",
    "    x_n, x_array = newton(f, f_prime, (a + b)/2.)\n",
    "    x_ns, N_n, N_b = newtsafe(f, f_prime, a, b)\n",
    "    sol = root_scalar(f, bracket=(a, b),method='brentq')\n",
    "    print('Bracket  = [{}, {}]'.format(a, b))\n",
    "    print('Newton   = {},    N   = {}'.format(x_n, len(x_array)-1))\n",
    "    print('NewtSafe = {},    N_n = {}, N_b = {}'.format(x_ns, N_n, N_b))\n",
    "    print('brentq   = {},    N   = {}'.format(sol.root, sol.iterations))\n",
    "    print()\n",
    "    numpy.testing.assert_almost_equal(x_ns, sol.root,decimal=5)\n",
    "    \n",
    "try:\n",
    "    x_ns, N_n, N_b = newtsafe(f, f_prime, 1.6, 2.0)\n",
    "except ValueError as err:\n",
    "    print(err)\n",
    "    pass\n",
    "\n",
    "print('success!')\n"
   ]
  },
  {
   "cell_type": "markdown",
   "metadata": {
    "deletable": false,
    "editable": false,
    "nbgrader": {
     "cell_type": "markdown",
     "checksum": "6ff9cfc557769fb0e0cd3151689d9310",
     "grade": false,
     "grade_id": "cell-508420840igovo948yh23",
     "locked": true,
     "schema_version": 3,
     "solution": false
    }
   },
   "source": [
    "## Question 3 - Solve a \"real\" rootfinding problem\n",
    "\n",
    "In Homework 2, I asked you to *estimate* the number of terms in the taylor expansion of $e^x$ such that the relative error was less than $\\epsilon_{mach}$.  This was essentially a non-linear problem in the number of steps $n$.  Here we will use a rootfinder to get this number more precisely."
   ]
  },
  {
   "cell_type": "markdown",
   "metadata": {
    "deletable": false,
    "editable": false,
    "nbgrader": {
     "cell_type": "markdown",
     "checksum": "0c5da29bd8798f54998030d92df5ac1d",
     "grade": false,
     "grade_id": "cell-3f4f0535e4abc84f",
     "locked": true,
     "schema_version": 3,
     "solution": false,
     "task": false
    }
   },
   "source": [
    "**(a)** [8] provide a numerical solution for the number of terms $n$ in the Taylor polynomial expansion of exp(x) (i.e. $T_N(x))$ such that the relative error is\n",
    "\n",
    "$$\n",
    "    r = \\left| \\frac{x^{n+1}}{(n + 1)!} \\right| \\approx \\epsilon_{mach}\n",
    "$$ \n",
    "\n",
    "Give solutions for x = 0.1, 1., 10. ,100. , 709., 1000. and compare your numerical solution to the approximate solution given in last homework \n",
    "\n",
    "$$\n",
    "    n > e*x\n",
    "$$\n",
    "\n",
    "by calculating the relative error between the your numerical solution and your simpler estimate.\n",
    "\n",
    "Note: To make this problem easier, just use Stirling’s approximation $\\log(n!) \\approx n \\log n − n$. which will work quite well.  However, for a little bit of extra credit solve this for the full problem and compare solutions.\n"
   ]
  },
  {
   "cell_type": "markdown",
   "metadata": {
    "deletable": false,
    "nbgrader": {
     "cell_type": "markdown",
     "checksum": "b68b95d0b33a72562c80bc1c8831d3ac",
     "grade": true,
     "grade_id": "cell-8fc4ebbf43da6dff",
     "locked": false,
     "points": 4,
     "schema_version": 3,
     "solution": true,
     "task": false
    }
   },
   "source": [
    "**Asnwer to Question 3 (a)**\n",
    "\n",
    "\n",
    "Since \n",
    "$$\n",
    "r = \\left| \\frac{x^{n+1}}{(n + 1)!} \\right| \\approx \\epsilon_{mach}\n",
    "$$\n",
    "\n",
    "Then we can get:\n",
    "$$\n",
    "x^{n+1} = \\epsilon_{mach} * (n+1)!\n",
    "$$\n",
    "\n",
    "we take log of both side and get:\n",
    "$$\n",
    "\\begin{aligned}\n",
    "(n+1)log(x) &= log(\\epsilon_{mach}) + log((n+1)!)\\\\\n",
    "&= log(\\epsilon_{mach}) + (n+1)log(n+1)-(n+1)\n",
    "\\end{aligned}\n",
    "$$\n",
    "\n",
    "So we have equation below:\n",
    "$$\n",
    "0 = (n+1)log(x) - log(\\epsilon_{mach}) - (n+1)log(n+1) + (n+1)\n",
    "$$"
   ]
  },
  {
   "cell_type": "code",
   "execution_count": 21,
   "metadata": {},
   "outputs": [
    {
     "name": "stdout",
     "output_type": "stream",
     "text": [
      "when x = 0.1, my process will take 20 terms The estimate is 1.1051709180756477\n",
      "when x = 1.0, my process will take 23 terms The estimate is 2.718281828459045\n",
      "when x = 10.0, my process will take 50 terms The estimate is 22026.465794806718\n",
      "when x = 100.0, my process will take 320 terms The estimate is 2.688117141816134e+43\n",
      "when x = 709.0, my process will take 2147 terms The estimate is 8.218407461554951e+307\n",
      "when x = 1000.0, my process will take 3020 terms The estimate is inf\n"
     ]
    },
    {
     "name": "stderr",
     "output_type": "stream",
     "text": [
      "<ipython-input-21-103e99cd1128>:27: RuntimeWarning: overflow encountered in double_scalars\n",
      "  T_n = T_n * x / n + 1.\n"
     ]
    }
   ],
   "source": [
    "# approximate solution from last hw(which is obviously nonideal)\n",
    "\n",
    "# import the factorial function from scipy\n",
    "from scipy.special import factorial\n",
    "\n",
    "def Tn_exp(x):\n",
    "    \"\"\" Write a decent description here\n",
    "    \n",
    "    Parameters:\n",
    "    -----------\n",
    "        x: float\n",
    "            scalar value to approximate exp(x)\n",
    "    \"\"\"\n",
    "\n",
    "    assert(isinstance(x,float))\n",
    "    eps = numpy.finfo(float).eps\n",
    "    \n",
    "    T_n = 1.0\n",
    "    MAX_N = int(20 + int(abs(x) * 3))\n",
    "    \n",
    "    use_inv = False\n",
    "    if x<0:\n",
    "        x = abs(x) \n",
    "        use_inv = True\n",
    "    \n",
    "    for n in numpy.arange(MAX_N,0,-1):\n",
    "        T_n = T_n * x / n + 1.\n",
    "    \n",
    "    if use_inv:\n",
    "        T_n = 1./T_n\n",
    "    \n",
    "    Tn = T_n\n",
    "\n",
    "    return Tn, MAX_N\n",
    "x_set = [0.1,1.,10.,100.,709.,1000.]\n",
    "for x in x_set:\n",
    "    Tn, MAX_N = Tn_exp(x)\n",
    "    print('when x = {}, my process will take'.format(x), MAX_N, 'terms','The estimate is {}'.format(Tn))"
   ]
  },
  {
   "cell_type": "code",
   "execution_count": 22,
   "metadata": {
    "deletable": false,
    "nbgrader": {
     "cell_type": "code",
     "checksum": "11099c9f28135df32eed257aca68662a",
     "grade": true,
     "grade_id": "cell-963aac8426927a48",
     "locked": false,
     "points": 4,
     "schema_version": 3,
     "solution": true,
     "task": false
    }
   },
   "outputs": [
    {
     "name": "stdout",
     "output_type": "stream",
     "text": [
      "9 terms needed when x = 0.1. by Brentq\n",
      "relative error (difference / numerical solution)for x = 0.1 is 0.9697968685726772\n",
      "\n",
      "18 terms needed when x = 1.0. by Brentq\n",
      "relative error (difference / numerical solution)for x = 1.0 is 0.8489843428633864\n",
      "\n",
      "53 terms needed when x = 10.0. by Brentq\n",
      "relative error (difference / numerical solution)for x = 10.0 is 0.4871166361398028\n",
      "\n",
      "305 terms needed when x = 100.0. by Brentq\n",
      "relative error (difference / numerical solution)for x = 100.0 is 0.10876005624293604\n",
      "\n",
      "1962 terms needed when x = 709.0. by Brentq\n",
      "relative error (difference / numerical solution)for x = 709.0 is 0.01770549623982518\n",
      "\n",
      "2754 terms needed when x = 1000.0. by Brentq\n",
      "relative error (difference / numerical solution)for x = 1000.0 is 0.01296956119860374\n",
      "\n"
     ]
    }
   ],
   "source": [
    "def numerical(x,n):\n",
    "    root_0 = numpy.log(x) - numpy.log(n+1) + 1 - numpy.log(numpy.finfo(float).eps) / (n + 1)\n",
    "    \n",
    "    return root_0\n",
    "\n",
    "x_set = [0.1,1.,10.,100.,709.,1000.]\n",
    "num_terms = []\n",
    "for x in x_set:\n",
    "    f = lambda n: numerical(x,n)\n",
    "    brentq = root_scalar(f,bracket = (2*x, 4*x+100), method = 'brentq')\n",
    "    num_terms.append(int(brentq.root) + 1)\n",
    "    print('{} terms needed when x = {}. by Brentq'.format(num_terms[-1], x))\n",
    "    r1 = numpy.abs(numpy.e * x - num_terms[-1]) / numpy.abs(num_terms[-1])\n",
    "    print('relative error (difference / numerical solution)for x = {} is {}'.format(x, r1))\n",
    "    print('')\n",
    "\n",
    "\n",
    "# # YOUR CODE HERE\n",
    "# raise NotImplementedError()"
   ]
  },
  {
   "cell_type": "markdown",
   "metadata": {},
   "source": [
    "**Important**\n",
    "\n",
    "I personally think for this relative error we should use r1 = numpy.abs(numpy.e * x - num_terms[-1]) / numpy.abs(num_terms[-1])\n",
    "\n",
    "Since we have the definition below: the denominator should be the true value. In this question, it should be abs(num_terms[-1]) calculated by numerical method\n",
    "\n",
    "## Basic Definitions\n",
    "\n",
    "Before exploring the different kinds of error, it is important to first define the ways that error is measured. Given a true value of a function $f$ and an approximate solution $F$ define:\n",
    "\n",
    "Absolute Error:  \n",
    "$$\n",
    "    e = | f - F |\n",
    "$$\n",
    "\n",
    "Relative Error:  \n",
    "$$\n",
    "    r = \\frac{e}{|f|} = \\frac{|f - F|}{|f|}\n",
    "$$"
   ]
  },
  {
   "cell_type": "code",
   "execution_count": null,
   "metadata": {},
   "outputs": [],
   "source": []
  }
 ],
 "metadata": {
  "kernelspec": {
   "display_name": "Python 3",
   "language": "python",
   "name": "python3"
  },
  "language_info": {
   "codemirror_mode": {
    "name": "ipython",
    "version": 3
   },
   "file_extension": ".py",
   "mimetype": "text/x-python",
   "name": "python",
   "nbconvert_exporter": "python",
   "pygments_lexer": "ipython3",
   "version": "3.8.8"
  }
 },
 "nbformat": 4,
 "nbformat_minor": 4
}
