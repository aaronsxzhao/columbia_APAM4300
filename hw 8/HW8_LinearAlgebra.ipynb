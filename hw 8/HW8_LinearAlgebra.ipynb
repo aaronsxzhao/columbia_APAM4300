{
 "cells": [
  {
   "cell_type": "markdown",
   "metadata": {},
   "source": [
    "Before you turn this problem in, make sure everything runs as expected. First, **restart the kernel** (in the menubar, select Kernel$\\rightarrow$Restart) and then **run all cells** (in the menubar, select Cell$\\rightarrow$Run All).\n",
    "\n",
    "Make sure you fill in any place that says `YOUR CODE HERE` or \"YOUR ANSWER HERE\", as well as any collaborators you worked with:"
   ]
  },
  {
   "cell_type": "code",
   "execution_count": null,
   "metadata": {},
   "outputs": [],
   "source": [
    "COLLABORATORS = \"\""
   ]
  },
  {
   "cell_type": "markdown",
   "metadata": {},
   "source": [
    "---"
   ]
  },
  {
   "cell_type": "code",
   "execution_count": null,
   "metadata": {},
   "outputs": [],
   "source": [
    "%matplotlib inline\n",
    "%precision 16\n",
    "import numpy\n",
    "import matplotlib.pyplot as plt\n",
    "import pandas as pd"
   ]
  },
  {
   "cell_type": "markdown",
   "metadata": {
    "deletable": false,
    "editable": false,
    "nbgrader": {
     "cell_type": "markdown",
     "checksum": "8b2ae1632b32f252cb2fe2ab0613863e",
     "grade": false,
     "grade_id": "cell-9835802012891980",
     "locked": true,
     "schema_version": 3,
     "solution": false
    }
   },
   "source": [
    "# HW 8:  Linear Algebra Fun with the QR and the SVD"
   ]
  },
  {
   "cell_type": "markdown",
   "metadata": {
    "deletable": false,
    "editable": false,
    "nbgrader": {
     "cell_type": "markdown",
     "checksum": "d46804447b1b4b47ea106ae8e9c5d852",
     "grade": false,
     "grade_id": "cell-5568048673839846",
     "locked": true,
     "schema_version": 3,
     "solution": false
    }
   },
   "source": [
    "## Question 1: Fun with the QR\n",
    "\n",
    "**(a)** [4] - Why we use the $QR$ factorization for least-squares.\n",
    "\n",
    "Consider the two equivalent problems to solve for the least-squares solution $\\hat{\\mathbf{x}}$\n",
    "\n",
    "The Normal Equations\n",
    "$$\n",
    "    A^TA\\hat{\\mathbf{x}} = A^T\\mathbf{b}\n",
    "$$\n",
    "\n",
    "and using the $QR$ factorization with $A=QR$\n",
    "$$\n",
    "\\quad R\\hat{\\mathbf{x}}=Q^T\\mathbf{b}\n",
    "$$\n",
    "\n",
    "\n",
    "* Show that the condition number of $A^TA$ is the square of that of $A$ (i.e.$\\kappa_2(A^T A)$ = $\\kappa_2^2(A)$).  Hint: use the SVD $A=U\\Sigma V^T$\n",
    "* Show that $\\kappa_2(R) = \\kappa_2(A)$\n",
    "\n",
    "so that solving using the $QR$ factorization is much more stable with respect to floating point error."
   ]
  },
  {
   "cell_type": "markdown",
   "metadata": {
    "deletable": false,
    "nbgrader": {
     "cell_type": "markdown",
     "checksum": "2d29e14fab5a0b1d4bcb5190f9cd1f9d",
     "grade": true,
     "grade_id": "cell-c20db3d457396dd4",
     "locked": false,
     "points": 4,
     "schema_version": 3,
     "solution": true,
     "task": false
    }
   },
   "source": [
    "YOUR ANSWER HERE"
   ]
  },
  {
   "cell_type": "markdown",
   "metadata": {
    "deletable": false,
    "editable": false,
    "nbgrader": {
     "cell_type": "markdown",
     "checksum": "31742bf8e5ba72a2e8965278e4aa2513",
     "grade": false,
     "grade_id": "cell-10940ce7dfe177b2",
     "locked": true,
     "schema_version": 3,
     "solution": false,
     "task": false
    }
   },
   "source": [
    "**(b)** [8] - The Householder reflection matrix, \n",
    "\n",
    "$$\n",
    "    H = I - 2\\mathbf{q}\\mathbf{q}^T\n",
    "$$\n",
    "\n",
    "reflects a vector $x$ across a mirror plane normal to a unit vector $\\mathbf{q}$ and is an essential ingredient in many numerical methods.\n",
    "\n",
    "Demonstrate the following properties of $H$\n",
    "\n",
    "* $H$ is symmetric\n",
    "* $H$ is Unitary\n",
    "* $H$ is not a projection matrix\n",
    "* if $\\mathbf{x}$ is in $\\mathbb{R}^n$,  the Matrix-vector product $H\\mathbf{x}$ can be computed in $O(n)$ operations\n",
    "* Repeated application of householder matrices to transform $A\\rightarrow R$ do not change the condition number (i.e. $\\kappa_2(HA) = \\kappa_2(A) = \\kappa_2(R)$"
   ]
  },
  {
   "cell_type": "markdown",
   "metadata": {
    "deletable": false,
    "nbgrader": {
     "cell_type": "markdown",
     "checksum": "8f0a6380086a85db57c665784cea6f01",
     "grade": true,
     "grade_id": "cell-ae162183f5dfaf3f",
     "locked": false,
     "points": 8,
     "schema_version": 3,
     "solution": true,
     "task": false
    }
   },
   "source": [
    "YOUR ANSWER HERE"
   ]
  },
  {
   "cell_type": "markdown",
   "metadata": {
    "deletable": false,
    "editable": false,
    "nbgrader": {
     "cell_type": "markdown",
     "checksum": "97f03b6b3978da4ca55d651a3d47856b",
     "grade": false,
     "grade_id": "cell-36d5696306c198ce",
     "locked": true,
     "schema_version": 3,
     "solution": false,
     "task": false
    }
   },
   "source": [
    "**(c)** [6] - To understand the basic algorithms better,  use the modified Gram-Schmidt algorithm \n",
    "\n",
    "$$A\\rightarrow Q,\\quad   R = Q^T A$$\n",
    "\n",
    "to construct, by hand, matrices $Q$ and $R$ such that $A=QR$ for \n",
    "\n",
    "$$\n",
    "    A = \\begin{bmatrix} 1 & 1 & 1\\\\ 1 & 0 & 0 \\\\ 1 & 1 & 0  \\\\ 1 & 0 & 0 \\\\ \\end{bmatrix} \n",
    "$$\n",
    "\n",
    "You can use any python/numpy routines to check your answers"
   ]
  },
  {
   "cell_type": "markdown",
   "metadata": {
    "deletable": false,
    "nbgrader": {
     "cell_type": "markdown",
     "checksum": "ee64d6e8227965cacd5c6fb524d09525",
     "grade": true,
     "grade_id": "cell-89b6f648c78705f3",
     "locked": false,
     "points": 5,
     "schema_version": 3,
     "solution": true,
     "task": false
    }
   },
   "source": [
    "YOUR ANSWER HERE"
   ]
  },
  {
   "cell_type": "markdown",
   "metadata": {
    "deletable": false,
    "editable": false,
    "nbgrader": {
     "cell_type": "markdown",
     "checksum": "845dcaf8db8ce730c6099c6ac8f43e5c",
     "grade": false,
     "grade_id": "cell-206f929a9a680431",
     "locked": true,
     "schema_version": 3,
     "solution": false,
     "task": false
    }
   },
   "source": [
    "**(c)** [4]  Householder Triangulation is a sequence of Unitary transformations $Q_1$, $Q_2$, $Q_3$, that transform $A$ to logically upper triangular form (i.e. is zero for all elements below the diagonal) using Householder reflection matrices.  Construct by hand\n",
    "\n",
    "* the first Unitary matrix  $Q_1$ that zeros out the first column of A below the diagonal and calculate $A_1 = Q_1A$. (you can use numpy to check your solution).   **Hint**: there are two ways to calculate the normal to the reflection plane \n",
    "$\\mathbf{v}$.  Your life will be \n",
    "much easier if you use the simpler version \n",
    "\n",
    "$$\n",
    "    \\mathbf{v} = ||\\mathbf{x}||\\mathbf{e}_1 - \\mathbf{x}\n",
    "$$\n",
    "\n",
    "* the second unitary matrix $Q_2$ that preserves your first column but puts zeros below the diagonal in the second column.  You can use numpy to calculate $Q_2Q_1A$ to check your answer.\n",
    "\n",
    "* **Extra Credit** (2 pts) Work out $Q3$  and $R=Q_3Q_2Q_1A$ and compare to the solution by Modified Gram-schmidt"
   ]
  },
  {
   "cell_type": "markdown",
   "metadata": {
    "deletable": false,
    "nbgrader": {
     "cell_type": "markdown",
     "checksum": "33eea2496fd1a857bf2d1c69d46a468e",
     "grade": true,
     "grade_id": "cell-165cd8175449f121",
     "locked": false,
     "points": 4,
     "schema_version": 3,
     "solution": true,
     "task": false
    }
   },
   "source": [
    "YOUR ANSWER HERE"
   ]
  },
  {
   "cell_type": "code",
   "execution_count": null,
   "metadata": {},
   "outputs": [],
   "source": [
    "# you can add code to check your answer here if you want"
   ]
  },
  {
   "cell_type": "markdown",
   "metadata": {
    "deletable": false,
    "editable": false,
    "nbgrader": {
     "cell_type": "markdown",
     "checksum": "50616f4786117d76554bb07150c1a2fe",
     "grade": false,
     "grade_id": "cell-cdd2cd601d8202a9",
     "locked": true,
     "schema_version": 3,
     "solution": false,
     "task": false
    }
   },
   "source": [
    "**(d)** [10] - Modify the $QR$ factorization by Householder reflection given in class `householder_QR` to write a function to solve linear least-squares problems, i.e. use repeated Householder reflections to transform\n",
    "\n",
    "$$\n",
    "    A\\mathbf{x} = \\mathbf{b}\n",
    "$$\n",
    "\n",
    "to\n",
    "\n",
    "$$ R\\mathbf{x} = \\mathbf{c} $$\n",
    "\n",
    "where $\\mathbf{c} = Q^T\\mathbf{b}$.  Then solve the last equation for $\\mathbf{x}$ using `numpy.linalg.solve` (which implements a $LU$ decomposition for Gaussian elimination).\n"
   ]
  },
  {
   "cell_type": "code",
   "execution_count": null,
   "metadata": {
    "deletable": false,
    "nbgrader": {
     "cell_type": "code",
     "checksum": "253787a70dbc7796fd359a815549110c",
     "grade": false,
     "grade_id": "cell-ef7df241816cb9e9",
     "locked": false,
     "schema_version": 3,
     "solution": true,
     "task": false
    }
   },
   "outputs": [],
   "source": [
    "# Implementation of Householder QR, for least-squares\n",
    "def mylstq(A, b):\n",
    "    \"\"\"\n",
    "    Solves the leastsquares problem Ax = b, by Householder reduction to Rx = c,\n",
    "    then solve Rx = c, using numpy.linalg.solve()\n",
    "    \n",
    "    fill in the rest of the doc-string properly\n",
    "    \n",
    "    usage:  x = mylstq(A, b)\n",
    "    \"\"\"\n",
    "    # YOUR CODE HERE\n",
    "    raise NotImplementedError()\n",
    "    return x"
   ]
  },
  {
   "cell_type": "code",
   "execution_count": null,
   "metadata": {
    "deletable": false,
    "editable": false,
    "nbgrader": {
     "cell_type": "code",
     "checksum": "392d1e420a13e052ea094bddda34b813",
     "grade": true,
     "grade_id": "cell-2436702902334927",
     "locked": true,
     "points": 10,
     "schema_version": 3,
     "solution": false
    }
   },
   "outputs": [],
   "source": [
    "# Test this on the previous problem\n",
    "A = numpy.array([ [ 1., 1., 1.],\n",
    "                  [1., 0., 0.],\n",
    "                  [1., 1., 0.],\n",
    "                  [1., 0., 0.]])\n",
    "b = numpy.array([ 3., -2., 1., 0.])\n",
    "\n",
    "x = mylstq(A,b)\n",
    "x_np = numpy.linalg.lstsq(A,b,rcond = None)[0]\n",
    "print('my solution = {}'.format(x))\n",
    "print('numpy.lstq  = {}'.format(x_np))\n",
    "numpy.testing.assert_allclose(x, x_np)\n",
    "print('Success!')"
   ]
  },
  {
   "cell_type": "markdown",
   "metadata": {
    "deletable": false,
    "editable": false,
    "nbgrader": {
     "cell_type": "markdown",
     "checksum": "e4fe9549ce75395d7cfc5f4bbb52be3c",
     "grade": false,
     "grade_id": "cell-4cd9dd9d53453da5",
     "locked": true,
     "schema_version": 3,
     "solution": false,
     "task": false
    }
   },
   "source": [
    "**(e)** [4] - **Extra Credit** Use your routine to find the best fit of the function \n",
    "\n",
    "$$\n",
    "    y = c_1 x + c_2e^{x}\n",
    "$$ \n",
    "through the $(x, y)$ data points $(1,2)$, $(2,3)$, $(3,5)$, $(4,10)$, $(5,15)$ and make a plot comparing the best fit function to the data over the interval $x \\in [0, 6]$."
   ]
  },
  {
   "cell_type": "code",
   "execution_count": null,
   "metadata": {
    "deletable": false,
    "nbgrader": {
     "cell_type": "code",
     "checksum": "2c5479fe9505b60d51caa632084e10c3",
     "grade": true,
     "grade_id": "cell-7928786480229769",
     "locked": false,
     "points": 0,
     "schema_version": 3,
     "solution": true,
     "task": false
    }
   },
   "outputs": [],
   "source": [
    "# YOUR CODE HERE\n",
    "raise NotImplementedError()"
   ]
  },
  {
   "cell_type": "markdown",
   "metadata": {
    "deletable": false,
    "editable": false,
    "nbgrader": {
     "cell_type": "markdown",
     "checksum": "87f8f198fdcce9738ac8cc30abeed985",
     "grade": false,
     "grade_id": "cell-bf7848c58a2bdab5",
     "locked": true,
     "schema_version": 3,
     "solution": false,
     "task": false
    }
   },
   "source": [
    "## Question 2 - Hidden Figures\n",
    "\n",
    "A little fun with the SVD.  Here we are going to use it extract low-dimensional information embedded in high dimensions.\n",
    "\n",
    "The following cells will read in a matrix of 46765 samples of 5-dimensional data and make a series of scatter plots comparing the data along each dimension pairwise."
   ]
  },
  {
   "cell_type": "code",
   "execution_count": null,
   "metadata": {
    "deletable": false,
    "editable": false,
    "nbgrader": {
     "cell_type": "code",
     "checksum": "60eaec41e76958e527fc44422e614ff5",
     "grade": false,
     "grade_id": "cell-80fabcfdb8328b41",
     "locked": true,
     "schema_version": 3,
     "solution": false,
     "task": false
    }
   },
   "outputs": [],
   "source": [
    "data = pd.read_csv('data.csv.gz').values\n",
    "print('shape = {}'.format(data.shape))"
   ]
  },
  {
   "cell_type": "code",
   "execution_count": null,
   "metadata": {
    "deletable": false,
    "editable": false,
    "nbgrader": {
     "cell_type": "code",
     "checksum": "94ea84ba6c579fb7fb4201b79a1f4860",
     "grade": false,
     "grade_id": "cell-e7b46eba73c42536",
     "locked": true,
     "schema_version": 3,
     "solution": false,
     "task": false
    }
   },
   "outputs": [],
   "source": [
    "# plot scatter diagrams\n",
    "\n",
    "fig = plt.figure(figsize=(20,6))\n",
    "for i in range(4):\n",
    "    axes = fig.add_subplot(1,4,i+1)\n",
    "    axes.scatter(data[:,i],data[:,i+1],s=1)\n",
    "    axes.set_xlabel('x_{}'.format(i), fontsize=16)\n",
    "    axes.set_ylabel('x_{}'.format(i+1),fontsize=16)\n",
    "    axes.grid()\n",
    "plt.show()"
   ]
  },
  {
   "cell_type": "markdown",
   "metadata": {
    "deletable": false,
    "editable": false,
    "nbgrader": {
     "cell_type": "markdown",
     "checksum": "e9c9e5c63409e5c7dfe6612824a336ff",
     "grade": false,
     "grade_id": "cell-8662b1a2888c5d5f",
     "locked": true,
     "schema_version": 3,
     "solution": false,
     "task": false
    }
   },
   "source": [
    "**(a)** [6] Now demean the data and use the SVD to determine the dimension of the subspace of $\\mathbb{R}^5$ that contains the data. Making a plot of the singular values will help. (hint: you will also want to use the `full_matrices=False` argument to the SVD to get the skinny SVD and save a lot of computation and memory)"
   ]
  },
  {
   "cell_type": "code",
   "execution_count": null,
   "metadata": {
    "deletable": false,
    "nbgrader": {
     "cell_type": "code",
     "checksum": "e9165ae9fbec0f448f5338be76d3ae7e",
     "grade": true,
     "grade_id": "cell-14a5b48d1c3909d1",
     "locked": false,
     "points": 4,
     "schema_version": 3,
     "solution": true,
     "task": false
    }
   },
   "outputs": [],
   "source": [
    "# YOUR CODE HERE\n",
    "raise NotImplementedError()"
   ]
  },
  {
   "cell_type": "markdown",
   "metadata": {
    "deletable": false,
    "nbgrader": {
     "cell_type": "markdown",
     "checksum": "e3afe513489ea31fc37b76a0c8531858",
     "grade": true,
     "grade_id": "cell-f6e18fbac126a2ae",
     "locked": false,
     "points": 2,
     "schema_version": 3,
     "solution": true,
     "task": false
    }
   },
   "source": [
    "YOUR ANSWER HERE"
   ]
  },
  {
   "cell_type": "markdown",
   "metadata": {
    "deletable": false,
    "editable": false,
    "nbgrader": {
     "cell_type": "markdown",
     "checksum": "1d9948254d194ad71690abee938bc31d",
     "grade": false,
     "grade_id": "cell-52884795e5bcaf7f",
     "locked": true,
     "schema_version": 3,
     "solution": false,
     "task": false
    }
   },
   "source": [
    "**(b)** [4]  Principal Components. Make a 2-D scatter plot that projects the data onto the plane spanned by the first two principal components (singular vectors of $V$).  and comment.  (**Extra Credit** do this in 3-D)"
   ]
  },
  {
   "cell_type": "code",
   "execution_count": null,
   "metadata": {
    "deletable": false,
    "nbgrader": {
     "cell_type": "code",
     "checksum": "33f2f572d8d469967452ff603fb68fd7",
     "grade": true,
     "grade_id": "cell-60dddb85ea2cd208",
     "locked": false,
     "points": 4,
     "schema_version": 3,
     "solution": true,
     "task": false
    }
   },
   "outputs": [],
   "source": [
    "# YOUR CODE HERE\n",
    "raise NotImplementedError()"
   ]
  }
 ],
 "metadata": {
  "kernelspec": {
   "display_name": "Python 3",
   "language": "python",
   "name": "python3"
  },
  "language_info": {
   "codemirror_mode": {
    "name": "ipython",
    "version": 3
   },
   "file_extension": ".py",
   "mimetype": "text/x-python",
   "name": "python",
   "nbconvert_exporter": "python",
   "pygments_lexer": "ipython3",
   "version": "3.8.8"
  },
  "latex_envs": {
   "bibliofile": "biblio.bib",
   "cite_by": "apalike",
   "current_citInitial": 1,
   "eqLabelWithNumbers": true,
   "eqNumInitial": 0
  }
 },
 "nbformat": 4,
 "nbformat_minor": 4
}
