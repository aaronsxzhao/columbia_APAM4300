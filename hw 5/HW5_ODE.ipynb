{
 "cells": [
  {
   "cell_type": "markdown",
   "metadata": {},
   "source": [
    "Before you turn this problem in, make sure everything runs as expected. First, **restart the kernel** (in the menubar, select Kernel$\\rightarrow$Restart) and then **run all cells** (in the menubar, select Cell$\\rightarrow$Run All).\n",
    "\n",
    "Make sure you fill in any place that says `YOUR CODE HERE` or \"YOUR ANSWER HERE\", as well as any collaborators you worked with:"
   ]
  },
  {
   "cell_type": "code",
   "execution_count": 2,
   "metadata": {},
   "outputs": [],
   "source": [
    "COLLABORATORS = \"me myself and I\""
   ]
  },
  {
   "cell_type": "markdown",
   "metadata": {},
   "source": [
    "---"
   ]
  },
  {
   "cell_type": "code",
   "execution_count": 3,
   "metadata": {},
   "outputs": [],
   "source": [
    "from __future__ import print_function\n",
    "%matplotlib inline\n",
    "%precision 16\n",
    "import numpy\n",
    "import matplotlib.pyplot as plt\n",
    "from scipy.integrate import solve_ivp\n",
    "\n",
    "from stability_diagrams import plot_stability_ssms\n",
    "from stability_diagrams import plot_stability_lmm"
   ]
  },
  {
   "cell_type": "markdown",
   "metadata": {
    "deletable": false,
    "editable": false,
    "nbgrader": {
     "cell_type": "markdown",
     "checksum": "9d5d2b9b0032a51cbbd23829dbd4fb26",
     "grade": false,
     "grade_id": "cell-6282430347078978",
     "locked": true,
     "schema_version": 3,
     "solution": false
    }
   },
   "source": [
    "# HW 5:  ODE Methods - Initial Value Problems\n",
    "\n",
    "These questions will use a mixture of scipy routines and hand-rolled ODE solver methods (which you can use from the notes)"
   ]
  },
  {
   "cell_type": "markdown",
   "metadata": {
    "deletable": false,
    "editable": false,
    "nbgrader": {
     "cell_type": "markdown",
     "checksum": "6d3f50205a301f054a0661bf8eccf775",
     "grade": false,
     "grade_id": "cell-97c426ce43130f77",
     "locked": true,
     "schema_version": 3,
     "solution": false,
     "task": false
    }
   },
   "source": [
    "## Question 1 - The SIR model for Infectious diseases\n",
    "\n",
    "ODE based models are a classical approach to understanding the spread of infectious diseases.\n",
    "\n",
    "One of the pioneering models is the SIR model of [Kermack and McKendrick, (1927)](https://royalsocietypublishing.org/doi/10.1098/rspa.1927.0118) which is a mean-field theory for large populations that assumes the general population can be divided into three subgroups\n",
    "\n",
    "* $S$: the number of susceptible patients\n",
    "* $I$: the number of infected patients\n",
    "* $R$: the number of recovered (or otherwise) patients\n",
    "\n",
    "Given these definitions, the simplest dynamical systems for the three populations can be written\n",
    "\n",
    "$$\n",
    "\\begin{aligned}\n",
    "\\frac{d S}{dt} &= -\\alpha SI \\\\\n",
    "\\frac{d I}{dt} &= \\alpha SI -\\beta I\\\\\n",
    "\\frac{d R}{dt} &= \\beta I \\\\\n",
    "\\end{aligned}\n",
    "$$\n",
    "\n",
    "where $\\alpha$ is the infection rate per person, and $\\beta$ is the recovery rate (hint: check the units) \n",
    "\n",
    "This is the original Kermack and McKendrick model.  We will discuss a host of themes and variations later.  If you are interested [Siettos and Russo, (2013)](https://doi.org/10.4161/viru.24041) provides a short overview of the much larger field of epidemiology modeling (although this paper has some significant mistakes with respect to the analysis of the Kermack and McKendrick model, and I'm sure there are considerably more papers on modeling epidemics now).\n",
    "\n",
    "We will explore this problem through a combination of Analysis and Numerical methods and to use it to test different methods for ODE solvers.\n"
   ]
  },
  {
   "cell_type": "markdown",
   "metadata": {
    "deletable": false,
    "editable": false,
    "nbgrader": {
     "cell_type": "markdown",
     "checksum": "9d56e0a3dcd650ebafd65482f9f8284c",
     "grade": false,
     "grade_id": "cell-d57d5cccd5fe437a",
     "locked": true,
     "schema_version": 3,
     "solution": false,
     "task": false
    }
   },
   "source": [
    "**(a)** [4] First try to explain in words,  what this system of ODE's describes"
   ]
  },
  {
   "cell_type": "markdown",
   "metadata": {
    "deletable": false,
    "hide_input": true,
    "nbgrader": {
     "cell_type": "markdown",
     "checksum": "3a50bb5fe5e3cea6be689f0f83eba3d5",
     "grade": true,
     "grade_id": "cell-78f1cbd4419916a6",
     "locked": false,
     "points": 4,
     "schema_version": 3,
     "solution": true,
     "task": false
    }
   },
   "source": [
    "**Answer to Questoin 1 (a)**\n",
    "\n",
    "The ODE system above describe the growing tendency of all the parameters($S$, $I$, $R$) wrt time $t$. \n",
    "\n",
    "$ \\frac{d S}{dt} $ describes how the number of susceotible patients changes when time changes, and it actually gives us a growing rate of $-\\alpha SI$. Thru observation, we can know the changing rate of susceptible patients has a relationship with infection rate person, the current susceptible patients and the total number of infected patients. After multiplying these three together we can get the changing rate of susceptible patients wrt time $t$.\n",
    "\n",
    "$ \\frac{d I}{dt} $ describes how the number of infected patients changes when time changes. \n",
    "\n",
    "$ \\frac{d R}{dt} $ describes how the number of recovered patients changes when time changes.\n",
    "\n"
   ]
  },
  {
   "cell_type": "markdown",
   "metadata": {
    "deletable": false,
    "editable": false,
    "nbgrader": {
     "cell_type": "markdown",
     "checksum": "560e626bedbdf30b4de0409b4266bb04",
     "grade": false,
     "grade_id": "cell-c02805feb94b785b",
     "locked": true,
     "schema_version": 3,
     "solution": false,
     "task": false
    }
   },
   "source": [
    "### Some analysis.  \n",
    "\n",
    "Here we will conduct some elementary dimensional analysis to reduce the parameter space.  More detailed analysis of this system can be found  in Steve Strogatz' excellent text on [dynamical systems](https://smile.amazon.com/Nonlinear-Dynamics-Chaos-Applications-Nonlinearity/dp/0813349109/ref=dp_ob_image_bk)"
   ]
  },
  {
   "cell_type": "markdown",
   "metadata": {
    "deletable": false,
    "editable": false,
    "nbgrader": {
     "cell_type": "markdown",
     "checksum": "e0ff12772c25324e8cf54b989bfe15a1",
     "grade": false,
     "grade_id": "cell-28b8298c72a5a12c",
     "locked": true,
     "schema_version": 3,
     "solution": false,
     "task": false
    }
   },
   "source": [
    "**(b)** [2] Show that the SIR equations imply that   $S + I + R = N$  where $N$ is a constant (the total population of susceptible people that can all interact)"
   ]
  },
  {
   "cell_type": "markdown",
   "metadata": {
    "deletable": false,
    "nbgrader": {
     "cell_type": "markdown",
     "checksum": "f2f763bc3313b8cace5cadf627a502d3",
     "grade": true,
     "grade_id": "cell-0faef9786658c554",
     "locked": false,
     "points": 2,
     "schema_version": 3,
     "solution": true,
     "task": false
    }
   },
   "source": [
    "**Answer to Question 1 (b)**\n",
    "\n",
    "Since we know the system is:\n",
    "\n",
    "$$\n",
    "\\begin{aligned}\n",
    "\\frac{d S}{dt} &= -\\alpha SI \\\\\n",
    "\\frac{d I}{dt} &= \\alpha SI -\\beta I\\\\\n",
    "\\frac{d R}{dt} &= \\beta I \\\\\n",
    "\\end{aligned}\n",
    "$$\n",
    "\n",
    "We can then know the sum of the derivatives of SIR equation can be written as below:\n",
    "\n",
    "$$\n",
    "\\begin{aligned}\n",
    "\\frac{d S}{dt} + \\frac{d I}{dt} + \\frac{d R}{dt} &= -\\alpha SI + \\alpha SI -\\beta I + \\beta I\\\\\n",
    "&= 0\n",
    "\\end{aligned}\n",
    "$$\n",
    "\n",
    "We then can show that the SIR equations imply that $S + I + R = N$ equals to a constant since the derivative of a constant equals to zero"
   ]
  },
  {
   "cell_type": "markdown",
   "metadata": {
    "deletable": false,
    "editable": false,
    "nbgrader": {
     "cell_type": "markdown",
     "checksum": "3a58cb6d7898d03ebb9587b9b4fda4b1",
     "grade": false,
     "grade_id": "cell-b89ec7cd57121b35",
     "locked": true,
     "schema_version": 3,
     "solution": false,
     "task": false
    }
   },
   "source": [
    "**(c)**  [4] Show that under  the change of variables (linear scaling of the variables)\n",
    "\n",
    "$$\n",
    "\\begin{matrix}\n",
    "    S = N s, & I = Ni, & R = Nr, & t = \\tau\\frac{1}{\\alpha N} \\\\\n",
    "\\end{matrix}\n",
    "$$\n",
    "\n",
    "The original equations can be rewritten as the scaled equations \n",
    "\n",
    "$$\n",
    "\\begin{align}\n",
    "    \\frac{d s}{d\\tau} &= -si\\\\\n",
    "    \\frac{d i}{d\\tau} &= (s - s^*)i  \\\\\n",
    "    \\frac{d r}{d\\tau} & = s^* i \\\\\n",
    "\\end{align}\n",
    "$$\n",
    "\n",
    "where \n",
    "$$\n",
    "    s^* = \\frac{\\beta}{\\alpha N}\n",
    "$$\n",
    "\n",
    "\n",
    "\n",
    "**Notes**,  \n",
    "* if we write $s = S/N$ etc. then $s$ is simply the fraction of the total population that is susceptible.  \n",
    "* Also show that $s + i + r = 1$.\n",
    "* this scaling reduces a two-parameter problem to a one parameter problem where the only variable is $s^*$\n",
    "\n"
   ]
  },
  {
   "cell_type": "markdown",
   "metadata": {
    "deletable": false,
    "nbgrader": {
     "cell_type": "markdown",
     "checksum": "8c3c68b4bd0e77099fcee9fcae1a50a3",
     "grade": true,
     "grade_id": "cell-6f14e3bb8e908989",
     "locked": false,
     "points": 4,
     "schema_version": 3,
     "solution": true,
     "task": false
    }
   },
   "source": [
    "**Asnwer to Question 1 (c)**\n",
    "\n",
    "We start the change from $\\frac{d S}{d t}$\n",
    "\n",
    "$$\n",
    "\\begin{aligned}\n",
    "\\frac{d S}{d t} &= \\frac{d Ns}{d \\tau\\frac{1}{\\alpha N}}\\\\\n",
    "&= \\alpha N^2 \\frac{d s}{d \\tau}\\\\\n",
    "\\frac{d S}{d t} &= -\\alpha SI = \\alpha N^2 (-si)\\\\\n",
    "\\alpha N^2 \\frac{d s}{d \\tau} &= \\alpha N^2 (-si)\\\\\n",
    "\\frac{d s}{d \\tau} &= -si\n",
    "\\end{aligned}\n",
    "$$\n",
    "\n",
    "Then, we can use the same methodology on the second equation:\n",
    "\n",
    "$$\n",
    "\\begin{aligned}\n",
    "\\frac{d I}{d t} &= \\frac{d Ni}{d \\tau\\frac{1}{\\alpha N}}\\\\\n",
    "&= \\alpha N^2 \\frac{d i}{d \\tau}\\\\\n",
    "\\frac{d I}{d t} &= \\alpha SI -\\beta I = \\alpha N^2 si - \\beta N i\\\\\n",
    "\\alpha N^2 \\frac{d i}{d \\tau} &= \\alpha N^2 si - \\beta N i\\\\\n",
    "\\frac{d i}{d \\tau} &= s(i - \\beta N )i\\\\\n",
    "&= (s - s^*)i\n",
    "\\end{aligned}\n",
    "$$\n",
    "\n",
    "Also, the same thing should be applied on the third equation:\n",
    "\n",
    "$$\n",
    "\\begin{aligned}\n",
    "\\frac{d R}{d t} &= \\frac{d Nr}{d \\tau\\frac{1}{\\alpha N}}\\\\\n",
    "&= \\alpha N^2 \\frac{d r}{d \\tau}\\\\\n",
    "\\frac{d R}{d t} &= \\beta I = \\beta N i\\\\\n",
    "\\alpha N^2 \\frac{d i}{d \\tau} &= \\beta N i\\\\\n",
    "\\frac{d r}{d \\tau} &= \\beta N i\\\\\n",
    "&= s^* i\n",
    "\\end{aligned}\n",
    "$$\n",
    "\n",
    "\n",
    "If we want to proof $s + i + r = 1$, we have the proof as below:\n",
    "\n",
    "$$\n",
    "\\begin{aligned}\n",
    "s+i+r &= \\frac{S}{N} + \\frac{I}{N} + \\frac{R}{N} \\\\\n",
    "s+i+r &= \\frac{S+I+R}{N} \\\\\n",
    "s+i+r &= \\frac{N}{N} = 1\n",
    "\\end{aligned}\n",
    "$$"
   ]
  },
  {
   "cell_type": "markdown",
   "metadata": {
    "deletable": false,
    "editable": false,
    "nbgrader": {
     "cell_type": "markdown",
     "checksum": "17cba206e05e72a92b6b537e5e13f9f4",
     "grade": false,
     "grade_id": "cell-46af647b89cac330",
     "locked": true,
     "schema_version": 3,
     "solution": false,
     "task": false
    }
   },
   "source": [
    "**(d)**  [2] Given that $s^*$ is a constant that only depends on the infection rate per capita $\\alpha$, the recovery rate $\\beta$ and the total population $N$,  interpret the equation for the change in the number of infections\n",
    "\n",
    "$$\n",
    "    \\frac{d i}{d\\tau} = (s - s^*) i\n",
    "$$\n",
    "as a function of the susceptible fraction of the population $s$."
   ]
  },
  {
   "cell_type": "markdown",
   "metadata": {
    "deletable": false,
    "nbgrader": {
     "cell_type": "markdown",
     "checksum": "ab726ca04cc86cb954bcf52e38069414",
     "grade": true,
     "grade_id": "cell-40ede972a75cd41a",
     "locked": false,
     "points": 2,
     "schema_version": 3,
     "solution": true,
     "task": false
    }
   },
   "source": [
    "**Answer to Question 1 (d)**\n",
    "\n",
    "$s^*$ can be interpreted as the fraction of the percentage of recovered patients over the percdentage of the population that was infected"
   ]
  },
  {
   "cell_type": "markdown",
   "metadata": {
    "deletable": false,
    "editable": false,
    "nbgrader": {
     "cell_type": "markdown",
     "checksum": "f14f45e92d83b36ddd331cadf0135ee5",
     "grade": false,
     "grade_id": "cell-4ecd957efe129fa5",
     "locked": true,
     "schema_version": 3,
     "solution": false,
     "task": false
    }
   },
   "source": [
    "### Numerical Methods\n",
    "\n",
    "we will now explore the behavior of this model numerically using a range of our basic algorithms by solving the scaled dynamical system\n",
    "\n",
    "$$\n",
    "    \\frac{d\\mathbf{u}}{dt} = \\mathbf{F}(t,\\mathbf{u}, s^*),\\quad\\mathbf{u}(0)=\\mathbf{u}_0\n",
    "$$\n",
    "\n",
    "where \n",
    "$$\n",
    "    \\mathbf{u} = \\begin{bmatrix} s \\\\ i \\\\ r \\\\ \\end{bmatrix}, \\quad \n",
    "    \\mathbf{F}(t,\\mathbf{u},s^*) = \\begin{bmatrix} -si \\\\ (s - s^*)i \\\\ s^*i \\\\ \\end{bmatrix}\n",
    "$$"
   ]
  },
  {
   "cell_type": "markdown",
   "metadata": {},
   "source": [
    "**(e)** [4] Write function to return the RHS of the scaled dynamical system $\\mathbf{F}(t,\\mathbf{u},s^*)$ as a numpy array"
   ]
  },
  {
   "cell_type": "code",
   "execution_count": 4,
   "metadata": {
    "deletable": false,
    "hide_input": false,
    "nbgrader": {
     "cell_type": "code",
     "checksum": "97094ce0210c5618cf05d1e6a2782f90",
     "grade": false,
     "grade_id": "cell-262f28b1e5913ee6",
     "locked": false,
     "schema_version": 3,
     "solution": true,
     "task": false
    }
   },
   "outputs": [],
   "source": [
    "def F(t, u, s_star):\n",
    "    \"\"\" RHS of scaled SIR model of Kermack and McKendrick\n",
    "    \n",
    "    parameters\n",
    "    ----------\n",
    "        t: float\n",
    "            time (just a dummy variable here because this is an autonomous system)\n",
    "        u: numpy array\n",
    "            array of scaled [ s, i, r ] values such that sum(u) = 1 \n",
    "            (and s,i, r are fractions of the total population N)\n",
    "        s_star: float\n",
    "            scaled critical susceptible population = \\beta/(\\alpha N)\n",
    "            \n",
    "    returns:\n",
    "        F(u): numpy array\n",
    "    \"\"\"\n",
    "    \n",
    "    u = numpy.array([u[0]/(u[0]+u[1]+u[2]), u[1]/(u[0]+u[1]+u[2]), u[2]/(u[0]+u[1]+u[2])])\n",
    "    \n",
    "    F_u = numpy.array([-u[0]*u[1], (u[0]-s_star)*u[1], s_star * u[1]])\n",
    "    \n",
    "    return F_u\n",
    "    \n",
    "    "
   ]
  },
  {
   "cell_type": "code",
   "execution_count": 5,
   "metadata": {
    "deletable": false,
    "editable": false,
    "hide_input": false,
    "nbgrader": {
     "cell_type": "code",
     "checksum": "12fac581407142514fda702e3b5a978b",
     "grade": true,
     "grade_id": "cell-072d933c0fd03951",
     "locked": true,
     "points": 4,
     "schema_version": 3,
     "solution": false,
     "task": false
    }
   },
   "outputs": [
    {
     "name": "stdout",
     "output_type": "stream",
     "text": [
      "success!\n"
     ]
    }
   ],
   "source": [
    "# Let's assume the critical level of immunity is 60% of the total population\n",
    "s_star = 0.6\n",
    "\n",
    "# let there initially be .01 % infected cases and no recovered\n",
    "t = 0.\n",
    "i_0 = 1.e-4\n",
    "u_0 = numpy.array([1. - i_0, i_0, 0.0])\n",
    "answer = numpy.array([-9.999000000000001e-05,  3.999000000000001e-05, 6.000000000000000e-05])\n",
    "numpy.testing.assert_allclose(F(t, u_0, s_star), answer)\n",
    "print('success!')"
   ]
  },
  {
   "cell_type": "markdown",
   "metadata": {
    "deletable": false,
    "editable": false,
    "nbgrader": {
     "cell_type": "markdown",
     "checksum": "323ccd8f079ed8cdcff01a8adb5cb12b",
     "grade": false,
     "grade_id": "cell-4822191656183239434",
     "locked": true,
     "schema_version": 3,
     "solution": false
    }
   },
   "source": [
    "**(f)** [10] Use scipy.integrate.solve_ivp (imported above as solve_ivp),  to solve the scaled dynamical system above with for <font color=\"red\">$s^* = 0.6$</font> and initial condition\n",
    "\n",
    "$$\n",
    "    \\mathbf{u}_0 = \\begin{bmatrix} 1 - i_0\\\\ i_0 \\\\ 0\\\\ \\end{bmatrix}\n",
    "$$\n",
    "\n",
    "where $i_0=10^{-5}$ is the initially infected proportion of the available population $N$\n",
    "\n",
    "Integrate for $t\\in[0, 50]$ and make a plot showing the evolution of $s(t)$, $i(t)$, ${r}(t)$ vs. time \n",
    "\n",
    "**For full credit your plot should show the following**\n",
    "* show the actual time-steps chosen by the adaptive solver as well as a smooth solution (use dense_output=True) \n",
    "* the total cumulative number of cases at any time\n",
    "* the time and infection level of the peak of the infection (hint: use the `events`, feature of solve_ivp)\n",
    "* the maximum fraction of people infected at $t=50$\n",
    "\n",
    "Explore the behavior of the solutions as a function of $s^*$ and $i_0$ and try to \"flatten the curve\" (we will try to make that more quantitative later). Also,  explore relative and absolute tolerances to convince yourself that your solutions are well resolved."
   ]
  },
  {
   "cell_type": "code",
   "execution_count": 6,
   "metadata": {
    "deletable": false,
    "hide_input": false,
    "nbgrader": {
     "cell_type": "code",
     "checksum": "f2bf5e8f1c26302e22265c386e195c9b",
     "grade": true,
     "grade_id": "cell-2d91985a44491d34",
     "locked": false,
     "points": 10,
     "schema_version": 3,
     "solution": true,
     "task": false
    }
   },
   "outputs": [
    {
     "data": {
      "image/png": "[encoded data removed]",
      "text/plain": [
       "<Figure size 1440x504 with 1 Axes>"
      ]
     },
     "metadata": {
      "needs_background": "light"
     },
     "output_type": "display_data"
    }
   ],
   "source": [
    "s_star = 0.6\n",
    "i_0 = 1.e-5\n",
    "t_max = 50\n",
    "t = numpy.linspace(0, t_max, 500)\n",
    "u_0 = [1.-i_0, i_0, 0]\n",
    "f = lambda t, u : F(t, u, s_star)\n",
    "sol = solve_ivp(f, [0, t_max], u_0, dense_output=True)\n",
    "\n",
    "# Plot everything\n",
    "\n",
    "fig = plt.figure(figsize=(20,7))\n",
    "axes = fig.add_subplot(1, 2, 1)\n",
    "\n",
    "axes.plot(sol.t, sol.y[0], 'o-',label='Suspectible')\n",
    "axes.plot(sol.t, sol.y[1], 'o-',label='Infected')\n",
    "axes.plot(sol.t, sol.y[2], 'o-',label='Recovered/Otherwise')\n",
    "axes.vlines(sol.t[7],0,max(sol.y[1]),linestyle='dashed',label='Max Infected')\n",
    "axes.hlines(max(sol.y[1]),0,sol.t[7],linestyle='dashed')\n",
    "\n",
    "axes.set_title(\"Plot of Solution to SIR, i_0 =:{}\".format(i_0), fontsize=18)\n",
    "axes.set_xlabel(\"t\", fontsize=16)\n",
    "axes.set_ylabel(\"y(t)\", fontsize=16)\n",
    "axes.legend()\n",
    "axes.grid()"
   ]
  },
  {
   "cell_type": "markdown",
   "metadata": {
    "deletable": false,
    "editable": false,
    "nbgrader": {
     "cell_type": "markdown",
     "checksum": "30d412ab682484e13aeb5dafe040b528",
     "grade": false,
     "grade_id": "cell-48221916561834547",
     "locked": true,
     "schema_version": 3,
     "solution": false
    }
   },
   "source": [
    "**(g)** [8] Write your own code to solve the same system using any constant step-size method we discussed in class that is higher than 2nd order (you can use or modify any of the example codes from the notes and make sure it works for vector valued functions.   Your code should be able to use your function $F$ defined above. Make sure to choose a method that will work for the non-linear right-hand-side. We will test it against the output from solve_ivp with N steps uniform steps in $t\\in[0,50]$.  What is the minimum number of steps does your routine take to pass the tests with a relative error of $10^{-4}$ and absolute error of $10^{-5}?.  You can control the number of steps taken with the `N=??` defined at the end of the cell.  **Extra Credit** determine the convergence rate of your method."
   ]
  },
  {
   "cell_type": "code",
   "execution_count": 7,
   "metadata": {
    "deletable": false,
    "hide_input": false,
    "nbgrader": {
     "cell_type": "code",
     "checksum": "13e09fcf965c1b3c41354c08f3f10977",
     "grade": false,
     "grade_id": "cell-918222306640123434",
     "locked": false,
     "schema_version": 3,
     "solution": true,
     "task": false
    }
   },
   "outputs": [],
   "source": [
    "def my_ode_solver(f, t_span, u0, N):\n",
    "    \"\"\" implement constant step size ODE integrator using a ________ method\n",
    "    \n",
    "    parameters\n",
    "    ----------\n",
    "        f: calleable\n",
    "            vector valued function with interface f(t,u) where u is the state vector\n",
    "        t_span: float list or array (or tuple)\n",
    "            array holding range of times to integrate over t_span = [ t_min, t_max]\n",
    "        u0:  numpy array\n",
    "            array of initial conditions\n",
    "        N: integer\n",
    "            number of time steps to take \n",
    "            \n",
    "    returns:\n",
    "    --------\n",
    "        t: numpy array\n",
    "            array of timesteps from t_min to t_max of length N\n",
    "        u: numpy array of shape (len(u0), len(t))\n",
    "            solution array,  the solution at timestep i should be u[:,i]\n",
    "    \"\"\"\n",
    "    t = numpy.linspace(t_span[0], t_span[1], N)\n",
    "    delta_t = t[1] - t[0]\n",
    "    u = [u0]\n",
    "    \n",
    "    for (n, t_n) in enumerate(t[1:]):\n",
    "        K_1 = delta_t * f(t_n, u[n])\n",
    "        K_2 = delta_t * f(t_n + delta_t/2., u[n] + K_1/2.)\n",
    "        K_3 = delta_t * f(t_n + delta_t/2., u[n] + K_2/2.)\n",
    "        K_4 = delta_t * f(t_n + delta_t, u[n] + K_3)\n",
    "        u.append(u[n] + 1./6. * (K_1 + 2.*( K_2 + K_3) + K_4))\n",
    "    \n",
    "    u = list(zip(*u))\n",
    "    u = numpy.asarray(u)\n",
    "    u = u.reshape(3,N)\n",
    "    \n",
    "    \n",
    "    return t, u \n",
    "\n",
    "# you can control the number of steps used here\n",
    "N = 100 \n"
   ]
  },
  {
   "cell_type": "code",
   "execution_count": 8,
   "metadata": {
    "deletable": false,
    "editable": false,
    "hide_input": false,
    "nbgrader": {
     "cell_type": "code",
     "checksum": "f7be2a6e93a825a99f752ab8e4102652",
     "grade": true,
     "grade_id": "cell-918222306640124",
     "locked": true,
     "points": 8,
     "schema_version": 3,
     "solution": false,
     "task": false
    }
   },
   "outputs": [
    {
     "name": "stdout",
     "output_type": "stream",
     "text": [
      "success!\n"
     ]
    }
   ],
   "source": [
    "s_star = 0.6\n",
    "f = lambda t, u: F(t, u, s_star)\n",
    "\n",
    "t_span = [0., 50.]\n",
    "i_0 = 1.e-5\n",
    "u_0 = numpy.array([1. - i_0, i_0, 0.0])\n",
    "\n",
    "\n",
    "t, u = my_ode_solver(f, t_span, u_0, N)\n",
    "\n",
    "# There was a hidden line here implementing sol = solve_ivp to get the \"True\" solution\n",
    "sol = solve_ivp(f, t_span, u_0, method='RK45', dense_output=True, rtol=1.e-6, atol = 1.e-8)\n",
    "\n",
    "numpy.testing.assert_allclose(u, sol.sol(t), rtol=1.e-4, atol=1.e-5)\n",
    "print('success!')"
   ]
  },
  {
   "cell_type": "markdown",
   "metadata": {
    "deletable": false,
    "editable": false,
    "nbgrader": {
     "cell_type": "markdown",
     "checksum": "206ea91d42a6ed18738f8eb5e410ac6a",
     "grade": false,
     "grade_id": "cell-72ea6dc8a2813be7",
     "locked": true,
     "schema_version": 3,
     "solution": false,
     "task": false
    }
   },
   "source": [
    "**(h)** [2] Reproduce your figure from the scipy version (without events)"
   ]
  },
  {
   "cell_type": "code",
   "execution_count": 9,
   "metadata": {
    "deletable": false,
    "hide_input": false,
    "nbgrader": {
     "cell_type": "code",
     "checksum": "c7fbad01da98f1196ea96430b8c5cf0e",
     "grade": true,
     "grade_id": "cell-9182223066423o434",
     "locked": false,
     "points": 2,
     "schema_version": 3,
     "solution": true,
     "task": false
    }
   },
   "outputs": [
    {
     "data": {
      "image/png": "[encoded data removed]",
      "text/plain": [
       "<Figure size 720x432 with 1 Axes>"
      ]
     },
     "metadata": {
      "needs_background": "light"
     },
     "output_type": "display_data"
    }
   ],
   "source": [
    "fig = plt.figure(figsize=(10,6))\n",
    "axes = fig.add_subplot(1, 1, 1)\n",
    "\n",
    "axes.plot(sol.t, sol.y[0], 'o-',label='Suspectible')\n",
    "axes.plot(sol.t, sol.y[1], 'o-',label='Infected')\n",
    "axes.plot(sol.t, sol.y[2], 'o-',label='Recovered')\n",
    "\n",
    "axes.set_title(\"Plot of Solution to SIR\", fontsize=18)\n",
    "axes.set_xlabel(\"t\", fontsize=16)\n",
    "axes.set_ylabel(\"y(t)\", fontsize=16)\n",
    "axes.legend()\n",
    "axes.grid()"
   ]
  },
  {
   "cell_type": "markdown",
   "metadata": {
    "deletable": false,
    "editable": false,
    "nbgrader": {
     "cell_type": "markdown",
     "checksum": "d274a3b7092e944b682f734b980362b3",
     "grade": false,
     "grade_id": "cell-062d990b667d61f1",
     "locked": true,
     "schema_version": 3,
     "solution": false,
     "task": false
    }
   },
   "source": [
    "###  Themes and Variations -- Some project ideas\n",
    "\n",
    "The classical Kermack and McKendric model is only one of a vast set of models used to model the spread of infection disease but assumes homogeneous mixing across the entire population.  In addition there are lots of things  to explore with even the simplest SIR model.   If you are interested in this sort of ODE model as a possible project, here are a few things you might want to explore\n",
    "\n",
    "\n",
    "* Choose a fixed value of $N$ for the maximum susceptible population. Assume that maximum hospital capacity is achieved when the number of infected patients reaches $i_{max}$.  Construct a root-finding problem to find the value of $s^*$ required to keep  the peak number of infected cases $i_{peak} <= i_{max}$. \n",
    "\n",
    "* Consider the possibility of re-infection (ugh!).  One model of this assumes that recovered patients can become susceptible again at some rate $\\lambda$.  Modify the original SIR model to include this possibility and construct a new scaled set of equations.  This will now be a 2 parameter dynamical system ($s^*$ and another parameter say $\\lambda^*$.  Explore the behavior of this new problem.\n",
    "\n",
    "* Develop a model that includes the effects of vaccinations\n",
    "\n",
    "* Show that the original SIR model allows at most one peak in infections.  Then try to construct a better model that allows multiple peaks.\n",
    "\n",
    "* Read [Siettos and Russo, (2013)](https://doi.org/10.4161/viru.24041) (or find a better paper) which reviews a range of epidemiology models including Stochastic SIR models. Wikipedia also has several pages on modeling epidemics ([here](https://en.wikipedia.org/wiki/Compartmental_models_in_epidemiology) , and [here](https://en.wikipedia.org/wiki/Mathematical_modelling_of_infectious_disease)) Pick another model, implement it and compare it's behavior with the basic SIR model.\n",
    "\n",
    "* Something Numerical: Write an adaptive time stepper built around any two single-step multi-stage schemes and compare your solution to solve_ivp.\n",
    "\n",
    "* Your own best ideas!\n",
    "\n"
   ]
  },
  {
   "cell_type": "markdown",
   "metadata": {
    "deletable": false,
    "editable": false,
    "nbgrader": {
     "cell_type": "markdown",
     "checksum": "f82640bdadf4ecd7d32406fba71374a3",
     "grade": false,
     "grade_id": "cell-c54586fa263cc449",
     "locked": true,
     "schema_version": 3,
     "solution": false,
     "task": false
    }
   },
   "source": [
    "## Question 2 - Absolute Stability Regions Single-Step Multi-stage schemes"
   ]
  },
  {
   "cell_type": "markdown",
   "metadata": {
    "deletable": false,
    "editable": false,
    "nbgrader": {
     "cell_type": "markdown",
     "checksum": "4c43299a2318bf213b6514e7fe8ac79a",
     "grade": false,
     "grade_id": "cell-dd9d7792263258d8",
     "locked": true,
     "schema_version": 3,
     "solution": false,
     "task": false
    }
   },
   "source": [
    "**(a)** [4 pt] Taylor Series method:\n",
    "    \n",
    "Show that $R(z)$ for a Taylor's series method of order $p$ acting on the model problem $u'=\\lambda u$ always just returns the first $p+1$ terms of the Taylor series of $e^z$."
   ]
  },
  {
   "cell_type": "markdown",
   "metadata": {
    "deletable": false,
    "nbgrader": {
     "cell_type": "markdown",
     "checksum": "f5bb5b09ab8d30954162f309886ebf0c",
     "grade": true,
     "grade_id": "cell-1ca065b824f2cbb0",
     "locked": false,
     "points": 4,
     "schema_version": 3,
     "solution": true,
     "task": false
    }
   },
   "source": [
    "**Answer to Question 2 (a)**\n",
    "\n",
    "We first derive the 2nd order Taylor Series method:\n",
    "\n",
    "$$\n",
    "\\begin{aligned}\n",
    "U_{n+1} &= U_{n} + U_{n}^{\\prime}\\Delta t  + U_{n}^{\\prime\\prime}\\frac{\\Delta t^2}{2}\\\\\n",
    "        &= U_{n} + \\lambda U_{n}\\Delta t  + \\lambda^2 U_{n}\\frac{\\Delta t^2}{2}\\\\\n",
    "        &= U_{n} \\left[1 + \\lambda \\Delta t  + \\lambda^2 \\frac{\\Delta t^2}{2}\\right]\\\\\n",
    "        &= U_{n} \\left[1 + z + \\frac{z^2}{2}\\right]\\\\\n",
    "R(z) &= 1 +  z + \\frac{z^2}{2}\n",
    "\\end{aligned}\n",
    "$$\n",
    "\n",
    "We can know the there are three terms in my $R(z)$ and 3 equals to 2+1\n",
    "\n",
    "We then derive the 4th order Taylor Series method:\n",
    "\n",
    "$$\n",
    "\\begin{aligned}\n",
    "U_{n+1} &= U_{n} + U_{n}^{\\prime}\\Delta t  + U_{n}^{\\prime\\prime}\\frac{\\Delta t^2}{2} + U_{n}^{\\prime\\prime\\prime}\\frac{\\Delta t^3}{3!}+ U_{n}^{\\prime\\prime\\prime\\prime}\\frac{\\Delta t^4}{4!}\\\\\n",
    "        &= U_{n} + \\lambda U_{n}\\Delta t  + \\lambda^2 U_{n}\\frac{\\Delta t^2}{2} + \\lambda^3 U_{n}\\frac{\\Delta t^3}{3!} + \\lambda^4 U_{n}\\frac{\\Delta t^4}{4!}\\\\\n",
    "        &= U_{n} \\left[1 + \\lambda \\Delta t  + \\lambda^2 \\frac{\\Delta t^2}{2}+\\frac{\\Delta t^3}{3!} +\\frac{\\Delta t^4}{4!}\\right]\\\\\n",
    "        &= U_{n} \\left[1 + z + \\frac{z^2}{2} + \\frac{z^3}{3!}+\\frac{z^4}{4!}\\right]\\\\\n",
    "R(z) &= 1 +  z + \\frac{z^2}{2}+\\frac{z^3}{3!}+\\frac{z^4}{4!}\n",
    "\\end{aligned}\n",
    "$$\n",
    "\n",
    "We can know the there are five terms in my $R(z)$ and 5 equals to 4+1"
   ]
  },
  {
   "cell_type": "markdown",
   "metadata": {
    "deletable": false,
    "editable": false,
    "nbgrader": {
     "cell_type": "markdown",
     "checksum": "2d9eb1124c7bc577827b093264976e64",
     "grade": false,
     "grade_id": "cell-273021c1878d0b00",
     "locked": true,
     "schema_version": 3,
     "solution": false,
     "task": false
    }
   },
   "source": [
    "**(b)** [4 pt] Plot the regions of absolute stability for Taylor Series methods of order 2-5\n",
    "\n",
    "You can use the plotting codes given in class and included in the file stability_diagrams.py which are imported in the first cell"
   ]
  },
  {
   "cell_type": "code",
   "execution_count": 10,
   "metadata": {
    "deletable": false,
    "nbgrader": {
     "cell_type": "code",
     "checksum": "b1a3a886fcf13a05d017a97dbe14733a",
     "grade": true,
     "grade_id": "cell-9c688399c72e251a",
     "locked": false,
     "points": 4,
     "schema_version": 3,
     "solution": true,
     "task": false
    }
   },
   "outputs": [
    {
     "data": {
      "image/png": "[encoded data removed]",
      "text/plain": [
       "<Figure size 864x864 with 8 Axes>"
      ]
     },
     "metadata": {
      "needs_background": "light"
     },
     "output_type": "display_data"
    }
   ],
   "source": [
    "x = numpy.linspace(-4,4,100)\n",
    "y = numpy.linspace(-4,4,100)\n",
    "\n",
    "R_2 = lambda z: 1 + z + z**2/2.\n",
    "R_3 = lambda z: 1 + z + z**2/2. + z**3/6.\n",
    "R_4 = lambda z: 1 + z + z**2/2. + z**3/6. + z**4/24.\n",
    "R_5 = lambda z: 1 + z + z**2/2. + z**3/6. + z**4/24. + z**5/120.\n",
    "\n",
    "fig = plt.figure(figsize=(12,12))\n",
    "axes = fig.add_subplot(2,2,1)\n",
    "plot_stability_ssms(R_2, x, y, axes=axes, title='Taylor Series Method Order 2')\n",
    "\n",
    "axes = fig.add_subplot(2,2,2)\n",
    "plot_stability_ssms(R_3, x, y, axes=axes, title='Taylor Series Method Order 3')\n",
    "\n",
    "axes = fig.add_subplot(2,2,3)\n",
    "plot_stability_ssms(R_4, x, y, axes=axes, title='Taylor Series Method Order 4')\n",
    "\n",
    "axes = fig.add_subplot(2,2,4)\n",
    "plot_stability_ssms(R_5, x, y, axes=axes, title='Taylor Series Method Order 5')"
   ]
  },
  {
   "cell_type": "markdown",
   "metadata": {
    "deletable": false,
    "editable": false,
    "nbgrader": {
     "cell_type": "markdown",
     "checksum": "4cd9edb39602b50c79729aed18509454",
     "grade": false,
     "grade_id": "cell-cf67bcdf6e56f88a",
     "locked": true,
     "schema_version": 3,
     "solution": false,
     "task": false
    }
   },
   "source": [
    "**(b)** [4 pt] Derive $R(z)$ for the RK2 method and show that it is equivalent to Taylor 2\n",
    "\n",
    "**Extra Credit**  show that $R(Z)$ for RK4 is identical to Taylor-4 (in general this is true for explicit RK methods)"
   ]
  },
  {
   "cell_type": "markdown",
   "metadata": {
    "deletable": false,
    "nbgrader": {
     "cell_type": "markdown",
     "checksum": "f8c04e94acf46b8f5bcda7c6529a4263",
     "grade": true,
     "grade_id": "cell-ccd05ce9cfbb3ae0",
     "locked": false,
     "points": 4,
     "schema_version": 3,
     "solution": true,
     "task": false
    }
   },
   "source": [
    "**Answer to Question 2 (b)**\n",
    "\n",
    "We firstly can derive $R(z)$ for RK2 as below:\n",
    "\n",
    "$$\n",
    "\\begin{align}\n",
    "U_{n+1} &= U_n + \\Delta t f(U_n + \\frac{1}{2} \\Delta t f(U_n)) \\\\\n",
    "U_{n+1} &= U_n + \\Delta t f(U_n + \\frac{1}{2} \\Delta t \\lambda U_n) \\\\\n",
    "U_{n+1} &= U_n + \\Delta t \\lambda U_n + \\frac{1}{2} \\Delta t^2 \\lambda^2 U_n \\\\\n",
    "U_{n+1} &= U_n + zU_n + \\frac{1}{2}z^2U_n \\\\\n",
    "R(z) &= 1 + z + \\frac{1}{2}z^2\n",
    "\\end{align}\n",
    "$$\n",
    "\n",
    "We can then know the RK2 method is equivalent to Taylor 2\n",
    "\n",
    "We then can derive $R(z)$ for RK4 as below:\n",
    "\n",
    "$$\n",
    "\\begin{aligned}\n",
    "U_{n+1} =& U_n + \\frac{1}{6}\\left[\\Delta t f(t_n, U_n) + 2(\\Delta t f(t_n + \\Delta t/2, U_n + \\Delta t f(t_n, U_n)/2) + \\Delta t f(t_n + \\Delta t/2, U_n + \\Delta t f(t_n + \\Delta t/2, U_n + \\Delta t f(t_n, U_n)/2)/2)) + \\Delta t f(t_n + \\Delta t, U_n + \\Delta t f(t_n + \\Delta t/2, U_n + \\Delta t f(t_n + \\Delta t/2, U_n + \\Delta t f(t_n, U_n)/2)/2)) \\right] \\\\\n",
    "U_{n+1} &= U_n + \\Delta t \\lambda U_n + \\frac{1}{2} \\Delta t^2 \\lambda^2 U_n + \\frac{1}{3!} \\Delta t^3 \\lambda^3 U_n + \\frac{1}{4!} \\Delta t^4 \\lambda^4 U_n\\\\\n",
    "U_{n+1} &= U_n + zU_n + \\frac{1}{2}z^2U_n + \\frac{1}{3!}z^3 U_n + \\frac{1}{4!}z^4 U_n\\\\\n",
    "R(z) &= 1 + z + \\frac{1}{2}z^2 + \\frac{1}{3!}z^3 + \\frac{1}{4!}z^4\n",
    "\\end{aligned}\n",
    "$$\n",
    "\n",
    "We can then know the RK4 method is equivalent to Taylor4\n"
   ]
  },
  {
   "cell_type": "markdown",
   "metadata": {
    "deletable": false,
    "editable": false,
    "nbgrader": {
     "cell_type": "markdown",
     "checksum": "2c28bcfd375e36c5a93c5e612a16554b",
     "grade": false,
     "grade_id": "cell-74f9c58c7046a7cd",
     "locked": true,
     "schema_version": 3,
     "solution": false
    }
   },
   "source": [
    "## Question 3: Linear Multi-Step Schemes - Derivation and stability"
   ]
  },
  {
   "cell_type": "markdown",
   "metadata": {
    "deletable": false,
    "editable": false,
    "nbgrader": {
     "cell_type": "markdown",
     "checksum": "47a6d4aec9010957daf12f68478fe21a",
     "grade": false,
     "grade_id": "cell-74f9c58c7a7cd",
     "locked": true,
     "schema_version": 3,
     "solution": false
    }
   },
   "source": [
    "[4] Derive the Adams-Moulton 2-step method \n",
    "$$\n",
    "    U_{n+2} = U_{n+1} + \\frac{\\Delta t}{12} (-f_{n} + 8 f_{n+1} + 5 f_{n+2}),\n",
    "$$\n",
    "\n",
    "and its error estimate using the formula for the truncation error of general multi-step schemes\n",
    "$$\n",
    "\\begin{aligned}\n",
    "    T(t, u; \\Delta t) &= \\frac{1}{\\Delta t}\\left( \\sum^r_{j=0} \\alpha_j\\right) u(t_n) + \\left(\\sum^r_{j=0} (j\\alpha_j - \\beta_j)\\right) u'(t_n) + \\Delta t \\left(\\sum^r_{j=0} \\left (\\frac{1}{2}j^2 \\alpha_j - j \\beta_j \\right) \\right) u''(t_n) \\\\\n",
    "& \\quad \\quad + \\cdots + \\Delta t^{q - 1} \\left (\\sum^r_{j=0} \\left(\\frac{1}{q!} j^q \\alpha_j - \\frac{1}{(q-1)!} j^{q-1} \\beta_j \\right) \\right) u^{(q)}(t_n) + \\cdots\n",
    "\\end{aligned}$$\n",
    "\n",
    "i.e. find $\\alpha_j$s and $\\beta_j$s that zero out terms of the truncation error out to some order.\n",
    "Some Hint's \n",
    "* This is an Adams scheme with three levels so we already know the $\\alpha$'s\n",
    "* Therefore you only have to find the three $\\beta$'s $\\beta_0$, $\\beta_1$ and $\\beta_2$\n",
    "* Use the above formula to find 3 equations for the 3 values of $\\beta$\n",
    "* The remainder term will be the order of the Truncation error"
   ]
  },
  {
   "cell_type": "markdown",
   "metadata": {
    "deletable": false,
    "nbgrader": {
     "cell_type": "markdown",
     "checksum": "326a9861def06d4f11a07ffdde556ac4",
     "grade": true,
     "grade_id": "cell-415a1f1008c1",
     "locked": false,
     "points": 4,
     "schema_version": 3,
     "solution": true
    }
   },
   "source": [
    "**Answer to Question 3 (a?)**\n",
    "\n",
    "Since we have these three equations as below, we can expend them and solve for $\\beta_0,\\beta_1,\\beta_2,$\n",
    "\n",
    "(1) $\\sum^r_{j=0} (j\\alpha_j - \\beta_j) = 0$\n",
    "\n",
    "(2) $\\sum^r_{j=0} \\left (\\frac{1}{2}j^2 \\alpha_j - j \\beta_j \\right)  = 0$\n",
    "\n",
    "(3) $\\sum^r_{j=0} \\left(\\frac{1}{3!} j^3 \\alpha_j - \\frac{1}{(3-1)!} j^{3-1} \\beta_j \\right) = 0$\n",
    "\n",
    "We then know $\\beta_0 =-1/12, \\beta_1 = 8/12, \\beta_2 = 5/12$\n",
    "\n",
    "We then know:\n",
    "\n",
    "$$\n",
    "    U_{n+2} = U_{n+1} + \\frac{\\Delta t}{12} (-f_{n} + 8 f_{n+1} + 5 f_{n+2}),\n",
    "$$\n",
    "\n",
    "----------------------------------------------------------------------------------------------------------------\n",
    "The interpolating polynomial through $\\left(t_{n}, f_{n}\\right),\\left(t_{n+1}, f_{n+1}\\right), and \\left(t_{n+2}, f_{n+2}\\right)$ is as following:\n",
    "\n",
    "$$\n",
    "P_{3}(\\tau)=f_{n+2} L_{n+2}(\\tau)+f_{n+1} L_{n+1}(\\tau)+f_{n} L_{n}(\\tau)\n",
    "$$\n",
    "\n",
    "where the Lagrange polynomials are\n",
    "\n",
    "$$\n",
    "\\begin{aligned}\n",
    "L_{n}(\\tau)&=\\frac{(\\tau-t_{n+2})(\\tau-t_{n+1})}{(t_{n}-t_{n+2})(t_{n}-t_{n+1})} =\\frac{1}{2 h^{2}}(\\tau-t_{n+2})(\\tau-t_{n+1}),\\\\\n",
    "L_{n+1}(\\tau)&=\\frac{(\\tau-t_{n+2})(\\tau-t_{n})}{(t_{n+1}-t_{n+2})(t_{n+1}-t_{n})} =-\\frac{1}{h^{2}}(\\tau-t_{n+2})(\\tau-t_{n}),\\\\\n",
    "L_{n+2}(\\tau)&=\\frac{(\\tau-t_{n+1})(\\tau-t_{n})}{(t_{n+2}-t_{n+1})(t_{n+2}-t_{n})} =\\frac{1}{2 h^{2}}(\\tau-t_{n+1})(\\tau-t_{n}).\\\\\n",
    "\\end{aligned}\n",
    "$$\n",
    "\n",
    "Then we can rewrite Lagrange polynomials as the functions of the variable u:\n",
    "\n",
    "$$\n",
    "\\begin{aligned}\n",
    "L_{n}(u)&=\\frac{1}{2}u(u-1),\\\\\n",
    "L_{n+1}(u)&=1-u^2,\\\\\n",
    "L_{n+2}(u)&=\\frac{1}{2}u(u+1),\\\\\n",
    "\\end{aligned}\n",
    "$$\n",
    "\n",
    "We write the function as below:\n",
    "\n",
    "$$\n",
    "\\begin{aligned}\n",
    "y_{n+1} &=y_{n}+\\int_{t_{n}}^{t_{n+1}} P_{3}(\\tau) \\mathrm{d} \\tau=\\\\\n",
    "&=y_{n}+f_{n} \\int_{t_{n}}^{t_{n+1}} L_{n}(\\tau) \\mathrm{d} \\tau+f_{n+1} \\int_{t_{n}}^{t_{n+1}} L_{n+1}(\\tau) \\mathrm{d} \\tau+ f_{n+2} \\int_{t_{n}}^{t_{n+1}} L_{n+2}(\\tau) \\mathrm{d} \\tau\n",
    "\\end{aligned}\n",
    "$$\n",
    "\n",
    "After the integration we can get:\n",
    "\n",
    "$$\n",
    "    U_{n+2} = U_{n+1} + \\frac{\\Delta t}{12} (-f_{n} + 8 f_{n+1} + 5 f_{n+2}),\n",
    "$$\n",
    "\n",
    "\n",
    "We then know the error should be $\\mathcal{O}(\\Delta t^3 u^{\\prime\\prime\\prime\\prime})$\n"
   ]
  },
  {
   "cell_type": "markdown",
   "metadata": {
    "deletable": false,
    "editable": false,
    "nbgrader": {
     "cell_type": "markdown",
     "checksum": "a5d121d00d0b95a703d5b8a6c78f261e",
     "grade": false,
     "grade_id": "cell-5fc238aba385d265",
     "locked": true,
     "schema_version": 3,
     "solution": false,
     "task": false
    }
   },
   "source": [
    "**(c)** [8] Stability polynomials and Diagrams\n",
    "\n",
    "Calculate the stability polynomial and plot the stability regions for\n",
    "1. 2-step Adams-Moulton methods.\n",
    "1. 3-step Adams-Bashforth methods\n",
    "\n",
    "which are both 3rd-order methods.  Comment on the relative size of stability regions of these two methods and Taylor-3."
   ]
  },
  {
   "cell_type": "markdown",
   "metadata": {
    "deletable": false,
    "nbgrader": {
     "cell_type": "markdown",
     "checksum": "ccd22ea267673785077f4e38f2b3db22",
     "grade": true,
     "grade_id": "cell-35754117816ff2dd",
     "locked": false,
     "points": 4,
     "schema_version": 3,
     "solution": true,
     "task": false
    }
   },
   "source": [
    "**Answer to Question 3 (c)**\n",
    "\n",
    "##### 2-step Adams-Moulton methods\n",
    "$$\n",
    "\\begin{aligned}\n",
    "U_{n+2} &= U_{n+1} + \\frac{\\Delta t}{12} (-f_{n} + 8 f_{n+1} + 5 f_{n+2}) \\\\\n",
    "U_{n+2} &= U_{n+1} + \\frac{1}{12} (-zU_{n} + 8 zU_{n+1} + 5 zU_{n+2}) \\\\\n",
    "\\xi^2 &= \\xi + \\frac{1}{12} (-z + 8 z\\xi + 5 z\\xi^2) \\\\\n",
    "\\pi(\\xi, z) &= (1 - \\frac{5}{12} z)\\xi^2 - (1 + \\frac{2}{3}z)\\xi + \\frac{z}{12}  = 0\n",
    "\\end{aligned}\n",
    "$$\n",
    "\n",
    "##### 3-step Adams-Bashforth methods\n",
    "$$\n",
    "\\begin{aligned}\n",
    "U_{n+3} &= U_{n+2} + \\frac{\\Delta t}{12} \\left(23f(U_{n+2})-16f(U_{n+1})+5f(U_n)\\right) \\\\\n",
    "U_{n+3} &= U_{n+2} + \\frac{1}{12} \\left(23zU_{n+2} - 16zU_{n+1} + 5zU_n\\right) \\\\\n",
    "\\xi^3 &= \\xi^2 + \\frac{1}{12}(23z\\xi^2 - 16z\\xi + 5z) \\\\\n",
    "\\pi(\\xi, z) &= \\xi^3 - \\xi^2(1 + \\frac{23z}{12}) + \\frac{16z}{12}\\xi - \\frac{5z}{12} = 0\n",
    "\\end{aligned}\n",
    "$$\n"
   ]
  },
  {
   "cell_type": "code",
   "execution_count": 11,
   "metadata": {
    "deletable": false,
    "nbgrader": {
     "cell_type": "code",
     "checksum": "dff12e08aba9ba3313d6421cd3a11cad",
     "grade": true,
     "grade_id": "cell-bb5d48ede7f2d8f4",
     "locked": false,
     "points": 4,
     "schema_version": 3,
     "solution": true,
     "task": false
    }
   },
   "outputs": [
    {
     "data": {
      "image/png": "[encoded data removed]",
      "text/plain": [
       "<Figure size 1224x360 with 6 Axes>"
      ]
     },
     "metadata": {
      "needs_background": "light"
     },
     "output_type": "display_data"
    }
   ],
   "source": [
    "x = numpy.linspace(-4,4,100)\n",
    "y = numpy.linspace(-4,4,100)\n",
    "\n",
    "AM_2 = lambda z: numpy.array([12-5*z, -12*z-8, z])\n",
    "AB_3 = lambda z: numpy.array([1,-(1+23*z/12), 16*z/12, -5*z/12])\n",
    "Taylor3 = lambda z: 1 + z + z**2/2 + z**3/6.\n",
    "\n",
    "fig = plt.figure(figsize=(17, 5))\n",
    "\n",
    "axes = fig.add_subplot(1,3,1)\n",
    "axes.set_xlim([-3,3])\n",
    "axes.set_ylim([-3,3])\n",
    "plot_stability_lmm(AM_2, x, y, axes=axes, title='2-step Adams-Moulton')\n",
    "\n",
    "axes = fig.add_subplot(1,3,2)\n",
    "axes.set_xlim([-1,1])\n",
    "axes.set_ylim([-1,1])\n",
    "plot_stability_lmm(AB_3, x, y, axes=axes, title='3-step Adams-Bashforth')\n",
    "\n",
    "axes = fig.add_subplot(1,3,3)\n",
    "plot_stability_ssms(Taylor3, x, y, axes=axes, title='Stability of Taylor3 method', continuous=True)\n"
   ]
  },
  {
   "cell_type": "markdown",
   "metadata": {
    "deletable": false,
    "nbgrader": {
     "cell_type": "markdown",
     "checksum": "e424adc8b74c1156d0ba25ab8e2dd6dd",
     "grade": true,
     "grade_id": "cell-94b7e383d04df2bc",
     "locked": false,
     "points": 2,
     "schema_version": 3,
     "solution": true,
     "task": false
    }
   },
   "source": [
    "**Comment on Question 3 (c)**\n",
    "\n",
    "We can know from three graphs that the stability region of the AM method is relatively the largest one and it looks like a circle but actually its not. Compared with Talyor3 method, AM2 has only one place that looks stable but Taylor3 has three places. We can also notice that the AB3 has the smallest stability region and it is somehow the weakest.\n",
    "\n",
    "We can also notice that the region of AM2 is from -2.5 to somewhere 0.2 on the real axis and -1.5 to 1.5 on the imaginary axis. Talyor3 ranges from somewhere -2.5 to 0 on the real axis and -2.5 to 2.5 on the imaginary axis. "
   ]
  },
  {
   "cell_type": "markdown",
   "metadata": {
    "deletable": false,
    "editable": false,
    "nbgrader": {
     "cell_type": "markdown",
     "checksum": "d75f66b9bafa4438dca6cbfdef283246",
     "grade": false,
     "grade_id": "cell-0ebb7155c15aa67d",
     "locked": true,
     "schema_version": 3,
     "solution": false,
     "task": false
    }
   },
   "source": [
    "**(d)**  [6] In class we demonstrated that the Leap-frog method seemed to be unstable, at least for the examples we showed.  Use your tools for stability analysis of Linear Multi-step methods to analyze the general stability of the Leap Frog method and plot its stability diagram. In particular, comment on the case we showed in class for $\\lambda$ real and negative."
   ]
  },
  {
   "cell_type": "markdown",
   "metadata": {
    "deletable": false,
    "nbgrader": {
     "cell_type": "markdown",
     "checksum": "74fd2490f5284e224c0208d375df8b63",
     "grade": true,
     "grade_id": "cell-9b23a269401801a6",
     "locked": false,
     "points": 4,
     "schema_version": 3,
     "solution": true,
     "task": false
    }
   },
   "source": [
    "**Answer to Question 3 (c)**\n",
    "\n",
    "Since we know Leap-frog can be written as below:\n",
    "\n",
    "$$\n",
    "U_{n+2} = U_{n} + 2 \\Delta t f(t_{n+1}, U_{n+1})\n",
    "$$\n",
    "\n",
    "We can then rewrite the Leap-frog as something below:\n",
    "\n",
    "$$\n",
    "\\begin{aligned}\n",
    "U_{n+2} &= U_{n} + 2 z U_{n+1}\\\\\n",
    "\\xi^2 &= 1 + 2z\\xi\n",
    "\\end{aligned}\n",
    "$$\n",
    "\n",
    "We then can find the root of this function and analyze the general stability of the Leap-frog method\n",
    "\n",
    "$$\n",
    "root_1 = z + \\sqrt{(z^2 + 1)}\\\\\n",
    "root_2 = z - \\sqrt{(z^2 + 1)} \n",
    "$$\n",
    "\n",
    "If $\\lambda$ is real, max$|\\xi|$ = $|z| + \\sqrt{(z^2 + 1)} > 1$, we then can know its not stable for $\\forall \\lambda$\n",
    "\n",
    "If $\\lambda$ is a complex one, we can know \n",
    "\n",
    "$$\n",
    "\\begin{aligned}\n",
    "|root_1 root_2| &\\leq |root_1||root_2|\\\\\n",
    "|-1| &\\leq |root_1||root_2|\\\\\n",
    "1 &\\leq |root_1||root_2|\n",
    "\\end{aligned}\n",
    "$$\n",
    "\n",
    "So we can know max$|\\xi| > 1$, its unstable\n",
    "\n",
    "There is no stable region, we can find the graph below:"
   ]
  },
  {
   "cell_type": "code",
   "execution_count": 13,
   "metadata": {
    "deletable": false,
    "nbgrader": {
     "cell_type": "code",
     "checksum": "adbbc438ac01b509922ec90acbb94b9b",
     "grade": true,
     "grade_id": "cell-de8ac5dc46de0a80",
     "locked": false,
     "points": 2,
     "schema_version": 3,
     "solution": true,
     "task": false
    }
   },
   "outputs": [
    {
     "name": "stderr",
     "output_type": "stream",
     "text": [
      "/home/jovyan/hw5/stability_diagrams.py:34: UserWarning: No contour levels were found within the data range.\n",
      "  axes.contour(X, Y, C, 'k', levels=[1.0])\n"
     ]
    },
    {
     "data": {
      "image/png": "[encoded data removed]",
      "text/plain": [
       "<Figure size 360x360 with 2 Axes>"
      ]
     },
     "metadata": {
      "needs_background": "light"
     },
     "output_type": "display_data"
    }
   ],
   "source": [
    "x = numpy.linspace(-4,4,100)\n",
    "y = numpy.linspace(-4,4,100)\n",
    "\n",
    "Leap = lambda z: numpy.array([1,-2*z, -1])\n",
    "fig = plt.figure(figsize=(5, 5))\n",
    "\n",
    "axes = fig.add_subplot(1,1,1)\n",
    "plot_stability_lmm(Leap, x, y, axes=axes, title='Leap')"
   ]
  },
  {
   "cell_type": "code",
   "execution_count": null,
   "metadata": {},
   "outputs": [],
   "source": []
  }
 ],
 "metadata": {
  "kernelspec": {
   "display_name": "Python 3",
   "language": "python",
   "name": "python3"
  },
  "language_info": {
   "codemirror_mode": {
    "name": "ipython",
    "version": 3
   },
   "file_extension": ".py",
   "mimetype": "text/x-python",
   "name": "python",
   "nbconvert_exporter": "python",
   "pygments_lexer": "ipython3",
   "version": "3.8.8"
  },
  "latex_envs": {
   "bibliofile": "biblio.bib",
   "cite_by": "apalike",
   "current_citInitial": 1,
   "eqLabelWithNumbers": true,
   "eqNumInitial": 0
  }
 },
 "nbformat": 4,
 "nbformat_minor": 2
}
