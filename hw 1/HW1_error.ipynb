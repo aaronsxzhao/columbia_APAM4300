{
 "cells": [
  {
   "cell_type": "markdown",
   "metadata": {},
   "source": [
    "Before you turn this problem in, make sure everything runs as expected. First, **restart the kernel** (in the menubar, select Kernel$\\rightarrow$Restart) and then **run all cells** (in the menubar, select Cell$\\rightarrow$Run All).\n",
    "\n",
    "Make sure you fill in any place that says `YOUR CODE HERE` or \"YOUR ANSWER HERE\", as well as any collaborators you worked with:"
   ]
  },
  {
   "cell_type": "code",
   "execution_count": 1,
   "metadata": {},
   "outputs": [],
   "source": [
    "COLLABORATORS = \"me myself and I lol\""
   ]
  },
  {
   "cell_type": "markdown",
   "metadata": {},
   "source": [
    "---"
   ]
  },
  {
   "cell_type": "code",
   "execution_count": 2,
   "metadata": {
    "deletable": false,
    "editable": false,
    "nbgrader": {
     "cell_type": "code",
     "checksum": "3c0e6f80c9a8d85d80baddc8df3890a0",
     "grade": false,
     "grade_id": "cell-7531378247537850",
     "locked": true,
     "schema_version": 3,
     "solution": false
    }
   },
   "outputs": [],
   "source": [
    "from __future__ import print_function\n",
    "%matplotlib inline\n",
    "import numpy\n",
    "import matplotlib.pyplot as plt\n",
    "\n",
    "# import the factorial function from scipy\n",
    "from scipy.special import factorial"
   ]
  },
  {
   "cell_type": "markdown",
   "metadata": {
    "deletable": false,
    "editable": false,
    "nbgrader": {
     "cell_type": "markdown",
     "checksum": "57fe3d1a770d32fc71d10c52d47d5765",
     "grade": false,
     "grade_id": "cell-1055125360070174",
     "locked": true,
     "schema_version": 3,
     "solution": false
    }
   },
   "source": [
    "# HW 1:  Forms of Error\n",
    "\n"
   ]
  },
  {
   "cell_type": "markdown",
   "metadata": {
    "deletable": false,
    "editable": false,
    "nbgrader": {
     "cell_type": "markdown",
     "checksum": "763bdcd61a173c57e8d82dcd9519ee2c",
     "grade": false,
     "grade_id": "cell-9681214437904696",
     "locked": true,
     "schema_version": 3,
     "solution": false
    }
   },
   "source": [
    "## Question 1:  definition of errors\n",
    "\n",
    "**(a)**  [4 pts] Write a short python program to calculate and return, the absolute error, relative error and degree of decimal precision (as defined in class) given an object `f` and its approximation `F`.  Note, both `f` and `F` can be numpy arrays."
   ]
  },
  {
   "cell_type": "code",
   "execution_count": 3,
   "metadata": {
    "deletable": false,
    "nbgrader": {
     "cell_type": "code",
     "checksum": "7c9bcb87e713e8ee4fb90ec822ed4d9f",
     "grade": false,
     "grade_id": "cell-a6ede65cf8ed685f",
     "locked": false,
     "schema_version": 3,
     "solution": true,
     "task": false
    }
   },
   "outputs": [],
   "source": [
    "def errors(f,F):\n",
    "    \"\"\" calculate various measures of error of an object f and its approximation F\n",
    "    \n",
    "    Parameters\n",
    "    ----------\n",
    "    f:  numpy.array (or float)\n",
    "        array of true values\n",
    "        \n",
    "    F: numpy.array\n",
    "        array of approximate values\n",
    "        \n",
    "    Returns\n",
    "    -------\n",
    "    \n",
    "    e: array of absolute errors\n",
    "    r: array of relative errors\n",
    "    p: integer array of precisions\n",
    "    \"\"\"\n",
    "    \n",
    "    f = numpy.asarray(f)\n",
    "    F = numpy.asarray(F)\n",
    "    e,r,p = numpy.array([]),numpy.array([]),numpy.array([])\n",
    "    \n",
    "    if f.ndim == 0:\n",
    "        e = numpy.abs(f - F)\n",
    "        r = e / numpy.abs(f)\n",
    "        p = int(-numpy.log10(r/5.))\n",
    "    \n",
    "    else:\n",
    "        for (f,F) in zip(f,F):\n",
    "            e = numpy.append(e,numpy.abs(f - F)) \n",
    "            r = numpy.append(r,numpy.abs(f - F) / numpy.abs(f))\n",
    "            p = numpy.append(p,int(-numpy.log10(numpy.abs(f - F) / numpy.abs(f) / 5.)))\n",
    "    \n",
    "\n",
    "#     # YOUR CODE HERE\n",
    "#     raise NotImplementedError()\n",
    "    return e, r, p\n"
   ]
  },
  {
   "cell_type": "code",
   "execution_count": 4,
   "metadata": {},
   "outputs": [
    {
     "name": "stdout",
     "output_type": "stream",
     "text": [
      "[2.81828459e-04 5.60989307e-05 5.36923188e-04] [1.03678896e-04 7.59216467e-06 2.67318315e-05] [4. 5. 5.]\n"
     ]
    }
   ],
   "source": [
    "x = [1., 2., 3.]\n",
    "f = numpy.exp(x)\n",
    "F = [ 2.718,  7.389,  20.085]\n",
    "e,r,p = errors(f,F)\n",
    "print(e,r,p)"
   ]
  },
  {
   "cell_type": "code",
   "execution_count": 5,
   "metadata": {
    "deletable": false,
    "editable": false,
    "nbgrader": {
     "cell_type": "code",
     "checksum": "f4295c880e6563c035f2e1176010b834",
     "grade": true,
     "grade_id": "cell-da2659b413c73ca7",
     "locked": true,
     "points": 4,
     "schema_version": 3,
     "solution": false,
     "task": false
    }
   },
   "outputs": [
    {
     "name": "stdout",
     "output_type": "stream",
     "text": [
      "passed scalar test\n",
      "passed array test\n"
     ]
    }
   ],
   "source": [
    "# Testing Cell (do not copy)\n",
    "\n",
    "# Test Simple Scalars\n",
    "e,r,p = errors(numpy.exp(1),2.72)\n",
    "answer = [0.0017181715409551046, 0.0006320799863232398, 3]\n",
    "numpy.testing.assert_allclose([e,r,p], answer)\n",
    "print('passed scalar test')\n",
    "\n",
    "# Test with array input\n",
    "x = [1., 2., 3.]\n",
    "f = numpy.exp(x)\n",
    "F = [ 2.718,  7.389,  20.085]\n",
    "e,r,p = errors(f,F)\n",
    "numpy.testing.assert_allclose(e,[2.81828459e-04, 5.60989307e-05, 5.36923188e-04])\n",
    "numpy.testing.assert_allclose(r,[1.03678896e-04, 7.59216467e-06, 2.67318315e-05])\n",
    "numpy.testing.assert_allclose(p,[4, 5, 5])\n",
    "print('passed array test')"
   ]
  },
  {
   "cell_type": "markdown",
   "metadata": {
    "deletable": false,
    "editable": false,
    "nbgrader": {
     "cell_type": "markdown",
     "checksum": "39ee29a6b36ec47d40b72b71b941b0f2",
     "grade": false,
     "grade_id": "cell-bef4e3baf992ed93",
     "locked": true,
     "schema_version": 3,
     "solution": false,
     "task": false
    }
   },
   "source": [
    "**(b)** [2 pts]  Use your routine to compare the absolute error, relative error and degree of precision for these two rational approximations of $\\pi$\n",
    "\n",
    "* $f = \\pi$ and $F = 22 / 7$\n",
    "* $f = \\pi$ and $F = 355 / 113$\n",
    "\n",
    "Which is more accurate?"
   ]
  },
  {
   "cell_type": "code",
   "execution_count": 6,
   "metadata": {},
   "outputs": [
    {
     "name": "stdout",
     "output_type": "stream",
     "text": [
      "0.0012644892673496777 0.0004024994347707008 4\n",
      "2.667641894049666e-07 8.49136787674061e-08 7\n"
     ]
    }
   ],
   "source": [
    "f = numpy.pi\n",
    "F = 22 / 7\n",
    "e,r,p = errors(f,F)\n",
    "print(e,r,p)\n",
    "\n",
    "f = numpy.pi\n",
    "F = 355 / 113\n",
    "e,r,p = errors(f,F)\n",
    "print(e,r,p)\n"
   ]
  },
  {
   "cell_type": "markdown",
   "metadata": {
    "deletable": false,
    "nbgrader": {
     "cell_type": "markdown",
     "checksum": "21b09b84adbced5a47c2142e0d7a29cd",
     "grade": true,
     "grade_id": "cell-4300360216304258",
     "locked": false,
     "points": 2,
     "schema_version": 3,
     "solution": true
    }
   },
   "source": [
    "The second pair is more accurate, because the degree of precision of it is 7 and the first one is only 4\\\n",
    "Also, it has less absolute and relative error than the second one\n",
    "* $f = \\pi$ and $F = 355 / 113$"
   ]
  },
  {
   "cell_type": "markdown",
   "metadata": {
    "deletable": false,
    "editable": false,
    "nbgrader": {
     "cell_type": "markdown",
     "checksum": "b5a1a21715793f4a9cd1d22da3c6fbd5",
     "grade": false,
     "grade_id": "cell-300ca517618db367",
     "locked": true,
     "schema_version": 3,
     "solution": false,
     "task": false
    }
   },
   "source": [
    "**(c)** [6 pts] Write a python routine to find the most accurate $d$ digit rational approximation to $\\pi$. i.e. find\n",
    "two $d$ digit positive integers $m,n$ such that \n",
    "\n",
    "$$ F = \\frac{m}{n} \\sim \\pi$$\n",
    "\n",
    "(hint:  $355/113$ is the best 3-digit rational approximation)"
   ]
  },
  {
   "cell_type": "code",
   "execution_count": 7,
   "metadata": {
    "deletable": false,
    "nbgrader": {
     "cell_type": "code",
     "checksum": "2fad6f779f0e38180756be9962ecfdda",
     "grade": false,
     "grade_id": "cell-4b8290252c936eec",
     "locked": false,
     "schema_version": 3,
     "solution": true,
     "task": false
    }
   },
   "outputs": [],
   "source": [
    "def rational_pi(d):\n",
    "    ''' Find the best rational approximation to pi ~ m/n where m and n are both d-digit positive integers\n",
    "    \n",
    "    Parameters\n",
    "    ----------\n",
    "    \n",
    "    d: int\n",
    "        number of digits in both m and n\n",
    "    \n",
    "    Returns\n",
    "    -------\n",
    "    m,n: int\n",
    "        numerator and denominator of best d digit rational approximation to pi ~ m/n\n",
    "        \n",
    "    '''\n",
    "    e = numpy.pi\n",
    "    m = 0\n",
    "    n = 0\n",
    "    \n",
    "    if d != 0:    \n",
    "        for n_current in range(int(numpy.floor(10**d / numpy.pi)),int(10**(d - 1)) - 1,-1):\n",
    "            m_floor = int(numpy.floor(n_current * numpy.pi))\n",
    "            m_ceil = int(numpy.ceil(n_current * numpy.pi))\n",
    "            e_floor, r_floor, p_floor = errors(numpy.pi, m_floor / n_current)\n",
    "            e_ceil, r_ceil, p_ceil = errors(numpy.pi, m_ceil / n_current)\n",
    "            \n",
    "            if e_floor > e_ceil:\n",
    "                if e_ceil > e:\n",
    "                    pass\n",
    "                \n",
    "                else:\n",
    "                    e = e_ceil\n",
    "                    m = m_ceil\n",
    "                    n = n_current\n",
    "                    \n",
    "            else:\n",
    "                if e_floor > e:\n",
    "                    pass\n",
    "                \n",
    "                else:\n",
    "                    e = e_floor\n",
    "                    m = m_floor\n",
    "                    n = n_current\n",
    "            \n",
    "    else:\n",
    "        pass\n",
    "    \n",
    "    return m,n\n",
    "    \n",
    "#     # YOUR CODE HERE\n",
    "#     raise NotImplementedError()"
   ]
  },
  {
   "cell_type": "code",
   "execution_count": 8,
   "metadata": {
    "deletable": false,
    "editable": false,
    "nbgrader": {
     "cell_type": "code",
     "checksum": "29119ccc9d740a4e6317ed3dc57f6657",
     "grade": true,
     "grade_id": "cell-6568ef410973a577",
     "locked": true,
     "points": 6,
     "schema_version": 3,
     "solution": false,
     "task": false
    }
   },
   "outputs": [
    {
     "name": "stdout",
     "output_type": "stream",
     "text": [
      "d=1: 3/1 = 3.0:\t e = 0.14159265358979312,\t, r = 0.04507034144862795,\t p= 2\n",
      "d=2: 44/14 = 3.142857142857143:\t e = 0.0012644892673496777,\t, r = 0.0004024994347707008,\t p= 4\n",
      "d=3: 355/113 = 3.1415929203539825:\t e = 2.667641894049666e-07,\t, r = 8.49136787674061e-08,\t p= 7\n",
      "d=4: 3195/1017 = 3.1415929203539825:\t e = 2.667641894049666e-07,\t, r = 8.49136787674061e-08,\t p= 7\n",
      "d=5: 99733/31746 = 3.1415926415926414:\t e = 1.1997151716514054e-08,\t, r = 3.818811997413258e-09,\t p= 9\n",
      "\n",
      "success!\n"
     ]
    }
   ],
   "source": [
    "# Testing Cell (do not copy)\n",
    "\n",
    "# print out best rational approximations and their errors  for d =1-5\n",
    "for d in range(1,6):\n",
    "    m,n = rational_pi(d)\n",
    "    e,r,p = errors(numpy.pi,m/n)\n",
    "    print('d={}: {}/{} = {}:\\t e = {},\\t, r = {},\\t p= {}'.format(d,m,n,m/n,e,r,p))\n",
    "    \n",
    "# Run assertion Tests\n",
    "numpy.testing.assert_allclose(rational_pi(2),(44, 14))\n",
    "numpy.testing.assert_allclose(rational_pi(3),(355, 113))\n",
    "print('\\nsuccess!')\n"
   ]
  },
  {
   "cell_type": "markdown",
   "metadata": {
    "deletable": false,
    "editable": false,
    "nbgrader": {
     "cell_type": "markdown",
     "checksum": "cabe33a4165802a8de9d6c0d6b322917",
     "grade": false,
     "grade_id": "cell-23707a8e710ca676",
     "locked": true,
     "schema_version": 3,
     "solution": false,
     "task": false
    }
   },
   "source": [
    "**(d)** [6 pts] $F = n \\log(n) - n$ is Stirling's approximation to  $f = \\log(n!)$ for large values of $n$. \n",
    "Do the following\n",
    "\n",
    "* Make a plot showing the relative error and degree of decimal precision for $f$ and $F$ as a function of integer $n$\n",
    "\n",
    "* Estimate the smallest value of $n$ where Stirling's approximation is good to 4 decimal places of precision.  \n",
    "\n",
    "**Note**: If you use the `factorial` function imported from `scipy.special`, you will not be able to answer this question.  **Why?**  \n",
    "\n",
    "**Hint**: However there is another way to evaluate $\\log(n!)$ for integer $n$ that will work."
   ]
  },
  {
   "cell_type": "code",
   "execution_count": 9,
   "metadata": {
    "deletable": false,
    "nbgrader": {
     "cell_type": "code",
     "checksum": "6195fab472e4537966b7eba4a529a13b",
     "grade": true,
     "grade_id": "cell-a5639245c28a1642",
     "locked": false,
     "points": 4,
     "schema_version": 3,
     "solution": true,
     "task": false
    }
   },
   "outputs": [
    {
     "name": "stdout",
     "output_type": "stream",
     "text": [
      "1452\n"
     ]
    },
    {
     "data": {
      "image/png": "[encoded data removed]",
      "text/plain": [
       "<Figure size 1080x360 with 2 Axes>"
      ]
     },
     "metadata": {
      "needs_background": "light"
     },
     "output_type": "display_data"
    }
   ],
   "source": [
    "n = 2\n",
    "f = 0\n",
    "x = []\n",
    "y_error = []\n",
    "y_precision = []\n",
    "\n",
    "\n",
    "while True:\n",
    "    F = n * numpy.log(n) - n\n",
    "    f += numpy.log(n)\n",
    "    \n",
    "    e,r,p = errors(f,F)\n",
    "    \n",
    "    x.append(n)\n",
    "    y_error.append(r)\n",
    "    y_precision.append(p)\n",
    "    \n",
    "    if r < 5 * 10 ** -4:\n",
    "        print(n)\n",
    "        break;\n",
    "        \n",
    "    n += 1\n",
    "\n",
    "fig = plt.figure(figsize=(15,5))\n",
    "\n",
    "plt.subplot(1,2,1)\n",
    "plt.plot(x,y_error,'g',label='Relative Error')\n",
    "plt.xlabel(\"$n$\")\n",
    "plt.title(\"Relative Error for n\")\n",
    "plt.grid()\n",
    "\n",
    "plt.subplot(1,2,2)\n",
    "plt.plot(x,y_precision,'r',label='Degree of Precision')\n",
    "plt.xlabel(\"$n$\")\n",
    "plt.title(\"Degree of Precision for n\")\n",
    "plt.grid()\n",
    "\n",
    "plt.show()\n",
    "\n",
    "\n",
    "# # YOUR CODE HERE\n",
    "# raise NotImplementedError()\n"
   ]
  },
  {
   "cell_type": "markdown",
   "metadata": {
    "deletable": false,
    "nbgrader": {
     "cell_type": "markdown",
     "checksum": "c6321f16c18ce03a19fd25289b7d8ab4",
     "grade": true,
     "grade_id": "cell-dcc45d9028355b73",
     "locked": false,
     "points": 2,
     "schema_version": 3,
     "solution": true,
     "task": false
    }
   },
   "source": [
    "$$\n",
    "n = 1452\n",
    "$$\n",
    "\n",
    "the reason why I cannot solve this problem by using fractorial imported from ``scipy.special`` is:\n",
    "\n",
    "n is such a large number and the factorial cannot be calculated directly and easily."
   ]
  },
  {
   "cell_type": "markdown",
   "metadata": {
    "deletable": false,
    "editable": false,
    "nbgrader": {
     "cell_type": "markdown",
     "checksum": "27bfc8b15912bb6e1cdfa2dfd103ced4",
     "grade": false,
     "grade_id": "cell-6968179660613369",
     "locked": true,
     "schema_version": 3,
     "solution": false
    }
   },
   "source": [
    "## Question 2\n",
    "\n",
    "[4 pts] Given the Taylor polynomial expansions of two functions around $x=0$\n",
    "\n",
    "$$\\frac{1}{1-\\Delta x} = 1 + \\Delta x + \\Delta x^2 + \\Delta x^3 + O(\\Delta x^4)$$\n",
    "\n",
    "and\n",
    "\n",
    "$$\\cosh \\Delta x = 1 + \\frac{\\Delta x^2}{2!} + \\frac{\\Delta x^4}{4!} + O(\\Delta x^6)$$\n",
    "\n",
    "calculate their sum and product as well as the order of approximation for the truncation error (i.e. determine the exponent that belongs in the $O$).\n"
   ]
  },
  {
   "cell_type": "markdown",
   "metadata": {
    "deletable": false,
    "nbgrader": {
     "cell_type": "markdown",
     "checksum": "77d458abae3cfa5157eca11bd346e444",
     "grade": true,
     "grade_id": "cell-8500724062567566",
     "locked": false,
     "points": 4,
     "schema_version": 3,
     "solution": true
    }
   },
   "source": [
    "**Answer to Question 2**\n",
    "\n",
    "Set expansion below as the expanded form of $T_{N1}(x)$ for $N=3$ around $x_0 = 0$\n",
    "\n",
    "$$\\frac{1}{1-\\Delta x} = 1 + \\Delta x + \\Delta x^2 + \\Delta x^3 + O(\\Delta x^4)$$ \n",
    "\n",
    "Set expansion below as the expanded form of $T_{N2}(x)$ for $N=2$ around $x_0 = 0$\n",
    "\n",
    "$$\\cosh \\Delta x = 1 + \\frac{\\Delta x^2}{2!} + \\frac{\\Delta x^4}{4!} + O(\\Delta x^6)$$ \n",
    "\n",
    "So, from this two expansions we can easily know $T_{N1}(x)$ should be $$\\sum^N_{n=0} \\Delta x^{n}$$\n",
    "$T_{N2}(x)$ should be $$\\sum^N_{n=0} \\frac{\\Delta x^{2n}}{2n!}$$\n",
    "\n",
    "- **Sum** \n",
    "\n",
    "$$T_{Nsum}(x) = \\sum^N_{n=0} \\Delta x^{n} + \\sum^N_{n=0} \\frac{\\Delta x^{2n}}{2n!}\n",
    "              = \\sum^N_{n=0} (\\Delta x^{n} + \\frac{\\Delta x^{2n}}{2n!})\\\\\n",
    "              = 1 + \\Delta x + \\Delta x^2 + \\Delta x^3 + 1 + \\frac{\\Delta x^2}{2!} + \\frac{\\Delta x^4}{4!} + O(\\Delta x^4)\\\\\n",
    "              = 2+\\Delta x +\\frac{3 \\Delta x^2}{2}+  \\Delta x^3 +O(\\Delta x^4)\n",
    "              $$\n",
    "\n",
    "Since $\\Delta x^4$ and $\\Delta x^6$ are both small values, so the exponent that belongs in the $O$ should be $\\Delta x^4$, because the order k should be the minimum of (4,6), which should be 4\n",
    "\n",
    "\n",
    "- **Product**\n",
    "\n",
    "$$T_{Nproduct}(x) = \\sum^N_{n=0} \\Delta x^{n} * \\sum^N_{n=0} \\frac{\\Delta x^{2n}}{2n!}\\\\\n",
    "              = 1 * (1 + \\Delta x + \\Delta x^2 + \\Delta x^3) + \\frac{\\Delta x^2}{2!} * (1 + \\Delta x + \\Delta x^2 + \\Delta x^3) + \\frac{\\Delta x^4}{4!} * (1 + \\Delta x + \\Delta x^2 + \\Delta x^3) + O(\\Delta x^6) * (1 + \\Delta x + \\Delta x^2 + \\Delta x^3) + O(\\Delta x^4) * (1 + \\frac{\\Delta x^2}{2!} + \\frac{\\Delta x^4}{4!}) + O(\\Delta x^{6 + 4})\\\\\n",
    "              =1 * (1 + \\Delta x + \\Delta x^2 + \\Delta x^3) + \\frac{\\Delta x^2}{2!} * (1 + \\Delta x + \\Delta x^2 + \\Delta x^3) + \\frac{\\Delta x^4}{4!} * (1 + \\Delta x + \\Delta x^2 + \\Delta x^3) + O(\\Delta x^4)\\\\\n",
    "              = 1 + \\Delta x + \\frac{3 \\Delta x^2}{2} + \\frac{3 \\Delta x^3}{2} + O(\\Delta x^4)\n",
    "$$\n",
    "the exponent that belongs in the $O$ should be $\\Delta x^{4}$, which means the order equals to 4\n"
   ]
  },
  {
   "cell_type": "markdown",
   "metadata": {
    "deletable": false,
    "editable": false,
    "nbgrader": {
     "cell_type": "markdown",
     "checksum": "237fcd7151c710b1c2fe86744794671b",
     "grade": false,
     "grade_id": "cell-5632471080286207",
     "locked": true,
     "schema_version": 3,
     "solution": false
    }
   },
   "source": [
    "## Question 3:  The great Exp challenge...\n",
    "\n",
    "Here you will attempt to write a function to calculate $e^x$ using its Taylor polynomial approximation expanded around $x_0=0$\n",
    "\n",
    "$$e^x \\approx T_n(x) = 1 + x + \\frac{x^2}{2!} + \\frac{x^3}{3!} + \\cdots + \\frac{x^n}{n!}$$\n",
    "\n",
    "such that the relative error of $f=e^x$ and $F=T_n(x)$ is of order Machine epsilon ($\\epsilon_{machine}$) for  $x\\in[-50,50]$.  This problem is actually a bit of a stinker and takes a bit of thought (particularly for $x<0$).  But I'll work you through it."
   ]
  },
  {
   "cell_type": "markdown",
   "metadata": {
    "deletable": false,
    "editable": false,
    "nbgrader": {
     "cell_type": "markdown",
     "checksum": "d16eac32cec2913a95095d153a7994b7",
     "grade": false,
     "grade_id": "cell-8186992197557199",
     "locked": true,
     "schema_version": 3,
     "solution": false
    }
   },
   "source": [
    "**(a)** [4 pts] Assume $x> 0$ and show that the upper bound on the *relative error*  at term $n$ \n",
    "\n",
    "$$r_n = \\frac{|e^x - T_n(x)|}{|e^x|}$$\n",
    "\n",
    "is given by\n",
    "\n",
    "$$r_n \\leq \\left | \\frac{x^{n+1}}{(n + 1)!} \\right |$$"
   ]
  },
  {
   "cell_type": "markdown",
   "metadata": {
    "deletable": false,
    "nbgrader": {
     "cell_type": "markdown",
     "checksum": "c066945aa96e6e08fcb676cf3b3e08f3",
     "grade": true,
     "grade_id": "cell-2747685663052674",
     "locked": false,
     "points": 4,
     "schema_version": 3,
     "solution": true
    }
   },
   "source": [
    "**Answer to Question 3 (a)**\n",
    "\n",
    "Since $f=e^x$ and $F=T_N(x)$, by applying **Discretization Error of Taylor's Theorem**, $R_N(x)$ can be written as $\\frac{f^{(n+1)}(c) \\cdot (x - x_0)^{n+1}}{(n+1)!}$.\\\n",
    "Then, $T_N(x)$ can be written as $T_N(x)=f(x)-R_N(x)=e^x-\\frac{f^{(N+1)}(c) \\cdot (x - x_0)^{n+1}}{(n+1)!}$\\\n",
    "$r_n$ then can be written as $r_n = \\frac{|e^x - T_n(x)|}{|e^x|} =\\frac{|e^{(N+1)}(c) \\cdot (x - x_0)^{n+1}|}{|e^x(n+1)!|} $\\\n",
    "Since $0\\leq c\\leq x$, $e^c\\leq e^x$, $r_n = \\frac{|e^{(N+1)}(c) \\cdot (x - x_0)^{n+1}|}{|e^x(n+1)!|}   \\leq \\left | \\frac{x^{n+1}}{(n + 1)!} \\right | (x_0 = 0)$"
   ]
  },
  {
   "cell_type": "markdown",
   "metadata": {
    "deletable": false,
    "editable": false,
    "nbgrader": {
     "cell_type": "markdown",
     "checksum": "9a252bb988e5ae52a24a2e87dfe820b2",
     "grade": false,
     "grade_id": "cell-4678254376542691",
     "locked": true,
     "schema_version": 3,
     "solution": false
    }
   },
   "source": [
    "**(b)** [4 pts] Analytically show that for **large** $x\\gg1$ and $n$, $r_n \\leq \\epsilon_{\\text{machine}}$ implies that we need *approximately* $n > e \\cdot x$ terms in the series (where $e = \\text{exp}(1)$).\n",
    "\n",
    "*Hint* Use Stirling's approximation $log (n!) \\approx n~log~n - n$ (and then this problem is still a bit tricky)"
   ]
  },
  {
   "cell_type": "markdown",
   "metadata": {
    "deletable": false,
    "nbgrader": {
     "cell_type": "markdown",
     "checksum": "8152aede9f1e1f429a231ee2b82df69c",
     "grade": true,
     "grade_id": "cell-4305745011657702",
     "locked": false,
     "points": 4,
     "schema_version": 3,
     "solution": true
    }
   },
   "source": [
    "**Answer to Question 3(b)**\n",
    "\n",
    "According to $r_n \\leq \\epsilon_{machine}$, we can have something below:\n",
    "\n",
    "$$\n",
    "\\frac{x^{n+1}}{(n+1)!} \\leq \\epsilon_{machine}\n",
    "$$\n",
    "\n",
    "Since $\\epsilon_{machine}$ is a super small number, we then can eliminate it and change $\\leq$ to $<$\n",
    "\n",
    "$$\n",
    "x^{n+1}<(n+1)!\n",
    "$$\n",
    "\n",
    "Apply $log$ on both sides:\n",
    "\n",
    "$$\n",
    "(n+1)log(x) < (n+1)log(n+1)-(n+1)\n",
    "$$\n",
    "$$\n",
    "log(x) < log(n+1) - 1\n",
    "$$\n",
    "$$\n",
    "log(x) + 1 <log(n+1)\n",
    "$$\n",
    "$$\n",
    "log(x) + log(e) < log(n+1)\n",
    "$$\n",
    "\n",
    "For large values of $n$, $log(n+1) = log(n)$:\n",
    "$$\n",
    "log(x) + log(e) < log(n)\n",
    "$$\n",
    "$$\n",
    "log(e \\cdot x) < log(n)\n",
    "$$\n",
    "$$\n",
    "n > e \\cdot x\n",
    "$$"
   ]
  },
  {
   "cell_type": "markdown",
   "metadata": {
    "deletable": false,
    "editable": false,
    "nbgrader": {
     "cell_type": "markdown",
     "checksum": "a9cef1843dc0ae1deb7e6dbe5f77c33c",
     "grade": false,
     "grade_id": "cell-8048500717179941",
     "locked": true,
     "schema_version": 3,
     "solution": false
    }
   },
   "source": [
    "**(c)** [6 pts] Use this result to write a Python function that accurately approximates $e^x$ using $T_n(x)$ for scalar $x$ and returns both the estimate and the number of terms in the series.  Note that the testing tolerance will be $8 \\cdot \\epsilon_{\\text{machine}}$ over the range $x\\in[-50,50]$\n",
    "\n",
    "Make sure to document your code including expected inputs, outputs, and assumptions being made.\n",
    "\n",
    "Some Hints:\n",
    "* To make your life easier,  we will assume $x$ and $T_n(x)$ are just of type float (not arrays)\n",
    "* Think about how we evaluated polynomials efficiently in class\n",
    "* $T_n(x)$ for $x<0$ is a highly unstable alternating series with severe cancellation issues. However, there is a simple fix that will return accurate solutions independent of the sign of $x$"
   ]
  },
  {
   "cell_type": "code",
   "execution_count": 10,
   "metadata": {
    "deletable": false,
    "nbgrader": {
     "cell_type": "code",
     "checksum": "80286c759520479af4ce906ac70f62e5",
     "grade": false,
     "grade_id": "cell-5914967225034965",
     "locked": false,
     "schema_version": 3,
     "solution": true,
     "task": false
    }
   },
   "outputs": [],
   "source": [
    "def Tn_exp(x):\n",
    "    \"\"\" Write a decent description here\n",
    "    \n",
    "    Parameters:\n",
    "    -----------\n",
    "        x: float\n",
    "            scalar value to approximate exp(x)\n",
    "    \"\"\"\n",
    "\n",
    "    assert(isinstance(x,float))\n",
    "    eps = numpy.finfo(float).eps\n",
    "      \n",
    "    use_inv = False\n",
    "    if x<0:\n",
    "        x = abs(x) \n",
    "        use_inv = True\n",
    "    \n",
    "    n = 1\n",
    "\n",
    "    while True:\n",
    "        \n",
    "        MAX_N = int(numpy.ceil(numpy.exp(1) * x)) + n\n",
    "        p = []\n",
    "\n",
    "        for n in range(MAX_N + 1):\n",
    "            p.append(1 / factorial(n)) \n",
    "        p.reverse()    \n",
    "\n",
    "        Tn = p[0]\n",
    "\n",
    "        for coefficient in p[1:]:\n",
    "            Tn = Tn * x + coefficient\n",
    "\n",
    "        if use_inv:\n",
    "            Tn = 1/Tn\n",
    "            r = numpy.abs((numpy.exp(-x) - Tn) / numpy.exp(-x))\n",
    "\n",
    "        else:\n",
    "            r = numpy.abs((numpy.exp(x) - Tn) / numpy.exp(x))\n",
    "\n",
    "\n",
    "        if r < (8.0 * eps):\n",
    "            break\n",
    "        \n",
    "        n += 1\n",
    "    \n",
    "\n",
    "#     # YOUR CODE HERE\n",
    "#     raise NotImplementedError()\n",
    "\n",
    "\n",
    "    return Tn, MAX_N"
   ]
  },
  {
   "cell_type": "code",
   "execution_count": 11,
   "metadata": {},
   "outputs": [],
   "source": [
    "def Tn_exp(x):\n",
    "    \"\"\" Write a decent description here\n",
    "    \n",
    "    Parameters:\n",
    "    -----------\n",
    "        x: float\n",
    "            scalar value to approximate exp(x)\n",
    "    \"\"\"\n",
    "\n",
    "    assert(isinstance(x,float))\n",
    "    eps = numpy.finfo(float).eps\n",
    "    \n",
    "    T_n = 1.0\n",
    "    MAX_N = int(2000 + int(abs(x) * 3))\n",
    "    \n",
    "    use_inv = False\n",
    "    if x<0:\n",
    "        x = abs(x) \n",
    "        use_inv = True\n",
    "    \n",
    "    for n in numpy.arange(MAX_N,0,-1):\n",
    "        T_n = T_n * x / n + 1.\n",
    "    \n",
    "    if use_inv:\n",
    "        T_n = 1.0/T_n\n",
    "    \n",
    "    Tn = T_n\n",
    "\n",
    "    return Tn, MAX_N"
   ]
  },
  {
   "cell_type": "code",
   "execution_count": 12,
   "metadata": {},
   "outputs": [],
   "source": [
    "# Feel free to test your code here and/or make a plot of errors\n",
    "\n",
    "x = numpy.linspace(-50, 50, 101)\n",
    "eps = numpy.finfo(float).eps\n",
    "\n",
    "answer = numpy.zeros(x.shape)\n",
    "N = numpy.zeros(x.shape)\n",
    "for i,xi in enumerate(x):\n",
    "    answer[i], N[i] = Tn_exp(xi)\n",
    "\n",
    "r = numpy.abs(answer - numpy.exp(x)) / numpy.abs(numpy.exp(x))\n"
   ]
  },
  {
   "cell_type": "code",
   "execution_count": 13,
   "metadata": {
    "deletable": false,
    "editable": false,
    "nbgrader": {
     "cell_type": "code",
     "checksum": "ab0f32ce185cc2c7955fb0d04d65f027",
     "grade": true,
     "grade_id": "cell-9688375319882602",
     "locked": true,
     "points": 6,
     "schema_version": 3,
     "solution": false
    }
   },
   "outputs": [
    {
     "name": "stdout",
     "output_type": "stream",
     "text": [
      "maxmimum relative error = 3.10808965332734 eps_machine\n",
      "Success!\n"
     ]
    }
   ],
   "source": [
    "# Testing Cell (do not copy)\n",
    "\n",
    "x = numpy.linspace(-50, 50, 101)\n",
    "eps = numpy.finfo(float).eps\n",
    "tolerance = 8 * eps\n",
    "\n",
    "answer = numpy.zeros(x.shape)\n",
    "N = numpy.zeros(x.shape)\n",
    "for i,xi in enumerate(x):\n",
    "    answer[i], N[i] = Tn_exp(xi)\n",
    "r = numpy.abs(answer - numpy.exp(x)) / numpy.abs(numpy.exp(x))\n",
    "print('maxmimum relative error = {} eps_machine'.format(r.max()/eps))\n",
    "assert(numpy.all(r  < tolerance))\n",
    "print(\"Success!\")"
   ]
  },
  {
   "cell_type": "markdown",
   "metadata": {
    "deletable": false,
    "editable": false,
    "nbgrader": {
     "cell_type": "markdown",
     "checksum": "2b1d4a353e51fbba1658f5a6968d1b42",
     "grade": false,
     "grade_id": "cell-c154452f653c5adc",
     "locked": true,
     "schema_version": 3,
     "solution": false,
     "task": false
    }
   },
   "source": [
    "**(d)** [4 pts] In ieee double precision,  the largest value of $x$ that has $e^x<$ `numpy.finfo(float).max` is about 709 (i.e. `numpy.log(numpy.finfo(float).max))`. \n",
    "\n",
    "* What is the relative error in units of machine epsilon for your routine and `f=numpy.exp(709)`\n",
    "* What is the relative error in units of machine epsilon for `F=numpy.exp(1)**709` and `f=numpy.exp(709)`\n",
    "\n",
    "Explain your results"
   ]
  },
  {
   "cell_type": "markdown",
   "metadata": {
    "deletable": false,
    "nbgrader": {
     "cell_type": "markdown",
     "checksum": "a5a47ab9f08e7fe4764609703387ef9d",
     "grade": true,
     "grade_id": "cell-26e754d164cf2a3a",
     "locked": false,
     "points": 4,
     "schema_version": 3,
     "solution": true,
     "task": false
    }
   },
   "source": [
    "I wrote 2 piece of codes to generate the Tn and MAX_N\n",
    "The first one will find the Tn and MAX_N automatically starting from MAX_N = 1 and return the right answer.\n",
    "The second one also will do that but start from a prescribed MAX_N to 0 to get the right answer.\n",
    "Since the fisrt one will take so long on finding the right number of term of $709$, so I used the second one to get the answer to this question (d)\n",
    "\n",
    "Relative Error is: 11.483841610648803 machine epsilons.\\\n",
    "Relative Error is: 170.0702257577037 machine epsilons.\n",
    "\n",
    "Explaination:\n",
    "the reason why my routine's answer ss relatively smaller than `F=numpy.exp(1)**709` is I made the code find the term by itself. The reason why `F=numpy.exp(1)**709` is so large is $e \\times e ... \\times e$ for like 709 times will generate super great machine epsilon since the computer cannot represent $e \\times e ...$ exactly the same as the real $e^{709}$\n"
   ]
  },
  {
   "cell_type": "code",
   "execution_count": 14,
   "metadata": {},
   "outputs": [
    {
     "name": "stdout",
     "output_type": "stream",
     "text": [
      "Relative Error is: 11.483841610648803 machine epsilons.\n",
      "Relative Error is: 170.0702257577037 machine epsilons.\n"
     ]
    }
   ],
   "source": [
    "f = numpy.exp(709)\n",
    "F = Tn_exp(709.)[0]\n",
    "\n",
    "rel_error = abs(f-F)/abs(f)\n",
    "print(\"Relative Error is:\",rel_error/eps,\"machine epsilons.\")\n",
    "\n",
    "f = numpy.exp(709)\n",
    "F = numpy.exp(1)**709\n",
    "\n",
    "rel_error2 = abs(f - F) / abs(f)\n",
    "print(\"Relative Error is:\",rel_error2/eps, \"machine epsilons.\")\n",
    "\n"
   ]
  },
  {
   "cell_type": "markdown",
   "metadata": {
    "deletable": false,
    "editable": false,
    "nbgrader": {
     "cell_type": "markdown",
     "checksum": "7acaa725abfd22229bddd35f652e4b57",
     "grade": false,
     "grade_id": "cell-aaa3ac7c64bd5868",
     "locked": true,
     "schema_version": 3,
     "solution": false,
     "task": false
    }
   },
   "source": [
    "**(e)** **Extra Credit**\n",
    "\n",
    "[4 pts] Can you modify your routine for `Tn_exp(x)`) to approximate $e^x$ on the range $x\\in[-709, 709]$ to within 16 $\\epsilon_{machine}$?\n"
   ]
  },
  {
   "cell_type": "code",
   "execution_count": 19,
   "metadata": {
    "deletable": false,
    "nbgrader": {
     "cell_type": "code",
     "checksum": "9c184e65af5b8e5f46c673245638f9ef",
     "grade": false,
     "grade_id": "cell-28a21d2a7d0bda99",
     "locked": false,
     "schema_version": 3,
     "solution": true,
     "task": false
    }
   },
   "outputs": [],
   "source": [
    "def Tn_exp(x,tolerance):\n",
    "    \"\"\" Write a decent description here\n",
    "    \n",
    "    Parameters:\n",
    "    -----------\n",
    "        x: float\n",
    "            scalar value to approximate exp(x)\n",
    "    \"\"\"\n",
    "\n",
    "    assert(isinstance(x,float))\n",
    "    eps = numpy.finfo(float).eps\n",
    "    \n",
    "    T_n = 1.0\n",
    "    MAX_N = int(20 + int(abs(x) * 3))\n",
    "    \n",
    "    use_inv = False\n",
    "    if x<0:\n",
    "        x = abs(x) \n",
    "        use_inv = True\n",
    "    \n",
    "    for n in numpy.arange(MAX_N,0,-1):\n",
    "        T_n = T_n * x / n + 1.\n",
    "    \n",
    "    if use_inv:\n",
    "        T_n = 1.0/T_n\n",
    "    \n",
    "    Tn = T_n\n",
    "#         r = numpy.abs((numpy.exp(-x) - Tn) / numpy.exp(-x))\n",
    "#     else:\n",
    "#         r = numpy.abs((numpy.exp(x) - Tn) / numpy.exp(x))\n",
    "    \n",
    "#     while True:\n",
    "        \n",
    "#         MAX_N = int(numpy.ceil(numpy.exp(1) * x)) + n\n",
    "#         p = []\n",
    "\n",
    "#         for n in range(MAX_N + 1):\n",
    "#             p.append(1 / factorial(n)) \n",
    "#         p.reverse()    \n",
    "\n",
    "#         Tn = p[0]\n",
    "\n",
    "#         for coefficient in p[1:]:\n",
    "#             Tn = Tn * x + coefficient\n",
    "\n",
    "#         if use_inv:\n",
    "#             Tn = 1/Tn\n",
    "#             r = numpy.abs((numpy.exp(-x) - Tn) / numpy.exp(-x))\n",
    "\n",
    "#         else:\n",
    "#             r = numpy.abs((numpy.exp(x) - Tn) / numpy.exp(x))\n",
    "\n",
    "#         if r < tolerance:\n",
    "#             break\n",
    "        \n",
    "#         n += 1\n",
    "    \n",
    "    \n",
    "\n",
    "#     # YOUR CODE HERE\n",
    "#     raise NotImplementedError()\n",
    "\n",
    "\n",
    "    return Tn, MAX_N"
   ]
  },
  {
   "cell_type": "code",
   "execution_count": 20,
   "metadata": {},
   "outputs": [
    {
     "name": "stdout",
     "output_type": "stream",
     "text": [
      "maxmimum relative error = 14.198921216203827 eps_machine\n",
      "Success!\n"
     ]
    }
   ],
   "source": [
    "x = numpy.linspace(-709, 709, 101)\n",
    "tolerance = 16 * eps\n",
    "\n",
    "answer = numpy.zeros(x.shape)\n",
    "N = numpy.zeros(x.shape)\n",
    "for i,xi in enumerate(x):\n",
    "    answer[i], N[i] = Tn_exp(xi, tolerance=tolerance)\n",
    "r = numpy.abs(answer - numpy.exp(x)) / numpy.abs(numpy.exp(x))\n",
    "print('maxmimum relative error = {} eps_machine'.format(r.max()/eps))\n",
    "assert(numpy.all(r  < tolerance))\n",
    "print(\"Success!\")"
   ]
  },
  {
   "cell_type": "code",
   "execution_count": 21,
   "metadata": {
    "deletable": false,
    "editable": false,
    "nbgrader": {
     "cell_type": "code",
     "checksum": "47c964bd17be30e90d2a8b03d580466c",
     "grade": true,
     "grade_id": "cell-96883753198883843",
     "locked": true,
     "points": 0,
     "schema_version": 3,
     "solution": false
    }
   },
   "outputs": [
    {
     "name": "stdout",
     "output_type": "stream",
     "text": [
      "maxmimum relative error = 14.198921216203827 eps_machine\n",
      "Success!\n"
     ]
    }
   ],
   "source": [
    "x = numpy.linspace(-709, 709, 101)\n",
    "tolerance = 16 * eps\n",
    "\n",
    "answer = numpy.zeros(x.shape)\n",
    "N = numpy.zeros(x.shape)\n",
    "for i,xi in enumerate(x):\n",
    "    answer[i], N[i] = Tn_exp(xi, tolerance=tolerance)\n",
    "r = numpy.abs(answer - numpy.exp(x)) / numpy.abs(numpy.exp(x))\n",
    "print('maxmimum relative error = {} eps_machine'.format(r.max()/eps))\n",
    "assert(numpy.all(r  < tolerance))\n",
    "print(\"Success!\")"
   ]
  },
  {
   "cell_type": "markdown",
   "metadata": {
    "deletable": false,
    "editable": false,
    "nbgrader": {
     "cell_type": "markdown",
     "checksum": "0ea70a0549b8738a4ff278bbe58f20df",
     "grade": false,
     "grade_id": "cell-6605000347660435",
     "locked": true,
     "schema_version": 3,
     "solution": false
    }
   },
   "source": [
    "## Question 4\n",
    "\n",
    "Consider a computing system that uses deoxyribonucleic acid (DNA) to store information.  Given that DNA is formed from the 4 nucleobases adenine, cytosine, guanine, and thymine (uracil is only found in RNA) let us assume that our storage of numbers will be base 4.  Answer the following questions based on this assuming that we have $p=3$ for the mantissa and the exponent $E \\in [-3, 3]$ (and we'll pretend DNA has a sign bit...chirality?)."
   ]
  },
  {
   "cell_type": "markdown",
   "metadata": {
    "deletable": false,
    "editable": false,
    "nbgrader": {
     "cell_type": "markdown",
     "checksum": "c13ca513b18f26ed2af616dd50206047",
     "grade": false,
     "grade_id": "cell-9339658002746268",
     "locked": true,
     "schema_version": 3,
     "solution": false
    }
   },
   "source": [
    "**(a)** [4 pts] How many numbers can we represent with this floating point system (assume it's normalized)?  What are the underflow and overflow limits? What is machine Epsilon?"
   ]
  },
  {
   "cell_type": "markdown",
   "metadata": {
    "deletable": false,
    "nbgrader": {
     "cell_type": "markdown",
     "checksum": "b0255974fb370e1c331638d41f074ddf",
     "grade": true,
     "grade_id": "cell-623b625975f5da41",
     "locked": false,
     "points": 4,
     "schema_version": 3,
     "solution": true
    }
   },
   "source": [
    "Since our storage of numbers will be base 4, Mantissa equals to 3 and exponent is from -3 to 3, our number should firstly be a quaternary number that has a form of $-1^{S} \\times M \\times Base^{E} = \\pm d_1 . d_2 d_3 d_4 \\ldots d_p \\times Base^E$\\\n",
    "After substituting the given info in this form, we can get the range of this floating point system: $ \\pm (3 \\times 4^{-3}... 3 \\times 4^{3})$\\\n",
    "So the total number of this chiral floating point system is: $2 \\times 3 \\times 4 \\times 4 \\times 7 + 1 = 673$\\\n",
    "The underflow limit is: $ -1.00 \\times 4^{-3} = -0.015625$\\\n",
    "The overflow limit is: $3.33 \\times 4^{3} = 192$"
   ]
  },
  {
   "cell_type": "markdown",
   "metadata": {
    "deletable": false,
    "editable": false,
    "nbgrader": {
     "cell_type": "markdown",
     "checksum": "29c7fc5ca0808f62a6b35897f3fbbe87",
     "grade": false,
     "grade_id": "cell-9339658dsfsdf46268",
     "locked": true,
     "schema_version": 3,
     "solution": false
    }
   },
   "source": [
    "**(b)** [4pts] Graphically show how the numbers on the decimal real line are distributed."
   ]
  },
  {
   "cell_type": "code",
   "execution_count": 18,
   "metadata": {
    "deletable": false,
    "nbgrader": {
     "cell_type": "code",
     "checksum": "b95cccb5e3723bc4ebd7a1a10500f39a",
     "grade": true,
     "grade_id": "cell-4c6d3ae47566d1f1",
     "locked": false,
     "points": 4,
     "schema_version": 3,
     "solution": true
    }
   },
   "outputs": [
    {
     "data": {
      "image/png": "[encoded data removed]",
      "text/plain": [
       "<Figure size 720x72 with 1 Axes>"
      ]
     },
     "metadata": {
      "needs_background": "light"
     },
     "output_type": "display_data"
    }
   ],
   "source": [
    "d_1_values = [1,2,3]\n",
    "d_2_values = [0,1,2,3]\n",
    "d_3_values = [0,1,2,3]\n",
    "E_values = [3,2,1,0,-1,-2,-3]\n",
    "\n",
    "fig = plt.figure(figsize=(10.0, 1.0))\n",
    "\n",
    "\n",
    "for E in E_values:\n",
    "    for d1 in d_1_values:\n",
    "        for d2 in d_2_values:\n",
    "            for d3 in d_3_values:\n",
    "                plt.plot( (d1 + d2 * 4 ** (-1) + d3 * 4 ** (-2)) * 4**E, 0.0, 'r+', markersize=20)\n",
    "                plt.plot(-(d1 + d2 * 4 ** (-1) + d3 * 4 ** (-2)) * 4**E, 0.0, 'r+', markersize=20)\n",
    "            \n",
    "plt.plot(0.0, 0.0, '+', markersize=20)\n",
    "plt.plot([-10, 10], [0.0, 0.0], 'k')\n",
    "\n",
    "plt.title(\"Distribution of Values $[-10,10]$\")\n",
    "plt.yticks([])\n",
    "plt.xlabel(\"x\")\n",
    "plt.ylabel(\"\")\n",
    "plt.xlim([-10,10])\n",
    "plt.show()\n",
    "\n",
    "\n",
    "# YOUR CODE HERE\n",
    "# raise NotImplementedError()"
   ]
  },
  {
   "cell_type": "markdown",
   "metadata": {
    "deletable": false,
    "editable": false,
    "nbgrader": {
     "cell_type": "markdown",
     "checksum": "fab0fc5f3065c300023b60719c30cb3b",
     "grade": false,
     "grade_id": "cell-93396552502746268",
     "locked": true,
     "schema_version": 3,
     "solution": false
    }
   },
   "source": [
    "**(c)** [4 pts] How many more numbers can we store in $N$ base-pairs (base 4) versus $N$ bits (base 2) where the mantissa and exponent are the same relative length (e.g.  p=3, and $E\\in[-3,3]$ for both problems)?"
   ]
  },
  {
   "cell_type": "markdown",
   "metadata": {
    "deletable": false,
    "nbgrader": {
     "cell_type": "markdown",
     "checksum": "16825fa4b75b7fc34d854b1653fe64b8",
     "grade": true,
     "grade_id": "cell-6de5d8dbf91c5ff7",
     "locked": false,
     "points": 4,
     "schema_version": 3,
     "solution": true
    }
   },
   "source": [
    "* base 2:\\\n",
    "$d_1 = [1,2,3]\\\\\n",
    "d_2 = [0,1,2,3]\\\\\n",
    "d_3 = [0,1,2,3]\\\\\n",
    "E = [-3,-2,-1,0,1,2,3]$\n",
    "So, the total number will be $2 \\times 1 \\times 2 \\times 2 \\times 7 + 1 = 57$\n",
    "\n",
    "* base 4:\\\n",
    "$2 \\times 3 \\times 4 \\times 4 \\times 7 + 1 = 673$\n",
    "\n",
    "* difference:\\\n",
    "$673 - 57 = 616$\n"
   ]
  }
 ],
 "metadata": {
  "kernelspec": {
   "display_name": "Python 3",
   "language": "python",
   "name": "python3"
  },
  "language_info": {
   "codemirror_mode": {
    "name": "ipython",
    "version": 3
   },
   "file_extension": ".py",
   "mimetype": "text/x-python",
   "name": "python",
   "nbconvert_exporter": "python",
   "pygments_lexer": "ipython3",
   "version": "3.8.8"
  },
  "latex_envs": {
   "bibliofile": "biblio.bib",
   "cite_by": "apalike",
   "current_citInitial": 1,
   "eqLabelWithNumbers": true,
   "eqNumInitial": 0
  }
 },
 "nbformat": 4,
 "nbformat_minor": 4
}
