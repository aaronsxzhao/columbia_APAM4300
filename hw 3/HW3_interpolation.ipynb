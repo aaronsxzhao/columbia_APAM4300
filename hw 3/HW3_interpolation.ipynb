{
 "cells": [
  {
   "cell_type": "markdown",
   "metadata": {},
   "source": [
    "Before you turn this problem in, make sure everything runs as expected. First, **restart the kernel** (in the menubar, select Kernel$\\rightarrow$Restart) and then **run all cells** (in the menubar, select Cell$\\rightarrow$Run All).\n",
    "\n",
    "Make sure you fill in any place that says `YOUR CODE HERE` or \"YOUR ANSWER HERE\", as well as any collaborators you worked with:"
   ]
  },
  {
   "cell_type": "code",
   "execution_count": 1,
   "metadata": {},
   "outputs": [],
   "source": [
    "COLLABORATORS = \"me myself and i\""
   ]
  },
  {
   "cell_type": "markdown",
   "metadata": {},
   "source": [
    "---"
   ]
  },
  {
   "cell_type": "code",
   "execution_count": 2,
   "metadata": {},
   "outputs": [],
   "source": [
    "%matplotlib inline\n",
    "import numpy\n",
    "import matplotlib.pyplot as plt"
   ]
  },
  {
   "cell_type": "markdown",
   "metadata": {
    "deletable": false,
    "editable": false,
    "nbgrader": {
     "cell_type": "markdown",
     "checksum": "935818b1cc5498fcab64162ff74a4e0a",
     "grade": false,
     "grade_id": "cell-6537906896021329",
     "locked": true,
     "schema_version": 3,
     "solution": false
    }
   },
   "source": [
    "Before you turn this problem in, make sure everything runs as expected. First, restart the kernel (in the menubar, select Kernel $\\rightarrow$ Restart) and then run all cells (in the menubar, select Cell $\\rightarrow$ Run All).\n",
    "\n",
    "Make sure you fill in any place that says YOUR CODE HERE or \"YOUR ANSWER HERE\", as well as your name and collaborators below:"
   ]
  },
  {
   "cell_type": "markdown",
   "metadata": {
    "deletable": false,
    "editable": false,
    "nbgrader": {
     "cell_type": "markdown",
     "checksum": "0b16d783d23daac019787229d4c2e61a",
     "grade": false,
     "grade_id": "cell-5502088417300118",
     "locked": true,
     "schema_version": 3,
     "solution": false
    }
   },
   "source": [
    "# HW 3:  Interpolation and applications"
   ]
  },
  {
   "cell_type": "markdown",
   "metadata": {
    "deletable": false,
    "editable": false,
    "nbgrader": {
     "cell_type": "markdown",
     "checksum": "09aa3e7992cd994495709007184999f6",
     "grade": false,
     "grade_id": "cell-82472618555790",
     "locked": true,
     "schema_version": 3,
     "solution": false
    }
   },
   "source": [
    "## Question 1\n",
    "\n",
    "Consider data at three points $(x_0, y_0) = (0, 0)$, $(x_1, y_1) = (1, 2)$, and $(x_2, y_2) = (2, 2)$."
   ]
  },
  {
   "cell_type": "markdown",
   "metadata": {
    "deletable": false,
    "editable": false,
    "nbgrader": {
     "cell_type": "markdown",
     "checksum": "3b84eeedf2d36dfc3754dc397cd38e54",
     "grade": false,
     "grade_id": "cell-8265701073131704",
     "locked": true,
     "schema_version": 3,
     "solution": false
    }
   },
   "source": [
    "**(a)** [ 8 pts] Analytically find coefficients of the interpolating  polynomial $P_2(x)$ that passes through these three points in the following bases\n",
    "1. Monomial: $P(x) = p_0 + p_1 x + p_2 x^2$\n",
    "1. Lagrange: $P(x) = \\sum^2_{k=0} y_k \\ell_k(x)$\n",
    "\n",
    "\n",
    "and show that, independent of basis it's always the same polynomial.\n",
    "\n"
   ]
  },
  {
   "cell_type": "markdown",
   "metadata": {
    "deletable": false,
    "nbgrader": {
     "cell_type": "markdown",
     "checksum": "bdca4a8eb957567c3f00677e6a635cfa",
     "grade": true,
     "grade_id": "cell-3823725410153810",
     "locked": false,
     "points": 8,
     "schema_version": 3,
     "solution": true
    }
   },
   "source": [
    "**Answer to Question 1 (a)**\n",
    "\n",
    "Since we have three points, and we are supposed to find $P_2(x) = p_2x^2+p_1x+p_0$, thus we have a set of equations as below: \n",
    "\n",
    "$$\n",
    "y_0 = p_2x_0^2 + p_1x_0 + p_0 \\\\\n",
    "y_0 = p_2x_1^2 + p_1x_1 + p_0 \\\\\n",
    "y_0 = p_2x_2^2 + p_1x_2 + p_0\n",
    "$$\n",
    "\n",
    "Substitute our given information into that we can get:\n",
    "\n",
    "$$\n",
    "0 = p_2(0)^2 + p_1(0) + p_0 \\\\\n",
    "2 = p_2(1)^2 + p_1(1) + p_0 \\\\\n",
    "2 = p_2(2)^2 + p_2(2) + p_0 \n",
    "$$\n",
    "\n",
    "then:\n",
    "\n",
    "$$\n",
    "p_0 = 0 \\\\\n",
    "p_1 + p_2 = 2 \\implies p_1 = 2-p_2 \\\\\n",
    "4p_2 + 2p_1 = 2 \\implies 2p_2 + p_1 = 1\n",
    "$$\n",
    "\n",
    "We know $p_0=0$ so the $p_0$ in the 2nd and 3rd equations are $0$. Now:\n",
    "\n",
    "$$\n",
    "2p_2 + p1 = 1, p_1 = 2 - p_2 \\\\\n",
    "2p_2 + 2 - p_2 = 1 \\\\\n",
    "p_2 + 2 = 1 \\\\\n",
    "p_2 = -1 \\implies p_1 = 3\n",
    "$$\n",
    "\n",
    "Therefore, our interpolating polynomial in the monomial basis is: $$P_2(x)=-x^2 + 3x$$\n",
    "\n",
    "For the lagrange basis: $P(x)=y_0\\ell_0(x) + y_1\\ell_1(x) + y_2\\ell_2(x)$, so:\n",
    "\n",
    "$$\n",
    "P(x) = y_0\\frac{x-x_{1}}{x_0-x_1}\\frac{x-x_2}{x_0-x_2}+y_1\\frac{x-x_0}{x_1-x_0}\\frac{x-x_2}{x_1-x_2}+y_2\\frac{x-x_0}{x_2-x_0}\\frac{x-x_1}{x_2-x_1}\n",
    "$$\n",
    "\n",
    "$$\n",
    "P(x) = 0\\cdot\\frac{x-1}{0-1}\\frac{x-2}{0-2}+2\\cdot\\frac{x-0}{1-0}\\frac{x-2}{1-2}+2\\cdot\\frac{x-0}{2-0}\\frac{x-1}{2-1}\n",
    "$$\n",
    "\n",
    "The interpolating polynomial is: $$P_2(x)=-x^2+3x$$"
   ]
  },
  {
   "cell_type": "markdown",
   "metadata": {
    "deletable": false,
    "editable": false,
    "nbgrader": {
     "cell_type": "markdown",
     "checksum": "ace8c21d5f29d3cdcc7da5754f17aeb5",
     "grade": false,
     "grade_id": "cell-3903963456629954",
     "locked": true,
     "schema_version": 3,
     "solution": false
    }
   },
   "source": [
    "**(b)** [4 pts] Any $N+1$ distinct values of $x$ uniquely define the $N+1$ Lagrange polynomials $\\ell_0(x), \\ell_1(x)\\ldots\\ell_N(x)$\n",
    "\n",
    "show that these functions satisfy \n",
    "\n",
    "$$\\sum^N_{i=0} \\ell_i(x) = 1$$\n",
    "\n",
    "for all values of $x$ (not just the nodes).  We say that the Lagrange polynomials form a \"Partition of Unity\" because they always sum to 1.\n",
    "\n",
    "Hint:  consider interpolation of a constant function, $f(x) = c$ sampled at $N+1$ distinct points.\n"
   ]
  },
  {
   "cell_type": "markdown",
   "metadata": {
    "deletable": false,
    "nbgrader": {
     "cell_type": "markdown",
     "checksum": "a45926dd69a036c2edfd6cf82189426c",
     "grade": true,
     "grade_id": "cell-5902170639545808",
     "locked": false,
     "points": 4,
     "schema_version": 3,
     "solution": true
    }
   },
   "source": [
    "**Answer to Question 1 (b)**\n",
    "\n",
    "Since the interpolating polynomial is unique, no matter what basis we choose, we will get the same answer, so we consider the Newton polynomial:\n",
    "\n",
    "$$\n",
    "P(x) = \\sum^N_{i=0}a_in_i(x)\n",
    "$$\n",
    "\n",
    "Upon expansion: $P(x)=[y_0] + [y_0,y_1](x-x_0) + \\dots + [y_0,y_1,\\dots,y_N](x-x_0)(x-x_1)\\dots(x-x_N)$\n",
    "\n",
    "Since $f(x)=c$ is a constant function, every term except $[y_0]=y_0$ is equal to $0$. Since$\\frac{\\left[y_{\\nu+1}, \\ldots, y_{\\nu+j}\\right]-\\left[y_{\\nu}, \\ldots, y_{\\nu+j-1}\\right]}{x_{\\nu+j}-x_{\\nu}} = 0$, we can know the differences between 2 y terms should be zero, we then can get $y_0=y_1=\\dots=y_n$\n",
    "\n",
    "By the uniqueness of interpolating polynomials, let us consider the lagrange basis now with $P(x)=y_0$\n",
    "\n",
    "$$\n",
    "y_0 = \\sum^N_{i=0}y_i\\ell_i(x)\n",
    "$$\n",
    "\n",
    "Expanding:\n",
    "\n",
    "$$\n",
    "y_0 = y_0\\ell_0(x) + y_1\\ell_1(x) + \\dots + y_N\\ell_N(x)\n",
    "$$ \n",
    "\n",
    "Since $f(x)$ is a constant function, $y_0=y_1=\\dots=y_n$, so:\n",
    "\n",
    "$$\n",
    "1 = \\ell_0(x) + \\ell_1(x) + \\dots + \\ell_N(x)\n",
    "$$\n",
    "\n",
    "Thus, we can have something below:\n",
    "\n",
    "$$\n",
    "\\sum^N_{i=0} \\ell_i(x) = 1\n",
    "$$"
   ]
  },
  {
   "cell_type": "markdown",
   "metadata": {
    "deletable": false,
    "editable": false,
    "nbgrader": {
     "cell_type": "markdown",
     "checksum": "ac4c96d7d73e5fc2bed61803c1dfe1b6",
     "grade": false,
     "grade_id": "cell-6806070912155660",
     "locked": true,
     "schema_version": 3,
     "solution": false
    }
   },
   "source": [
    "## Question 2: Fun with Chebyshev Polynomials"
   ]
  },
  {
   "cell_type": "markdown",
   "metadata": {
    "deletable": false,
    "editable": false,
    "nbgrader": {
     "cell_type": "markdown",
     "checksum": "41e33ea4dd4d761a50dc408a19e71687",
     "grade": false,
     "grade_id": "cell-8344454aa3c6cd29",
     "locked": true,
     "schema_version": 3,
     "solution": false,
     "task": false
    }
   },
   "source": [
    "**(a)** [4 pts] The $n$th Chebyshev polynomial is characterized (up to a constant) by the identity\n",
    "\n",
    "$$T_n(\\cos \\theta) = \\cos (n \\theta)$$\n",
    "\n",
    "Use this identity to show that the Chebyshev polynomials are orthogonal on $x\\in[-1,1]$ with respect to the weight\n",
    "\n",
    "$$\\omega(x) = \\frac{1}{\\sqrt{1 - x^2}}$$\n",
    "\n",
    "To do this you must prove that\n",
    "\n",
    "$$\\int^1_{-1} \\omega(x) T_n(x) T_m(x) dx = \\left \\{ \\begin{aligned} \n",
    "a & ~ & m = n \\\\ \n",
    "0 & ~ & m \\neq n \n",
    "\\end{aligned} \\right .$$\n",
    "\n",
    "where $a$ is a finite constant (also find this coefficient).  Note that you may have multiple non-zero coefficients $a$.  Make sure to cover all these cases and list the conditions that you will find these values."
   ]
  },
  {
   "cell_type": "markdown",
   "metadata": {
    "deletable": false,
    "nbgrader": {
     "cell_type": "markdown",
     "checksum": "30fc92751374bb2710d4fe7648e32a75",
     "grade": true,
     "grade_id": "cell-8354694405440956",
     "locked": false,
     "points": 4,
     "schema_version": 3,
     "solution": true
    }
   },
   "source": [
    "**Answer to Question 2 (a)**\n",
    "\n",
    "First, we set $x$ as $\\cos(\\theta)$, since the domain of $x$ is from -1 to 1, we can then know the domain of $\\theta$ will be $\\theta \\in [\\pi, 0]$.\n",
    "\n",
    "$$\n",
    "\\begin{aligned}\n",
    "dx &= d\\cos(\\theta) \\\\&= -\\sin(\\theta)d\\theta \n",
    "\\end{aligned}\n",
    "$$\n",
    "\n",
    "Then, the integral can be rewritten as:\n",
    "$$\n",
    "\\begin{aligned}\n",
    "\\int^1_{-1} \\omega(x) T_n(x) T_m(x) dx &=\n",
    "- \\int^0_{\\pi} \\frac{1}{\\sqrt{1 - \\cos(x)^2}} \\cos(n\\theta) \\cos(m\\theta) \\sin(\\theta)d\\theta \\\\\n",
    "&= - \\int^0_{\\pi} \\frac{1}{\\sin(\\theta)} \\cos(n\\theta) \\cos(m\\theta) \\sin(\\theta)d\\theta \\\\\n",
    "&= - \\int^0_{\\pi} \\cos(n\\theta) \\cos(m\\theta) d\\theta \\\\\n",
    "&= \\int^{\\pi}_{0} \\cos(n\\theta) \\cos(m\\theta) d\\theta \\\\\n",
    "&= \\frac{1}{2} \\int^{\\pi}_{0} [\\cos(n\\theta + m\\theta) + \\cos(n\\theta - m\\theta)] d\\theta\n",
    "\\end{aligned}\n",
    "$$\n",
    " - $m = n$: When $m = n \\neq 0$, the intergal can then be rewritten as:\n",
    " $$\n",
    " \\begin{aligned}\n",
    " \\frac{1}{2} \\int^{\\pi}_{0} [\\cos(n\\theta + m\\theta) + \\cos(n\\theta - m\\theta)] d\\theta \n",
    " &= \\frac{1}{2} \\int^{\\pi}_{0} [\\cos(2n\\theta) + \\cos(0)] d\\theta \\\\\n",
    " &= \\frac{1}{2} \\frac{1}{2n} (\\sin(2n\\pi) - \\sin(2n \\times 0)) + \\frac{1}{2}(\\pi - 0) \\theta \\\\\n",
    " &= \\frac{sin(2\\pi n)}{4n} + \\frac{\\pi}{2}\n",
    " \\end{aligned}\n",
    " $$\n",
    " \n",
    " Since n represents the nth Chebyshev polynomial, we can easily know thats $\\sin(2 \\pi n ) = 0$, so the abov equation can then be rewritten as:\n",
    " $$\n",
    " \\frac{sin(2\\pi n)}{4n} + \\frac{\\pi}{2} = 0 + \\frac{\\pi}{2} = \\frac{\\pi}{2}\n",
    " $$\n",
    " - $m = n$: When $m = n = 0$, the intergal can then be rewritten as:\n",
    " $$\n",
    " \\begin{aligned}\n",
    " \\frac{1}{2} \\int^{\\pi}_{0} [\\cos(n\\theta + m\\theta) + \\cos(n\\theta - m\\theta)] d\\theta &= \\frac{1}{2} \\int^{\\pi}_{0} [\\cos(0) + \\cos(0)] d\\theta\\\\\n",
    " &= \\frac{1}{2} \\int^{\\pi}_{0} [2] d\\theta\\\\\n",
    " &= \\pi\n",
    " \\end{aligned}\n",
    " $$\n",
    " - $m \\neq n $: When $m \\neq n$, the intergal can then be rewritten as:\n",
    " $$\n",
    " \\begin{aligned}\n",
    " \\frac{1}{2} \\int^{\\pi}_{0} [\\cos(n\\theta + m\\theta) + \\cos(n\\theta - m\\theta)] d\\theta \n",
    " &= \\frac{1}{2} \\left[\\frac{\\sin((m+n)\\pi) - \\sin((m+n) \\times 0)}{m+n} + \\frac{\\sin((n-m)\\pi) - \\sin((n-m) \\times 0)}{n-m} \\right]\\\\\n",
    " &= \\frac{1}{2} \\left[\\frac{\\sin((m+n)\\pi)}{m+n} + \\frac{\\sin((n-m)\\pi)}{n-m} \\right] \\\\\n",
    " &= \\frac{1}{2} \\left[\\frac{\\sin(m\\pi)\\cos(n\\pi) + \\cos(m\\pi)\\sin(n\\pi)}{m+n} + \\frac{\\sin(n\\pi)\\cos(m\\pi) - \\cos(n\\pi)\\sin(m\\pi)}{n-m} \\right]\\\\\n",
    " &= \\frac{1}{2} \\left[\\frac{2n \\sin(n\\pi)\\cos(m\\pi) - 2m\\sin(m\\pi)\\cos(n\\pi)}{n^2 - m^2} \\right] \\\\\n",
    " &= \\frac{n \\sin(n\\pi)\\cos(m\\pi) - m\\sin(m\\pi)\\cos(n\\pi)}{n^2 - m^2}\n",
    " \\end{aligned}\n",
    " $$\n",
    " \n",
    " Since n represents the nth Chebyshev polynomial, we can easily know thats $\\cos( \\pi n ) = \\cos(\\pi m) = 0$, so the abov equation can then be rewritten as:\n",
    " $$\n",
    "\\frac{n \\sin(n\\pi)\\cos(m\\pi) - m\\sin(m\\pi)\\cos(n\\pi)}{n^2 - m^2} = 0 \n",
    " $$\n",
    " \n",
    " \n",
    "Therefore, we can know:\n",
    "$$\n",
    "\\int^1_{-1} \\omega(x) T_n(x) T_m(x) dx = \\frac{1}{2} \\int^{\\pi}_{0} [\\cos(n\\theta + m\\theta) + \\cos(n\\theta - m\\theta)] d\\theta = \\left \\{ \\begin{aligned} \n",
    "\\pi & ~ & m = n \\neq 0\\\\ \n",
    "\\frac{\\pi}{2} & ~ & m = n = 0\\\\ \n",
    "0 & ~ & m \\neq n\n",
    "\\end{aligned} \\right\n",
    ".$$"
   ]
  },
  {
   "cell_type": "markdown",
   "metadata": {
    "deletable": false,
    "editable": false,
    "nbgrader": {
     "cell_type": "markdown",
     "checksum": "851c8fd33ea9abf46564acc344e400ca",
     "grade": false,
     "grade_id": "cell-87edfee5e38ec2f5",
     "locked": true,
     "schema_version": 3,
     "solution": false,
     "task": false
    }
   },
   "source": [
    "**(b)** [4 pts] Consider the  shifted Gaussian \n",
    "$$ f(x) = e^{-(x - 3)^2} $$ on the interval $x\\in[0,6]$\n",
    "\n",
    "make a plot comparing the polynomial interpolant through $N=11$ points using \n",
    "* Evenly spaced points\n",
    "* The appropriate Chebyshev nodes (i.e. roots of $T_{11}$: **note** you will need to transform the nodes defined on the interval $s\\in[-1,1]$ to $x\\in[0, 6]$)\n",
    "\n",
    "Be sure to show both the interpolation points and a reasonably resolved interpolating polynomial $P_{10}(x)$, and label all lines and axes.\n",
    "\n",
    "You can use any of the routines from the notes or `numpy.polyfit` and `numpy.polyval` to actually compute and plot the interpolating polynomial.\n",
    "\n",
    "For fun, experiment with other functions (e.g. Runge's function $f(x) = 1/(1 + 25x^2)$)"
   ]
  },
  {
   "cell_type": "code",
   "execution_count": 3,
   "metadata": {},
   "outputs": [],
   "source": [
    "# Compute the Lagrange basis (\\ell_i(x))\n",
    "def lagrange_basis(x, data):\n",
    "    \"\"\"Compute Lagrange basis at x given N data points\n",
    "    \n",
    "    params:\n",
    "    -------\n",
    "        x: ndarray\n",
    "            1-d Array of floats\n",
    "        data: ndarray of shape (N,2)\n",
    "            2-d Array of data where each row is [ x_i, y_i ]\n",
    "    returns:\n",
    "    --------\n",
    "        basis: ndarray of shape (N, x.shape)\n",
    "            : 2-D array of lagrange basis functions evaluated at x\n",
    "            \n",
    "    \"\"\"\n",
    "    basis = numpy.ones((data.shape[0], x.shape[0]))\n",
    "    for i in range(data.shape[0]):\n",
    "        for j in range(data.shape[0]):\n",
    "            if i != j:\n",
    "                basis[i, :] *= (x - data[j, 0]) / (data[i, 0] - data[j, 0])\n",
    "    return basis\n",
    "\n",
    "# Calculate full polynomial\n",
    "def poly_interpolant(x, data):\n",
    "    \"\"\"Compute polynomial interpolant of (x,y) using Lagrange basis\"\"\"\n",
    "    P = numpy.zeros(x.shape[0])\n",
    "    basis = lagrange_basis(x, data)\n",
    "    for n in range(data.shape[0]):\n",
    "        P += basis[n, :] * data[n, 1]\n",
    "    return P\n"
   ]
  },
  {
   "cell_type": "code",
   "execution_count": 4,
   "metadata": {
    "deletable": false,
    "nbgrader": {
     "cell_type": "code",
     "checksum": "2a1162be101f1f24b8346ec12954767b",
     "grade": true,
     "grade_id": "cell-02c4fc987bf9ddca",
     "locked": false,
     "points": 4,
     "schema_version": 3,
     "solution": true,
     "task": false
    }
   },
   "outputs": [
    {
     "data": {
      "image/png": "[encoded data removed]",
      "text/plain": [
       "<Figure size 1152x432 with 2 Axes>"
      ]
     },
     "metadata": {
      "needs_background": "light"
     },
     "output_type": "display_data"
    }
   ],
   "source": [
    "# Gaussian function\n",
    "y = lambda x: numpy.exp(-((x-3)**2))\n",
    "s = numpy.linspace(-1., 1., 100)\n",
    "x = s * 3 + 3\n",
    "N = 11\n",
    "\n",
    "# evenly space points\n",
    "evenly_data = numpy.empty((N,2))\n",
    "evenly_data[:,0] = numpy.linspace(0.,6.,11)\n",
    "evenly_data[:,1] = y(evenly_data[:,0])\n",
    "P_evenly = poly_interpolant(x , evenly_data)\n",
    "\n",
    "\n",
    "# Chebyshev nodes\n",
    "cheby_data = numpy.empty((N,2))\n",
    "cheby_data[:,0] = 3 * numpy.cos((2.0 * numpy.arange(1, N + 1) - 1.0) / (2.0 * N) * numpy.pi) + 3\n",
    "cheby_data[:,1] = y(cheby_data[:,0])\n",
    "P_cheby = poly_interpolant(x, cheby_data)\n",
    "\n",
    "# plot\n",
    "fig = plt.figure(figsize=(16,6))\n",
    "axes = fig.add_subplot(1,2,1)\n",
    "axes.plot(x, y(x), 'k', label = 'True $f(x)$')\n",
    "axes.plot(evenly_data[:,0], evenly_data[:,1], 'ro', markersize=5, label='data')\n",
    "axes.plot(x, P_evenly, 'b', label='Evenly Space Points')\n",
    "axes.set_title('Evenly Space Points')\n",
    "axes.legend(loc = 'best')\n",
    "\n",
    "axes = fig.add_subplot(1,2,2)\n",
    "axes.plot(x,y(x),'k', label = 'True $f(x)$')\n",
    "axes.plot(cheby_data[:,0], cheby_data[:,1], 'ro', markersize=5, label='data')\n",
    "axes.plot(x, P_cheby, 'b', label='Chebyshev Points')\n",
    "axes.set_title('Chebyshev Points')\n",
    "axes.legend(loc = 'best')\n",
    "plt.show()\n",
    "\n"
   ]
  },
  {
   "cell_type": "markdown",
   "metadata": {
    "deletable": false,
    "editable": false,
    "nbgrader": {
     "cell_type": "markdown",
     "checksum": "407a3047713db39c9682e9671ffcac56",
     "grade": false,
     "grade_id": "cell-963631730bd282f4",
     "locked": true,
     "schema_version": 3,
     "solution": false,
     "task": false
    }
   },
   "source": [
    "**(c)** [4 pts] define the relative error as\n",
    "        \n",
    "$$\n",
    " r = \\frac{||f(x) - P_N(x)||}{||f(x)||}\n",
    "$$\n",
    "\n",
    "where $||\\cdot||$ is an appropriate norm (length) of a vector, in python you can calculate this by\n",
    "\n",
    "```python\n",
    "x = numpy.linspace(x_min, x_max)\n",
    "P_N = numpy.polyval(p, x)\n",
    "\n",
    "err = f(x) - P_N(x)\n",
    "r = numpy.linalg.norm(err)/numpy.linalg.norm(f(x))\n",
    "```\n",
    "\n",
    "* Make a well labeled plot showing log(r) vs number of grid points $N$ for $N\\in[5,30]$ \n",
    "* Comment briefly on your results. Some questions to consider are:\n",
    "    *  does $P_N(x)\\rightarrow f(x)$ as $N\\rightarrow\\infty$?\n",
    "    *  Is one interpolant more accurate than the other?\n",
    "    * Anything else you notice"
   ]
  },
  {
   "cell_type": "code",
   "execution_count": 5,
   "metadata": {
    "deletable": false,
    "nbgrader": {
     "cell_type": "code",
     "checksum": "b501a285d15a7fef6e0dbb6a2fca307e",
     "grade": true,
     "grade_id": "cell-3a61e29e4740bd7d",
     "locked": false,
     "points": 4,
     "schema_version": 3,
     "solution": true,
     "task": false
    }
   },
   "outputs": [
    {
     "data": {
      "image/png": "[encoded data removed]",
      "text/plain": [
       "<Figure size 1152x864 with 4 Axes>"
      ]
     },
     "metadata": {
      "needs_background": "light"
     },
     "output_type": "display_data"
    }
   ],
   "source": [
    "# Gaussian function\n",
    "y = lambda x: numpy.exp(-((x-3)**2))\n",
    "s = numpy.linspace(-1., 1., 100)\n",
    "x = s * 3 + 3\n",
    "N = numpy.linspace(5,100,96)\n",
    "r_evenly = []\n",
    "r_cheby = []\n",
    "\n",
    "for n in range(5,101):\n",
    "    # evenly space points\n",
    "    evenly_data = numpy.empty((n,2))\n",
    "    evenly_data[:,0] = numpy.linspace(0.,6.,n)\n",
    "    evenly_data[:,1] = y(evenly_data[:,0])\n",
    "    P_evenly = poly_interpolant(x , evenly_data)\n",
    "\n",
    "    # Chebyshev nodes\n",
    "    cheby_data = numpy.empty((n,2))\n",
    "    cheby_data[:,0] = 3 * numpy.cos((2.0 * numpy.arange(1, n + 1) - 1.0) / (2.0 * n) * numpy.pi) + 3\n",
    "    cheby_data[:,1] = y(cheby_data[:,0])\n",
    "    P_cheby = poly_interpolant(x, cheby_data)\n",
    "\n",
    "    # error calculation\n",
    "    err1 = y(x) - P_evenly\n",
    "    r1 = numpy.linalg.norm(err1) / numpy.linalg.norm(y(x))\n",
    "    \n",
    "    err2 = y(x) - P_cheby\n",
    "    r2 = numpy.linalg.norm(err2) / numpy.linalg.norm(y(x))\n",
    "    \n",
    "    r_evenly.append(r1)\n",
    "    r_cheby.append(r2)\n",
    "    \n",
    "r_evenly = numpy.log(r_evenly)\n",
    "r_cheby = numpy.log(r_cheby)\n",
    "fig = plt.figure(figsize=(16,12))\n",
    "axes = fig.add_subplot(2,2,1)\n",
    "axes.plot(N, r_evenly, 'k')\n",
    "axes.set_title('Evenly interpolation')\n",
    "axes.grid()\n",
    "\n",
    "axes = fig.add_subplot(2,2,2)\n",
    "axes.plot(N, r_cheby, 'k')\n",
    "axes.set_title('Cheby interpolation')\n",
    "axes.grid()\n",
    "\n",
    "axes = fig.add_subplot(2,2,3)\n",
    "axes.plot(N, r_evenly, 'r', label = 'Evenly interpolation')\n",
    "axes.plot(N, r_cheby, 'b', label =  'Cheby interpolation')\n",
    "axes.set_title('Interpolation')\n",
    "axes.legend(loc = 'best')\n",
    "axes.grid()\n",
    "\n",
    "axes = fig.add_subplot(2,2,4)\n",
    "axes.plot(N, r_cheby - r_evenly, 'k')\n",
    "axes.set_title('Comparision')\n",
    "\n",
    "\n",
    "plt.grid()\n",
    "plt.show()"
   ]
  },
  {
   "cell_type": "markdown",
   "metadata": {
    "deletable": false,
    "nbgrader": {
     "cell_type": "markdown",
     "checksum": "e3b7bad1b549b90f5d44416f05d4d9c0",
     "grade": true,
     "grade_id": "cell-9bd361f6e06eb56c",
     "locked": false,
     "points": 2,
     "schema_version": 3,
     "solution": true,
     "task": false
    }
   },
   "source": [
    "**Comments**\n",
    "\n",
    "*  does $P_N(x)\\rightarrow f(x)$ as $N\\rightarrow\\infty$?\n",
    "\n",
    "    No for evenly interpolation but yes for chebyshev interpolation, as $N\\rightarrow\\infty$, $P_N(x)-f(x) \\rightarrow a$ since we can see from the graph that the log(r) somehow converges to a constant $a$(I see that as machine epsilon)of chebyshev interpolation and also we can see that it will not converge for evenly interpolation\n",
    "    \n",
    "*  Is one interpolant more accurate than the other?\n",
    "\n",
    "    The chebyshev is more accurate than the evenly interpolation, we can see from the graph   \n",
    "    \n",
    "* Anything else you notice\n",
    "\n",
    "    When N goes larger than 40 we can somehow notice that the Evenly interpolation goes crazy and it actually has a very interesting patten"
   ]
  },
  {
   "cell_type": "markdown",
   "metadata": {
    "deletable": false,
    "editable": false,
    "nbgrader": {
     "cell_type": "markdown",
     "checksum": "27b49713fe8cae4dff40225f79ad92df",
     "grade": false,
     "grade_id": "cell-3224734890563854",
     "locked": true,
     "schema_version": 3,
     "solution": false
    }
   },
   "source": [
    "## Question 3\n",
    "\n",
    "We can often reformulate finite difference approximations as matrix-vector products.   \n",
    "\n",
    "Here we will construct a matrix   $D$  such that multiplying a vector of $\\mathbf{y}$ values would lead to a second order approximation of the First derivative for the given data. \n",
    "\n",
    "In other words, defining the two vectors   $\\mathbf{x}=[x_0, x_1,\\ldots,x_N]^T$ and $\\mathbf{y}=[y_0, y_1,\\ldots,y_N]^T$  such that\n",
    "\n",
    "$$\\mathbf{y} = f(\\mathbf{x})$$\n",
    "\n",
    "for some scalar function $f$,  find a matrix $D$ such that \n",
    "\n",
    "$$\n",
    "f'(\\mathbf{x}) \\approx D\\mathbf{y}\n",
    "$$"
   ]
  },
  {
   "cell_type": "markdown",
   "metadata": {
    "deletable": false,
    "editable": false,
    "nbgrader": {
     "cell_type": "markdown",
     "checksum": "75ec0cda1d28b8a0bcdb536eaff4233f",
     "grade": false,
     "grade_id": "cell-5c735e9080300d72",
     "locked": true,
     "schema_version": 3,
     "solution": false
    }
   },
   "source": [
    "**(a)** [16] Using any method of your choice, derive the following finite-difference formulas for 3 equispaced points $x_i, x_{i+1}, x_{i+2}$ \n",
    "\n",
    "* 2nd-order accurate approximation to the *1st derivative* at  point \n",
    "    * $x_i$ (forward differences)\n",
    "    * $x_{i+1}$ (centered differences)\n",
    "    * $x_{i+2}$ (backward differences)\n",
    "* 2nd-order accurate approximation to the *2nd derivative* evaluated at each point (hint: think before you grind)\n",
    "\n",
    "Some hints:\n",
    "1. consider the interpolating polynomial $P_2(x)$ through those 3 points and calculate $P'_2(x)$ at each point.\n",
    "2. the method of undetermined coefficients on Taylor's series can be useful here as well\n",
    "\n"
   ]
  },
  {
   "cell_type": "markdown",
   "metadata": {
    "deletable": false,
    "nbgrader": {
     "cell_type": "markdown",
     "checksum": "b46a1b3dc8a64dd94422b7611d5aac79",
     "grade": true,
     "grade_id": "cell-88d2d6f7dba4237d",
     "locked": false,
     "points": 16,
     "schema_version": 3,
     "solution": true
    }
   },
   "source": [
    "**Answer to Question 3 (a)**\n",
    "\n",
    "* 2nd-order accurate approximation to the *1st derivative* at  point \n",
    "    * $x_i$ (forward differences)\n",
    "    \n",
    "    Set $f^{\\prime}(x_i)$ as the equation below:\n",
    "    $$\n",
    "    \\begin{aligned}\n",
    "    f^{\\prime}(x_i) &= af(x_i) + bf(x_{i+1}) +cf(x_{i+2})\\\\\n",
    "    &= af(x_i) + bf(x_{i} + \\Delta x) +cf(x_{i} + 2\\Delta x)\\\\\n",
    "    &= af(x_i) + b\\left(  f(x_{i}) + \\Delta x f^{\\prime}(x_{i}) + \\frac{\\Delta x^2}{2!}f^{\\prime \\prime}(x_{i}) + \\mathcal{O}(\\Delta x^3)\\right) +c\\left(  f(x_{i}) + 2 \\Delta x f^{\\prime}(x_{i}) + \\frac{4 \\Delta x^2}{2!}f^{\\prime \\prime}(x_{i}) + \\mathcal{O}(\\Delta x^3)\\right)\n",
    "    \\end{aligned}\n",
    "    $$\n",
    "    So, we can get\n",
    "    $$\n",
    "    \\begin{aligned}\n",
    "    f(x_i):&  &a + b + c &= 0 \\\\\n",
    "    f'(x_i): & &b \\Delta x + 2c \\Delta x &= 1 \\\\\n",
    "    f''(x_i): & &b \\frac{\\Delta x^2}{2} + c \\frac{4 \\Delta x^2}{2} &= 0\n",
    "\\end{aligned} \n",
    "    $$\n",
    "    We then can get:\n",
    "    $$\n",
    "    f^{\\prime}(x_i) = \\frac{-3f(x_i) + 4f(x_{i+1}) - f(x_{i+2})}{2\\Delta x}\n",
    "    $$\n",
    "\n",
    "    * $x_{i+1}$ (centered differences)\n",
    "    \n",
    "    Set $f^{\\prime}(x_{i+1})$ as the equation below:\n",
    "    $$\n",
    "    \\begin{aligned}\n",
    "    f^{\\prime}(x_{i+1}) &= af(x_i) + bf(x_{i+1}) +cf(x_{i+2})\\\\\n",
    "    &= af(x_{i+1} - \\Delta x) + bf(x_{i+1}) +cf(x_{i+1} + \\Delta x)\\\\\n",
    "    &= a\\left(f(x_{i+1}) -  \\Delta x f^{\\prime}(x_{i+1}) + \\frac{ \\Delta x^2}{2!}f^{\\prime \\prime}(x_{i+1}) + \\mathcal{O}(\\Delta x^3)\\right) + bf(x_{i+1}) +c\\left(f(x_{i+1}) + \\Delta x f^{\\prime}(x_{i+1}) + \\frac{\\Delta x^2}{2!}f^{\\prime \\prime}(x_{i+1}) + \\mathcal{O}(\\Delta x^3)\\right)\n",
    "    \\end{aligned}\n",
    "    $$\n",
    "    So, we can get\n",
    "    $$\n",
    "    \\begin{aligned}\n",
    "    f(x_{i+1}):&  &a + b + c &= 0 \\\\\n",
    "    f'(x_{i+1}): & &-a \\Delta x + c \\Delta x &= 1 \\\\\n",
    "    f''(x_{i+1}): & &a \\frac{\\Delta x^2}{2} + c \\frac{\\Delta x^2}{2} &= 0\n",
    "\\end{aligned} \n",
    "    $$\n",
    "    We then can get:\n",
    "    $$\n",
    "    f^{\\prime}(x_{i+1}) = \\frac{f(x_{i+2}) - f(x_{i})}{2\\Delta x}\n",
    "    $$\n",
    "    \n",
    "    * $x_{i+2}$ (backward differences)\n",
    "    \n",
    "    Set $f^{\\prime}(x_{i+2})$ as the equation below:\n",
    "    $$\n",
    "    \\begin{aligned}\n",
    "    f^{\\prime}(x_{i+2}) &= af(x_i) + bf(x_{i+1}) +cf(x_{i+2})\\\\\n",
    "    &= af(x_{i+2} - 2\\Delta x) + bf(x_{i+2} - \\Delta x) +cf(x_{i+2})\\\\\n",
    "    &= a\\left(f(x_{i+2}) - 2 \\Delta x f^{\\prime}(x_{i+2}) + \\frac{4 \\Delta x^2}{2!}f^{\\prime \\prime}(x_{i+2}) + \\mathcal{O}(\\Delta x^3)\\right) + b\\left(  f(x_{i+2}) - \\Delta x f^{\\prime}(x_{i+2}) + \\frac{\\Delta x^2}{2!}f^{\\prime \\prime}(x_{i+2}) + \\mathcal{O}(\\Delta x^3)\\right) +cf(x_{i+2})\n",
    "    \\end{aligned}\n",
    "    $$\n",
    "    So, we can get\n",
    "    $$\n",
    "    \\begin{aligned}\n",
    "    f(x_{i+2}):&  &a + b + c &= 0 \\\\\n",
    "    f'(x_{i+2}): & &-b \\Delta x - a \\Delta x &= 1 \\\\\n",
    "    f''(x_{i+2}): & &b \\frac{\\Delta x^2}{2} + a \\frac{4 \\Delta x^2}{2} &= 0\n",
    "\\end{aligned} \n",
    "    $$\n",
    "    We then can get:\n",
    "    $$\n",
    "    f^{\\prime}(x_{i+2}) = \\frac{3f(x_{i+2}) - 4f(x_{i+1}) + f(x_{i+2})}{2\\Delta x}\n",
    "    $$\n",
    "\n",
    "\n",
    "\n",
    "\n",
    "\n",
    "\n",
    "\n",
    "   \n",
    "* 2nd-order accurate approximation to the *2nd derivative* evaluated at each point (hint: think before you grind)\n",
    "    * $x_i$ (forward differences)\n",
    "    \n",
    "    Since we are supposed to calculate 2nd-order accurate approximation to the *1st derivative* with *forward differences* condition. We should first write down our $f(x_{i}), f(x_{i}) and f(x_{i})$ using Taylor series:\n",
    "    $$\n",
    "    \\begin{aligned}\n",
    "    f(x_{i}) &= f(x_{i})\\\\\n",
    "    f(x_{i+1}) &= f(x_{i} + \\Delta x) = f(x_{i}) + \\Delta x f^{\\prime}(x_{i}) + \\frac{\\Delta x^2}{2!}f^{\\prime \\prime}(x_{i}) + \\mathcal{O}(\\Delta x^3)\\\\\n",
    "    f(x_{i+2}) &= f(x_{i} + 2\\Delta x) = f(x_{i}) + 2 \\Delta x f^{\\prime}(x_{i}) + \\frac{4 \\Delta x^2}{2!}f^{\\prime \\prime}(x_{i}) + \\mathcal{O}(\\Delta x^3)\n",
    "    \\end{aligned}\n",
    "    $$\n",
    "    \n",
    "    Use the 3rd one minus 2 $\\times$ 2nd and substitute the 1st one into it we then can get:\n",
    "    \n",
    "    $$\n",
    "    f^{\\prime \\prime}(x_{i}) = \\frac{f(x_i) - 2f(x_{i+1}) + f(x_{i+2})}{\\Delta x^2}\n",
    "    $$\n",
    "    \n",
    "    * $x_{i+1}$ (centered differences)\n",
    "    \n",
    "     $$\n",
    "    \\begin{aligned}\n",
    "    f(x_{i+1}) &= f(x_{i+1})\\\\\n",
    "    f(x_{i}) &= f(x_{i+1} - \\Delta x) = f(x_{i+1}) - \\Delta x f^{\\prime}(x_{i+1}) + \\frac{\\Delta x^2}{2!}f^{\\prime \\prime}(x_{i+1}) + \\mathcal{O}(\\Delta x^3)\\\\\n",
    "    f(x_{i+2}) &= f(x_{i+1} + \\Delta x) = f(x_{i+1}) + \\Delta x f^{\\prime}(x_{i+1}) + \\frac{ \\Delta x^2}{2!}f^{\\prime \\prime}(x_{i+1}) + \\mathcal{O}(\\Delta x^3)\n",
    "    \\end{aligned}\n",
    "    $$\n",
    "    we then can get somethin very similar to forward differences since we calculated the forward differences based on $x_i$:\n",
    "    \n",
    "    $$\n",
    "    f^{\\prime \\prime}(x_{i+1}) = \\frac{f(x_i) - 2f(x_{i+1}) + f(x_{i+2})}{\\Delta x^2}\n",
    "    $$\n",
    "    * $x_{i+2}$ (backward differences)\n",
    "    \n",
    "    Use equations as below:\n",
    "    $$\n",
    "    \\begin{aligned}\n",
    "    f(x_{i+2}) &= f(x_{i+2})\\\\\n",
    "    f(x_{i+1}) &= f(x_{i+2} - \\Delta x) = f(x_{i+2}) - \\Delta x f^{\\prime}(x_{i+2}) + \\frac{\\Delta x^2}{2!}f^{\\prime \\prime}(x_{i+2}) + \\mathcal{O}(\\Delta x^3)\\\\\n",
    "    f(x_{i}) &= f(x_{i+2} - 2\\Delta x) = f(x_{i+2}) - 2 \\Delta x f^{\\prime}(x_{i+2}) + \\frac{4 \\Delta x^2}{2!}f^{\\prime \\prime}(x_{i+2}) + \\mathcal{O}(\\Delta x^3)\n",
    "    \\end{aligned}\n",
    "    $$\n",
    "    we then can get somethin very similar to forward differences since we calculated the forward differences based on $x_i$:\n",
    "    \n",
    "    $$\n",
    "    f^{\\prime \\prime}(x_{i+2}) = \\frac{f(x_i) - 2f(x_{i+1}) + f(x_{i+2})}{\\Delta x^2}\n",
    "    $$\n",
    "    \n",
    "    "
   ]
  },
  {
   "cell_type": "markdown",
   "metadata": {
    "deletable": false,
    "editable": false,
    "nbgrader": {
     "cell_type": "markdown",
     "checksum": "5b4d3625936b76ee346bf8290df0a272",
     "grade": false,
     "grade_id": "cell-7885120873385504",
     "locked": true,
     "schema_version": 3,
     "solution": false
    }
   },
   "source": [
    "**(b)** [4] Now consider an equispaced set of points  $y_i = f(x_i)$.  Can you describe the structure of a consistent 2nd order, first derivative matrix $D$,  such that \n",
    "\n",
    "$$\n",
    "    f'(\\mathbf{x}) \\approx D\\mathbf{y}\n",
    "$$\n",
    "\n",
    "returns the consistent 1st derivative at every point (including the end points)"
   ]
  },
  {
   "cell_type": "markdown",
   "metadata": {
    "deletable": false,
    "nbgrader": {
     "cell_type": "markdown",
     "checksum": "615db92a0cea0a438f8d1bcb1b304b11",
     "grade": true,
     "grade_id": "cell-2125755949784286",
     "locked": false,
     "points": 4,
     "schema_version": 3,
     "solution": true
    }
   },
   "source": [
    "**Answer to Question 3 (b)**\n",
    "Since we already have the equations above we then can calculate the matrix D by assembling them.\n",
    "$$\n",
    "\\frac{1}{2 \\Delta}\\left[\\begin{array}{cccccccc}\n",
    "-3 & 4 & -1 & 0 & 0 & 0 & \\ldots & 0 \\\\\n",
    "-1 & 0 & 1 & 0 & 0 & 0 & \\ldots & 0 \\\\\n",
    "0 & -1 & 0 & 1 & 0 & 0 & \\ldots & 0 \\\\\n",
    "0 & 0 & -1 & 0 & 1 & 0 & \\ldots & 0 \\\\\n",
    ". & . & . & . & . & . & \\ldots & . \\\\\n",
    ". & . & . & . & . & . & \\ldots & . \\\\\n",
    ". & . & . & . & . & -1 & 0 & 1 \\\\\n",
    "0 & 0 & 0 & 0 & \\ldots & 1 & -4 & 3\n",
    "\\end{array}\\right]\n",
    "$$"
   ]
  },
  {
   "cell_type": "markdown",
   "metadata": {
    "deletable": false,
    "editable": false,
    "nbgrader": {
     "cell_type": "markdown",
     "checksum": "81a305f8a973d9be62256992de1c1149",
     "grade": false,
     "grade_id": "cell-8815784455777695",
     "locked": true,
     "schema_version": 3,
     "solution": false
    }
   },
   "source": [
    "**(c)** [4] Using the function `fdcoeffV.py` described in class (and included with this homework), write a python function that takes in a numpy array of coordinates $x$ (not necessarily evenly spaced)  and returns a matrix $D$ that calculates the consistent 2nd-order 1st derivatives at each point using 3 nearest neighbors (be careful at the edges)\n",
    "\n",
    "Given this matrix $D$, it is easy to test it for various functions and meshes"
   ]
  },
  {
   "cell_type": "code",
   "execution_count": 6,
   "metadata": {
    "deletable": false,
    "nbgrader": {
     "cell_type": "code",
     "checksum": "0ccb77beb9410271354dbf3a474cb335",
     "grade": false,
     "grade_id": "cell-5516025382221234",
     "locked": false,
     "schema_version": 3,
     "solution": true
    }
   },
   "outputs": [],
   "source": [
    "from  fdcoeffV import fdcoeffV\n",
    "\n",
    "def D1(x):\n",
    "    \"\"\"\n",
    "    Write a good doc-string\n",
    "    \n",
    "    x: ndarray of coordinates\n",
    "    D: ndarray\n",
    "        Matrix (2-D ndarray ) to calculate consistent 2nd order first derivative\n",
    "    \"\"\"\n",
    "    k = 1\n",
    "    m = numpy.size(x)\n",
    "    A = numpy.zeros((m, m))\n",
    "    \n",
    "    f1 = fdcoeffV(k,x[0],x[:3])\n",
    "    A[0,0] = f1[0]\n",
    "    A[0,1] = f1[1]\n",
    "    A[0,2] = f1[2]\n",
    "    \n",
    "    for j in range(1,m-1):\n",
    "        fd = fdcoeffV(k,  x[j], x[j-1:j+2])\n",
    "        A[j,j-1] = fd[0]\n",
    "        A[j,j] = fd[1]\n",
    "        A[j,j+1] = fd[2]\n",
    "    \n",
    "    f2 = fdcoeffV(k,x[-1],x[-3:])\n",
    "    A[-1,-3] = f2[0]\n",
    "    A[-1,-2] = f2[1]\n",
    "    A[-1,-1] = f2[2]\n",
    "    \n",
    "    return A"
   ]
  },
  {
   "cell_type": "code",
   "execution_count": 7,
   "metadata": {
    "deletable": false,
    "editable": false,
    "nbgrader": {
     "cell_type": "code",
     "checksum": "728edeeac8ee580c8b5451714396ff74",
     "grade": true,
     "grade_id": "cell-7511846809958937",
     "locked": true,
     "points": 4,
     "schema_version": 3,
     "solution": false
    }
   },
   "outputs": [
    {
     "name": "stdout",
     "output_type": "stream",
     "text": [
      "Uniform mesh: Success!\n",
      "Random mesh: Success!\n"
     ]
    }
   ],
   "source": [
    "# Let's test this using f(x) = sin(pi*x) on a uniform mesh\n",
    "N = 200\n",
    "x = numpy.linspace(-1, 1, N)\n",
    "dx = x[1]-x[0]\n",
    "\n",
    "pi = numpy.pi\n",
    "y = lambda x: numpy.sin(pi*x)\n",
    "y_prime = lambda x: pi*numpy.cos(pi*x)\n",
    "\n",
    "print(\"Uniform mesh: \",end='')\n",
    "numpy.testing.assert_allclose(numpy.dot(D1(x), y(x)), y_prime(x), rtol=1e-2)\n",
    "print(\"Success!\")\n",
    "\n",
    "# test on a randomized mesh\n",
    "x_rand = x + dx/3.*numpy.random.rand(N)\n",
    "print(\"Random mesh: \",end ='')\n",
    "numpy.testing.assert_allclose(numpy.dot(D1(x_rand), y(x_rand)), y_prime(x_rand), rtol=1e-2)\n",
    "print(\"Success!\")\n",
    "\n"
   ]
  },
  {
   "cell_type": "markdown",
   "metadata": {
    "deletable": false,
    "editable": false,
    "nbgrader": {
     "cell_type": "markdown",
     "checksum": "ae07a197d06352ba440c9a21e07f055a",
     "grade": false,
     "grade_id": "cell-894a7ec04fd0689b",
     "locked": true,
     "schema_version": 3,
     "solution": false,
     "task": false
    }
   },
   "source": [
    "**(d)** [6] make a beautiful convergence plot showing how the relative error in your finite element approximation\n",
    "\n",
    "$$ r = \\frac{||f'(\\mathbf{x}) - D\\mathbf{y}||}{||f'(\\mathbf{x})||}$$\n",
    "\n",
    " scales with mesh spacing $\\Delta x$ for $f(x) = \\sin(\\pi x)$ on the interval $x\\in[-1,1]$.  What is the expected rate of convergence?  Compare with the best fit straight line (in log space) to your error estimates."
   ]
  },
  {
   "cell_type": "code",
   "execution_count": 8,
   "metadata": {
    "deletable": false,
    "nbgrader": {
     "cell_type": "code",
     "checksum": "4500eb4ea647bfe57d5b35b583a5e97c",
     "grade": true,
     "grade_id": "cell-2dac3533cd822755",
     "locked": false,
     "points": 4,
     "schema_version": 3,
     "solution": true,
     "task": false
    }
   },
   "outputs": [
    {
     "data": {
      "image/png": "[encoded data removed]",
      "text/plain": [
       "<Figure size 576x432 with 1 Axes>"
      ]
     },
     "metadata": {
      "needs_background": "light"
     },
     "output_type": "display_data"
    }
   ],
   "source": [
    "pi = numpy.pi\n",
    "y = lambda x: numpy.sin(pi*x)\n",
    "y_prime = lambda x: pi*numpy.cos(pi*x)\n",
    "k = 100\n",
    "N = 2**(numpy.array(range(3,14))) + 1 \n",
    "dx = numpy.zeros(N.shape)\n",
    "r = numpy.zeros(N.shape)\n",
    "\n",
    "for i, n in enumerate(N):\n",
    "    x = numpy.linspace(-1.,1.,n)\n",
    "    dx1 = 2/n\n",
    "    Dy = numpy.dot(D1(x), y(x))\n",
    "    r1 = numpy.linalg.norm(y_prime(x) - Dy) / numpy.linalg.norm(y_prime(x))\n",
    "    r[i] = r1\n",
    "    dx[i] = dx1\n",
    "    \n",
    "order = lambda dx, r, order: numpy.exp(numpy.log(r) - order * numpy.log(dx))\n",
    "dx = numpy.array(dx)\n",
    "p1 = numpy.polyfit(numpy.log10(dx), numpy.log10(r), 1)\n",
    "\n",
    "fig = plt.figure(figsize=(8,6))\n",
    "axes = fig.add_subplot(1,1,1)\n",
    "\n",
    "axes.loglog(dx, r, 'b--', label='2nd Order of the First Derivative' )\n",
    "axes.loglog(dx, order(dx,r,2.0)* dx **2, 'ro', label = 'Expected Rate of convergence')\n",
    "axes.loglog(dx, 10**(numpy.polyval(p1, numpy.log10(dx))), label='Best Fit Line')\n",
    "\n",
    "# plt.gca().invert_xaxis()\n",
    "\n",
    "axes.set_title('Convergence of Finite differences', fontsize = 15)\n",
    "axes.set_xlabel('$\\Delta x$', fontsize = 15)\n",
    "axes.set_ylabel('Relative Error', fontsize = 15)\n",
    "axes.legend(loc='best')\n",
    "plt.grid()\n",
    "plt.show()"
   ]
  },
  {
   "cell_type": "markdown",
   "metadata": {
    "deletable": false,
    "nbgrader": {
     "cell_type": "markdown",
     "checksum": "26e78697e343f6e8a397e33cb9f745f8",
     "grade": true,
     "grade_id": "cell-cdbaae508b97aeab",
     "locked": false,
     "points": 2,
     "schema_version": 3,
     "solution": true,
     "task": false
    }
   },
   "source": [
    "the expected rate of convergence should be 2 and its quadratic"
   ]
  },
  {
   "cell_type": "markdown",
   "metadata": {
    "deletable": false,
    "editable": false,
    "nbgrader": {
     "cell_type": "markdown",
     "checksum": "71695abb08cc03b3423e733ae2b932fa",
     "grade": false,
     "grade_id": "cell-1283048126092389",
     "locked": true,
     "schema_version": 3,
     "solution": false
    }
   },
   "source": [
    "**(e)** [4] Suppose we knew the *first derivative* of a function $f(x)$ at a discrete set of points and wanted to solve for the discrete function itself.  i.e.  ideally given $D$ and vector $\\mathbf{y} = f'(\\mathbf{x})$,  we would like to be able to solve the linear algebra problem\n",
    "\n",
    "$$\n",
    "    D\\mathbf{f} = \\mathbf{y}\n",
    "$$\n",
    "\n",
    "for $\\mathbf{f}\\approx f(\\bf{x})$.  Discuss any issues we might have with this approach."
   ]
  },
  {
   "cell_type": "markdown",
   "metadata": {
    "deletable": false,
    "nbgrader": {
     "cell_type": "markdown",
     "checksum": "4796062ad226b5075c548c9202ba07fe",
     "grade": true,
     "grade_id": "cell-3816704844311840",
     "locked": false,
     "points": 4,
     "schema_version": 3,
     "solution": true
    }
   },
   "source": [
    "**Answer to Question 3 (e)**\n",
    "\n",
    "When D is non-invertible, we cannot simply calculate $\\mathbf{f}$ by having $\\mathbf{f} = D^{-1}\\mathbf{y}$.\n",
    "We somehow cannot guarantee the value of D since there maybe some scenarios that D is perfectly constructed but after calculating the derivative of D, it turns out all the values are zero, so we may not be able to calculate $D^{-1}$"
   ]
  },
  {
   "cell_type": "code",
   "execution_count": null,
   "metadata": {},
   "outputs": [],
   "source": []
  }
 ],
 "metadata": {
  "kernelspec": {
   "display_name": "Python 3",
   "language": "python",
   "name": "python3"
  },
  "language_info": {
   "codemirror_mode": {
    "name": "ipython",
    "version": 3
   },
   "file_extension": ".py",
   "mimetype": "text/x-python",
   "name": "python",
   "nbconvert_exporter": "python",
   "pygments_lexer": "ipython3",
   "version": "3.8.8"
  },
  "latex_envs": {
   "bibliofile": "biblio.bib",
   "cite_by": "apalike",
   "current_citInitial": 1,
   "eqLabelWithNumbers": true,
   "eqNumInitial": 0
  }
 },
 "nbformat": 4,
 "nbformat_minor": 4
}
