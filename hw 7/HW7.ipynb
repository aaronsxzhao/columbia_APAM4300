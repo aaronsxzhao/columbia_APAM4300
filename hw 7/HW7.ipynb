{
 "cells": [
  {
   "cell_type": "markdown",
   "metadata": {},
   "source": [
    "Before you turn this problem in, make sure everything runs as expected. First, **restart the kernel** (in the menubar, select Kernel$\\rightarrow$Restart) and then **run all cells** (in the menubar, select Cell$\\rightarrow$Run All).\n",
    "\n",
    "Make sure you fill in any place that says `YOUR CODE HERE` or \"YOUR ANSWER HERE\", as well as any collaborators you worked with:"
   ]
  },
  {
   "cell_type": "code",
   "execution_count": 1,
   "metadata": {},
   "outputs": [],
   "source": [
    "COLLABORATORS = \"me myself and I\""
   ]
  },
  {
   "cell_type": "markdown",
   "metadata": {},
   "source": [
    "---"
   ]
  },
  {
   "cell_type": "code",
   "execution_count": 2,
   "metadata": {},
   "outputs": [],
   "source": [
    "from __future__ import print_function\n",
    "%matplotlib inline\n",
    "%precision 16\n",
    "import numpy\n",
    "import matplotlib.pyplot as plt\n",
    "import time"
   ]
  },
  {
   "cell_type": "markdown",
   "metadata": {
    "deletable": false,
    "editable": false,
    "nbgrader": {
     "cell_type": "markdown",
     "checksum": "f62b3cb0afd2d6e2c63a54956a4d1185",
     "grade": false,
     "grade_id": "cell-6282430347078978",
     "locked": true,
     "schema_version": 3,
     "solution": false
    }
   },
   "source": [
    "# HW 7:  Intro to Linear Algebra\n",
    "\n"
   ]
  },
  {
   "cell_type": "markdown",
   "metadata": {
    "deletable": false,
    "editable": false,
    "nbgrader": {
     "cell_type": "markdown",
     "checksum": "945d8fe27832662b80abea0165c227d9",
     "grade": false,
     "grade_id": "cell-44c8b908984ef1e5",
     "locked": true,
     "schema_version": 3,
     "solution": false,
     "task": false
    }
   },
   "source": [
    "# Linear Algebra: Part 1"
   ]
  },
  {
   "cell_type": "markdown",
   "metadata": {
    "deletable": false,
    "editable": false,
    "nbgrader": {
     "cell_type": "markdown",
     "checksum": "375193d42fad3b5b058388a273373db3",
     "grade": false,
     "grade_id": "cell-5c00cac6658708b9",
     "locked": true,
     "schema_version": 3,
     "solution": false,
     "task": false
    }
   },
   "source": [
    "## Question 1: Matrix Norms and Condition Numbers\n",
    "\n",
    "Consider the Matrices\n",
    "\n",
    "$$\n",
    "    A = \\begin{bmatrix} 1 & 1 \\\\\n",
    "                        1 & a \\\\\n",
    "         \\end{bmatrix} \\quad\\quad\n",
    "     A^{-1} = \\frac{1}{a-1}\\begin{bmatrix} a & -1 \\\\\n",
    "                        -1 & 1 \\\\\n",
    "         \\end{bmatrix} \n",
    "$$\n",
    "where $a\\in\\mathbb{R}$"
   ]
  },
  {
   "cell_type": "markdown",
   "metadata": {
    "deletable": false,
    "editable": false,
    "nbgrader": {
     "cell_type": "markdown",
     "checksum": "9d7e1ac48fb1830efd68fa829c66546c",
     "grade": false,
     "grade_id": "cell-d8dd915976890ea8",
     "locked": true,
     "schema_version": 3,
     "solution": false,
     "task": false
    }
   },
   "source": [
    "**(a)** [6] Analytically calculate, as a function of $a$\n",
    "\n",
    "* the induced $p$-norm $||A||_p$ \n",
    "* the $p$ condition number $\\kappa_p(A) =||A||_p||A^{-1}||_p$ \n",
    "\n",
    "consider  $p=1,2,\\infty$\n",
    "\n",
    "(hint: for a symmetric matrix, the singular values are equal to the absolute value of the eigenvalues of $A$ (sorted from largest to smallest))"
   ]
  },
  {
   "cell_type": "markdown",
   "metadata": {
    "deletable": false,
    "nbgrader": {
     "cell_type": "markdown",
     "checksum": "310fd020c52ea030a0b60ce06ba7da93",
     "grade": true,
     "grade_id": "cell-d7fc247b7e748b9b",
     "locked": false,
     "points": 6,
     "schema_version": 3,
     "solution": true,
     "task": false
    }
   },
   "source": [
    "### Answer to Question 1(a)\n",
    "\n",
    "#### $p$ = 1\n",
    "\n",
    "By definition, if we want to compute 1-norm, for each column $A_i$ of matrix $A$, 1-norm is $\\sum_j|A_{i,j}|$.\n",
    "\n",
    "$$\n",
    "    ||A||_1 = \\sup_{x \\in \\mathbb{R}^n} \\left( ||A \\cdot [1, 0]^T||_1, ||A \\cdot [0, 1]^T||_1 \\right )\n",
    "$$\n",
    "\n",
    "Then we know $1$-norm of $A$ = $\\max(2, 1+|a|)$\n",
    "\n",
    "#### $p$ = 2\n",
    "\n",
    "When $p = 2$, the induced matrix norm is the spectral norm. The spectral norm of a matrix A is the largest singular value of A i.e. the square root of the largest eigenvalue of the matrix $A^*A$, where $A^*$ donates the conjugate transpose of A\n",
    "\n",
    "The eigenvalues of matrix A are:\n",
    "\n",
    "$$\n",
    "\\begin{aligned}\n",
    "\\lambda_1 &= \\frac{1}{2} (-\\sqrt{a^2 - 2 a + 5} + a + 1) \\\\\n",
    "\\lambda_2 &= \\frac{1}{2} (\\sqrt{a^2 - 2 a + 5} + a + 1) \n",
    "\\end{aligned}\n",
    "$$\n",
    "\n",
    "Then $||A||_2 = \\max(|\\lambda_1|,|\\lambda_2|)$\n",
    "\n",
    "\n",
    "#### $p$ = $\\infty$\n",
    "\n",
    "If we want to calculate the $p = \\infty$-norm $||A||_p$, it is the same as $||A||_1$, which means $$||A||_{\\infty} = \\max_{1\\leq i \\leq m}\\sum_{j=1}^n|a_{ij}| = \\max(2, 1+|a|)$$\n",
    "\n",
    "\n",
    "####  $p$ Condition Number\n",
    "\n",
    "If we want to calculate $\\kappa_1(A)$, or $\\kappa_\\infty(A)$, we can just calculate the\n",
    "\n",
    "$$\n",
    "\\max \\left(\\frac{(|a|+1)^2}{|a-1|}, \\frac{4}{|a-1|} \\right)\n",
    "$$\n",
    "\n",
    "If we want to calculate $\\kappa_2(A)$, all we need to do is calculating $$\n",
    "\\kappa_2(A) = \\max(|\\lambda_1|,|\\lambda_2|) \\cdot \\max(|\\lambda_3|,|\\lambda_4|)\n",
    "$$"
   ]
  },
  {
   "cell_type": "markdown",
   "metadata": {
    "deletable": false,
    "editable": false,
    "nbgrader": {
     "cell_type": "markdown",
     "checksum": "1231f4e7c5b03567326bfbde490b610f",
     "grade": false,
     "grade_id": "cell-939ff0252d09d20b",
     "locked": true,
     "schema_version": 3,
     "solution": false,
     "task": false
    }
   },
   "source": [
    "**(b)** [6] write two short python routine that returns $||A||_p$, and $\\kappa_p(A)$ for the matrices in part (a). Again, just consider $p=1,2,\\infty$) and raise a ValueError if $p$ is any other value."
   ]
  },
  {
   "cell_type": "code",
   "execution_count": 3,
   "metadata": {
    "deletable": false,
    "nbgrader": {
     "cell_type": "code",
     "checksum": "b5572b1eb7f3d61ed1735299ea664f30",
     "grade": false,
     "grade_id": "cell-c667be6cb51d494a",
     "locked": false,
     "schema_version": 3,
     "solution": true,
     "task": false
    }
   },
   "outputs": [],
   "source": [
    "def mypnorm(a, p ):\n",
    "    \"\"\"\n",
    "    return ||A||_p for A = [[ 1, 1],\n",
    "                            [ 1, a]]\n",
    "                            \n",
    "    for p=1, 2, or numpy.infty\n",
    "    \n",
    "    parameters:\n",
    "    -----------\n",
    "    \n",
    "    a: scalar \n",
    "        value of a\n",
    "    p: scalar\n",
    "        1, 2 or np.infty\n",
    "    returns:\n",
    "    --------\n",
    "    pnorm(a)\n",
    "    \n",
    "    raises:\n",
    "    --------\n",
    "    ValueError:  if p is not in [ 1, 2, numpy.infty]\n",
    "    \"\"\"\n",
    "    if p not in [1,2,numpy.infty]:\n",
    "        raise ValueError()\n",
    "    \n",
    "    \n",
    "    lambda1 = numpy.abs(0.5*(numpy.sqrt(a**2-2*a+5)+a+1))\n",
    "    lambda2 = numpy.abs(0.5*(-numpy.sqrt(a**2-2*a+5)+a+1))\n",
    "    \n",
    "    if p==1 or p==numpy.infty:\n",
    "        return numpy.max([2,1+abs(a)])\n",
    "    \n",
    "    elif p==2:\n",
    "        return numpy.max([lambda1,lambda2])\n",
    "    \n",
    "    \n",
    "def mycond(a, p):\n",
    "    \"\"\"\n",
    "    write your own docstring to return the condition number\n",
    "    \"\"\"\n",
    "    \n",
    "    if p not in [1,2,numpy.infty]:\n",
    "        raise ValueError()\n",
    "    \n",
    "    \n",
    "    lambda1 = numpy.abs(0.5*(numpy.sqrt(a**2-2*a+5)+a+1))\n",
    "    lambda2 = numpy.abs(0.5*(-numpy.sqrt(a**2-2*a+5)+a+1))\n",
    "    lambda3 = numpy.abs((numpy.sqrt(a**2-2*a+5)+a+1) / (2*(a-1)))\n",
    "    lambda4 = numpy.abs((-numpy.sqrt(a**2-2*a+5)+a+1) / (2*(a-1)))\n",
    "    \n",
    "    a1 = abs(a/(a-1))\n",
    "    a2 = 1/abs(a-1)\n",
    "   \n",
    "    if p==1 or p==numpy.infty:\n",
    "        return numpy.max([2,1+abs(a)]) * numpy.max([a1+a2, 2*a2])\n",
    "    elif p==2:\n",
    "        return (max(lambda1,lambda2)*max(lambda3,lambda4))\n",
    "          "
   ]
  },
  {
   "cell_type": "code",
   "execution_count": 4,
   "metadata": {
    "deletable": false,
    "editable": false,
    "nbgrader": {
     "cell_type": "code",
     "checksum": "602939281f7495713121358d809f1145",
     "grade": true,
     "grade_id": "cell-3006090e2e083282",
     "locked": true,
     "points": 6,
     "schema_version": 3,
     "solution": false,
     "task": false
    }
   },
   "outputs": [
    {
     "name": "stdout",
     "output_type": "stream",
     "text": [
      "||A||_1 = [3.0, 2.0, 2.0000999999999998, 3.0]\n",
      "||A||_2 = [2.302775637731995, 1.618033988749895, 2.00005000125, 2.618033988749895]\n",
      "||A||_inf = [3.0, 2.0, 2.0000999999999998, 3.0]\n",
      "Successful Norm test\n",
      "k(A)_1 = [3.0, 4.0, 40004.0001000044, 9.0]\n",
      "k(A)_2 = [1.7675918792439984, 2.618033988749895, 40002.00007500565, 6.854101966249685]\n",
      "k(A)_inf = [3.0, 4.0, 40004.0001000044, 9.0]\n",
      "Successful condition number test\n",
      "Success: you caught the ValueError\n"
     ]
    }
   ],
   "source": [
    "A = lambda a: numpy.array([ [ 1, 1], [1, a]])\n",
    "aa = numpy.array([ -2, 0, 1.0001, 2])\n",
    "\n",
    "\n",
    "for p in [ 1, 2, numpy.infty]:\n",
    "    normp = [ mypnorm(a, p) for a in aa]\n",
    "    test = [ numpy.linalg.norm(A(a), ord=p) for a in aa]    \n",
    "    print('||A||_{} = {}'.format(p, normp))\n",
    "    numpy.testing.assert_allclose(normp,test)\n",
    "print('Successful Norm test')\n",
    "\n",
    "for p in [ 1, 2, numpy.infty]:\n",
    "    condp = [ mycond(a, p) for a in aa]\n",
    "    test = [ numpy.linalg.cond(A(a), p) for a in aa]    \n",
    "    print('k(A)_{} = {}'.format(p, condp))\n",
    "    numpy.testing.assert_allclose(condp,test)\n",
    "print('Successful condition number test')\n",
    "\n",
    "# test the exception\n",
    "try:\n",
    "    mypnorm(0.,4)\n",
    "except ValueError as err:\n",
    "    print('Success: you caught the ValueError')\n",
    "else:\n",
    "    assert False, 'whoops, missed the exception'\n"
   ]
  },
  {
   "cell_type": "markdown",
   "metadata": {
    "deletable": false,
    "editable": false,
    "nbgrader": {
     "cell_type": "markdown",
     "checksum": "cf487ceb24463d0231424f53746b4c45",
     "grade": false,
     "grade_id": "cell-41eb679977efecde",
     "locked": true,
     "schema_version": 3,
     "solution": false,
     "task": false
    }
   },
   "source": [
    " **(c)** [4] Make a plot comparing $\\log(\\kappa(A))$ vs $a$ for the different matrix norms over the range $a\\in[-15,15]$. (you can check it by plotting `numpy.linalg.cond(A, ord)` as well. As always, make it pretty."
   ]
  },
  {
   "cell_type": "code",
   "execution_count": 5,
   "metadata": {
    "deletable": false,
    "nbgrader": {
     "cell_type": "code",
     "checksum": "eb7f103dadba8a5985a369568f9453a7",
     "grade": true,
     "grade_id": "cell-3545654a9ef25ac9",
     "locked": false,
     "points": 4,
     "schema_version": 3,
     "solution": true,
     "task": false
    }
   },
   "outputs": [
    {
     "data": {
      "image/png": "[encoded data removed]",
      "text/plain": [
       "<Figure size 1440x1080 with 3 Axes>"
      ]
     },
     "metadata": {
      "needs_background": "light"
     },
     "output_type": "display_data"
    }
   ],
   "source": [
    "a = numpy.linspace(-15,15,100)\n",
    "# a = numpy.delete(a, 16)\n",
    "fig = plt.figure(figsize=(20,15))\n",
    "log = numpy.zeros((len(a),3))\n",
    "p = [ 1, 2, numpy.infty]\n",
    "for t in range(3):\n",
    "    for idx, k in enumerate(a):\n",
    "        log[idx,t] = numpy.log(mycond(k,p[t]))\n",
    "\n",
    "for i in range(3):\n",
    "    axes = fig.add_subplot(3,1,i+1)\n",
    "    axes.plot(a,log[:,i],'ro-')\n",
    "    \n",
    "    axes.grid()\n",
    "    axes.set_title(\"{}-Norm, $a$ vs $log(\\kappa(A))$\".format(p[i]))\n",
    "    axes.set_xlabel('$a$')\n",
    "    axes.set_ylabel('$log(\\kappa(A))$')\n",
    "\n",
    "\n"
   ]
  },
  {
   "cell_type": "markdown",
   "metadata": {
    "deletable": false,
    "editable": false,
    "nbgrader": {
     "cell_type": "markdown",
     "checksum": "3ba7346b5a7a8060b1df2d22447c339c",
     "grade": false,
     "grade_id": "cell-5fb5d0bb6e0da5c2",
     "locked": true,
     "schema_version": 3,
     "solution": false,
     "task": false
    }
   },
   "source": [
    "**(d)** [8] Given your plot comment on the following:\n",
    "* What value of $a$ gives the best conditioned matrix.  Why?\n",
    "* What value of $a$ gives the least well-condition matrix.  Why?\n",
    "* Does it matter which norm we measure the condition number in?\n",
    "* What value of $a$ gives the best conditioned matrix for $a>1$\n",
    " "
   ]
  },
  {
   "cell_type": "markdown",
   "metadata": {
    "deletable": false,
    "nbgrader": {
     "cell_type": "markdown",
     "checksum": "ae0dc4e2df0adf7f87903c41c861f0ee",
     "grade": true,
     "grade_id": "cell-a89f6c416aee9453",
     "locked": false,
     "points": 8,
     "schema_version": 3,
     "solution": true,
     "task": false
    }
   },
   "source": [
    "#### Answer to Question 1(d)\n",
    "\n",
    "We can know that $a = -1$ will get the best conditioned matrix\n",
    "\n",
    "When $a = 1$, we get the least conditioned matrix. \n",
    "\n",
    "Yes it matters, we can know the ranges of three $\\log(\\kappa(A))$s are different even though they have almost the same shape.\n",
    "\n",
    "When $a>1$, we can get the best conditioned matrix by setting $a = 3$ "
   ]
  },
  {
   "cell_type": "markdown",
   "metadata": {
    "deletable": false,
    "editable": false,
    "nbgrader": {
     "cell_type": "markdown",
     "checksum": "182b150859e061266149ccce1cc29a18",
     "grade": false,
     "grade_id": "cell-d2fbff392abf8869",
     "locked": true,
     "schema_version": 3,
     "solution": false,
     "task": false
    }
   },
   "source": [
    "## Question 2: Conditioning and LU factorization\n",
    "\n",
    "Consider the two identical linear problems $A\\mathbf{x}=\\bf{b}$\n",
    "\n",
    "$$\n",
    "    \\begin{bmatrix} \\epsilon & 1 \\\\ 1 & 1 \\\\ \\end{bmatrix}\\mathbf{x}=\\begin{bmatrix} 1\\\\ 2\\end{bmatrix} \\quad\\quad\n",
    "     \\begin{bmatrix} 1 & 1 \\\\\\epsilon & 1 \\\\ \\end{bmatrix}\\mathbf{x}=\\begin{bmatrix} 2\\\\ 1\\end{bmatrix} \n",
    "$$\n",
    "where $\\epsilon \\ll \\epsilon_{mach}$"
   ]
  },
  {
   "cell_type": "markdown",
   "metadata": {
    "deletable": false,
    "editable": false,
    "nbgrader": {
     "cell_type": "markdown",
     "checksum": "348096f96c926a217a56d61a59bee46f",
     "grade": false,
     "grade_id": "cell-fe9f3bc24c4ad049",
     "locked": true,
     "schema_version": 3,
     "solution": false,
     "task": false
    }
   },
   "source": [
    "**(a)**  [6 pts] Find the 1 condition number of both matrices. Are they the same?  Are these matrices well conditioned? Check your answer using numpy with $\\epsilon = 0.1\\epsilon_{mach}$"
   ]
  },
  {
   "cell_type": "markdown",
   "metadata": {
    "deletable": false,
    "nbgrader": {
     "cell_type": "markdown",
     "checksum": "f0afa7a8b9179c7ba4fd7c7e8b3346be",
     "grade": true,
     "grade_id": "cell-2dc5b9cc6e893b84",
     "locked": false,
     "points": 4,
     "schema_version": 3,
     "solution": true,
     "task": false
    }
   },
   "source": [
    "#### Answer to Question 2 (a)\n",
    "\n",
    "Since $\\epsilon \\ll \\epsilon_{mach}$, we know the 1-norm of both matrixs $A_1$ equal to 2. We then need to invert $A_1$ and $A_2$.\n",
    "\n",
    "We first invert $A_1$ and $A_2$ and get \n",
    "\n",
    "$$\n",
    "A_1^{-1} = \\frac{1}{\\epsilon - 1}\\begin{bmatrix} 1 & -1 \\\\ -1 & \\epsilon \\\\ \\end{bmatrix}\n",
    "$$\n",
    "\n",
    "$$\n",
    "A_2^{-1} = \\frac{1}{1 - \\epsilon}\\begin{bmatrix} 1 & -1 \\\\ -\\epsilon & 1 \\\\ \\end{bmatrix}\n",
    "$$\n",
    "\n",
    "Then we know when $p = 1$, $||A_1^{-1}||_1 = ||A_2^{-1}||_1 = \\frac{2}{1-\\epsilon}$\n",
    "\n",
    "$$\n",
    "\\kappa_1(A_1) = ||A_1||_1 ||A_1^{-1}||_1 = \\frac{4}{1-\\epsilon}\\\\\n",
    "\\kappa_1(A_2) = ||A_2||_1 ||A_2^{-1}||_1 = \\frac{4}{1-\\epsilon}\n",
    "$$\n",
    "\n",
    "We know $\\epsilon$ is a very small number and $\\frac{4}{1-\\epsilon}$ is a number larger than 1, so we know these 2 matrices are not well-conditioned"
   ]
  },
  {
   "cell_type": "code",
   "execution_count": 6,
   "metadata": {
    "deletable": false,
    "nbgrader": {
     "cell_type": "code",
     "checksum": "9585c969563122ef5aa8b1d54cb9e8f5",
     "grade": true,
     "grade_id": "cell-224f9ba2c164bdf8",
     "locked": false,
     "points": 2,
     "schema_version": 3,
     "solution": true,
     "task": false
    }
   },
   "outputs": [
    {
     "name": "stdout",
     "output_type": "stream",
     "text": [
      "2.6180339887498953 2.6180339887498953\n"
     ]
    }
   ],
   "source": [
    "eps = 0.1 * numpy.finfo(float).eps\n",
    "A_1 = numpy.array([ [eps, 1], [1, 1] ])\n",
    "A_2 = numpy.array([ [1, 1], [eps, 1] ])\n",
    "condA_1 = numpy.linalg.cond(A_1)\n",
    "condA_2 = numpy.linalg.cond(A_2)\n",
    "\n",
    "print(condA_1, condA_2)\n"
   ]
  },
  {
   "cell_type": "markdown",
   "metadata": {
    "deletable": false,
    "editable": false,
    "nbgrader": {
     "cell_type": "markdown",
     "checksum": "6ec5c7d683734869baf680996b03574d",
     "grade": false,
     "grade_id": "cell-d71ae1170916d998",
     "locked": true,
     "schema_version": 3,
     "solution": false,
     "task": false
    }
   },
   "source": [
    "**(b)**  [4 pts] Find the analytic solution to both problems in infinite precision.  Are they the same?"
   ]
  },
  {
   "cell_type": "markdown",
   "metadata": {
    "deletable": false,
    "nbgrader": {
     "cell_type": "markdown",
     "checksum": "f3734b2ddcc5c34065849726695ae7e1",
     "grade": true,
     "grade_id": "cell-9ec345823ebf7cf2",
     "locked": false,
     "points": 4,
     "schema_version": 3,
     "solution": true,
     "task": false
    }
   },
   "source": [
    "#### Answer to Question 2(b)\n",
    "\n",
    "For the first equation:\n",
    "$$\n",
    "\\begin{aligned}\n",
    "\\mathbf{x_1} &= A_1^{-1}\\begin{bmatrix} 1\\\\ 2\\end{bmatrix}\\\\\n",
    "&=\\begin{bmatrix} \\epsilon & 1 \\\\ 1 & 1 \\\\ \\end{bmatrix}^{-1} \\begin{bmatrix} 1\\\\ 2\\end{bmatrix}\\\\\n",
    "&=\\frac{1}{\\epsilon - 1}\\begin{bmatrix} 1 & -1 \\\\ -1 & \\epsilon \\\\ \\end{bmatrix} \\begin{bmatrix} 1\\\\ 2\\end{bmatrix}\\\\\n",
    "&=\\frac{1}{\\epsilon - 1}\\begin{bmatrix} -1 \\\\ 2\\epsilon -1\\end{bmatrix}\n",
    "\\end{aligned}\n",
    "$$\n",
    "\n",
    "\n",
    "\n",
    "\n",
    "For the second equation:\n",
    "\n",
    "\n",
    "$$\n",
    "\\begin{aligned}\n",
    "\\mathbf{x_2} &= A_2^{-1}\\begin{bmatrix} 2\\\\ 1\\end{bmatrix}\\\\\n",
    "&=\\begin{bmatrix} 1 & 1 \\\\ \\epsilon & 1 \\\\ \\end{bmatrix}^{-1} \\begin{bmatrix} 2\\\\ 1\\end{bmatrix}\\\\\n",
    "&=\\frac{1}{1 - \\epsilon}\\begin{bmatrix} 1 & -1 \\\\ -\\epsilon & 1 \\\\ \\end{bmatrix} \\begin{bmatrix} 2\\\\ 1\\end{bmatrix}\\\\\n",
    "&=\\frac{1}{\\epsilon - 1}\\begin{bmatrix} -1 \\\\ 2\\epsilon -1\\end{bmatrix}\n",
    "\\end{aligned}\n",
    "$$\n",
    "\n",
    "They are the same\n"
   ]
  },
  {
   "cell_type": "markdown",
   "metadata": {
    "deletable": false,
    "editable": false,
    "nbgrader": {
     "cell_type": "markdown",
     "checksum": "a7db0d9313376aa1619c4cc6448eec11",
     "grade": false,
     "grade_id": "cell-7010586d05730e70",
     "locked": true,
     "schema_version": 3,
     "solution": false,
     "task": false
    }
   },
   "source": [
    "**(c)**  [4 pts] Now solve both problems analytically using the $LU$ decomposition *without pivoting* but applying the rules of floating point math.  Do you get the same answer?  "
   ]
  },
  {
   "cell_type": "markdown",
   "metadata": {
    "deletable": false,
    "nbgrader": {
     "cell_type": "markdown",
     "checksum": "3596cbf6ce56559380f68e7b56097746",
     "grade": true,
     "grade_id": "cell-6b1d23daeba44c40",
     "locked": false,
     "points": 4,
     "schema_version": 3,
     "solution": true,
     "task": false
    }
   },
   "source": [
    "#### Answer to Question 2 (c)\n",
    "\n",
    "After applying the $LU$ decomposition on matrix $A_1$ and $A_2$, we get:\n",
    "\n",
    "$$\n",
    "L_1U_1 = \\begin{bmatrix} 1 & 0\\\\ \\frac{1}{\\epsilon} & 1\\end{bmatrix}\\begin{bmatrix} \\epsilon & 1\\\\ 0 & 1-\\frac{1}{\\epsilon}\\end{bmatrix}\\\\\n",
    "L_2U_2 = \\begin{bmatrix} 1 & 0\\\\ \\epsilon & 1\\end{bmatrix}\\begin{bmatrix} 1 & 1\\\\ 0 & 1-\\epsilon\\end{bmatrix}\n",
    "$$\n",
    "\n",
    "In order to solve $\\mathbf{x_1}$ and $\\mathbf{x_2}$, we do the following calculation:\n",
    "\n",
    "$$\n",
    "\\begin{aligned}\n",
    "\\mathbf{A} \\mathbf{x} &=\\mathbf{b} \\\\\n",
    "\\mathbf{L U} \\mathbf{x} &=\\mathbf{b} \\\\\n",
    "\\mathbf{U} \\mathbf{x} &=\\mathbf{L}^{-1} \\mathbf{b} \\\\\n",
    "\\mathbf{x} &=\\mathbf{U}^{-1}\\left(\\mathbf{L}^{-1} \\mathbf{b}\\right)\n",
    "\\end{aligned}\n",
    "$$\n",
    "\n",
    "\n",
    "$$\n",
    "\\mathbf{x_1} =\\frac{1}{1- \\epsilon}\\begin{bmatrix} 0 \\\\ 1\\end{bmatrix}\\\\\n",
    "\\mathbf{x_2} = \\frac{1}{(\\epsilon - 1)^2}\\begin{bmatrix} 1 \\\\  1\\end{bmatrix}\n",
    "$$\n",
    "\n",
    "\n",
    "They are different"
   ]
  },
  {
   "cell_type": "markdown",
   "metadata": {
    "deletable": false,
    "editable": false,
    "nbgrader": {
     "cell_type": "markdown",
     "checksum": "a7618c89843f8c4e4e6e3a2bca64446c",
     "grade": false,
     "grade_id": "cell-b8a0da20128bddae",
     "locked": true,
     "schema_version": 3,
     "solution": false,
     "task": false
    }
   },
   "source": [
    "**(d)**  [6 pts] Check your solutions using numpy.  \n",
    "\n",
    "For each problem \n",
    "* Calculate the solution using $L\\mathbf{c}=\\mathbf{b}$, $U\\mathbf{x}=\\mathbf{c}$ for each pair of $L,U$ derived above (you can use numpy here with $\\epsilon=0.1\\epsilon_{mach}$)\n",
    "* Calculate the 1-condition number for each $L$ and $U$ \n",
    "\n",
    "Briefly explain these results\n"
   ]
  },
  {
   "cell_type": "code",
   "execution_count": 7,
   "metadata": {
    "deletable": false,
    "nbgrader": {
     "cell_type": "code",
     "checksum": "344ff4ea570762b143d206c2c8a234d1",
     "grade": true,
     "grade_id": "cell-4da8bf6a9034a983",
     "locked": false,
     "points": 4,
     "schema_version": 3,
     "solution": true,
     "task": false
    }
   },
   "outputs": [
    {
     "name": "stdout",
     "output_type": "stream",
     "text": [
      "x_1 is [0. 1.]\n",
      "x_2 is [1. 1.]\n",
      "condition number of L_1: inf\n",
      "condition number of L_2: 1.0\n",
      "condition number of U_1: 2.028240960365167e+33\n",
      "condition number of U_2: 2.6180339887498953\n"
     ]
    }
   ],
   "source": [
    "eps = 0.1 * numpy.finfo(float).eps\n",
    "\n",
    "L_1 = numpy.array([ [1, 0], [1/eps, 1] ])\n",
    "U_1 = numpy.array([ [eps, 1], [0, 1-1/eps] ])\n",
    "b_1 = numpy.array([ 1, 2 ])\n",
    "\n",
    "L_2 = numpy.array([ [1, 0], [eps, 1] ])\n",
    "U_2 = numpy.array([ [1, 1], [0, 1-eps] ])\n",
    "b_2 = numpy.array([ 2, 1 ])\n",
    "\n",
    "c_1 = numpy.linalg.solve(L_1, b_1)\n",
    "c_2 = numpy.linalg.solve(L_2, b_2)\n",
    "\n",
    "x_1 = numpy.linalg.solve(U_1, c_1)\n",
    "x_2 = numpy.linalg.solve(U_2, c_2)\n",
    "\n",
    "print('x_1 is {}'.format(x_1))\n",
    "print('x_2 is {}'.format(x_2))\n",
    "\n",
    "condL_1 = numpy.linalg.cond(L_1)\n",
    "condU_1 = numpy.linalg.cond(U_1)\n",
    "\n",
    "condL_2 = numpy.linalg.cond(L_2)\n",
    "condU_2 = numpy.linalg.cond(U_2)\n",
    "\n",
    "print('condition number of L_1:', condL_1)\n",
    "print('condition number of L_2:', condL_2)\n",
    "print('condition number of U_1:', condU_1)\n",
    "print('condition number of U_2:', condU_2)\n"
   ]
  },
  {
   "cell_type": "markdown",
   "metadata": {
    "deletable": false,
    "nbgrader": {
     "cell_type": "markdown",
     "checksum": "a21c7eb1ed94668b06afc91276dbe974",
     "grade": true,
     "grade_id": "cell-dd5a0aeb1c479324",
     "locked": false,
     "points": 2,
     "schema_version": 3,
     "solution": true,
     "task": false
    }
   },
   "source": [
    "Since for the first $U_1$, the pivot number is $\\epsilon$, which is a relatively small number that close to zero, that makes my results different using numpy. An $\\epsilon$ pivor number is very different from a 0 pivot number"
   ]
  },
  {
   "cell_type": "code",
   "execution_count": null,
   "metadata": {},
   "outputs": [],
   "source": []
  }
 ],
 "metadata": {
  "kernelspec": {
   "display_name": "Python 3",
   "language": "python",
   "name": "python3"
  },
  "language_info": {
   "codemirror_mode": {
    "name": "ipython",
    "version": 3
   },
   "file_extension": ".py",
   "mimetype": "text/x-python",
   "name": "python",
   "nbconvert_exporter": "python",
   "pygments_lexer": "ipython3",
   "version": "3.8.8"
  },
  "latex_envs": {
   "bibliofile": "biblio.bib",
   "cite_by": "apalike",
   "current_citInitial": 1,
   "eqLabelWithNumbers": true,
   "eqNumInitial": 0
  }
 },
 "nbformat": 4,
 "nbformat_minor": 4
}
