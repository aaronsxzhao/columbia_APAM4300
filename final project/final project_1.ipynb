{
 "cells": [
  {
   "cell_type": "code",
   "execution_count": 1,
   "id": "73e16a47",
   "metadata": {},
   "outputs": [],
   "source": [
    "import numpy as np \n",
    "import matplotlib.pyplot as plt \n",
    "import astropy.units as u \n",
    "import astropy.constants as c "
   ]
  },
  {
   "cell_type": "code",
   "execution_count": 2,
   "id": "30b5bd1d",
   "metadata": {},
   "outputs": [
    {
     "name": "stdout",
     "output_type": "stream",
     "text": [
      "10.0 solMass\n",
      "1.988409870698051e+34\n"
     ]
    }
   ],
   "source": [
    "my_mass = 10 * u.Msun\n",
    "print(my_mass)\n",
    "\n",
    "my_mass_stripped = my_mass.cgs.value\n",
    "print(my_mass_stripped)"
   ]
  },
  {
   "cell_type": "code",
   "execution_count": 3,
   "id": "25f37d52",
   "metadata": {},
   "outputs": [],
   "source": [
    "class Body():\n",
    "    def __init__(self, name, x_vec, v_vec, mass):\n",
    "        self.name = name\n",
    "        self.x_vec = x_vec\n",
    "        self.v_vec = v_vec\n",
    "        self.mass = mass\n",
    "        \n",
    "        self.x_vec_stripped = x_vec.cgs.value\n",
    "        self.v_vec_stripped = v_vec.cgs.value\n",
    "        self.mass_stripped = mass.cgs.value\n",
    "    def return_vec():\n",
    "        return np.concatenate((self.x_vec, self.v_vec))\n",
    "\n",
    "class Simulation():\n",
    "    def __init__(self, bodies):\n",
    "        self.bodies = len(bodies)\n",
    "        \n",
    "        "
   ]
  },
  {
   "cell_type": "code",
   "execution_count": 4,
   "id": "92aa6d9a",
   "metadata": {},
   "outputs": [],
   "source": [
    "Earth = Body(name='Earth',\n",
    "             x_vec = np.array([0,1,0])*u.AU,\n",
    "             v_vec = np.array([0,30,0])*u.km/u.s,\n",
    "             mass = 1.0*c.M_earth) \n",
    "\n",
    "Sun = Body(name='Sun',\n",
    "           x_vec = np.array([0,0,0])*u.AU,\n",
    "           v_vec = np.array([0,0,0])*u.km/u.s,\n",
    "           mass = 1*u.Msun)\n",
    "\n",
    "bodies = [Earth,Sun]"
   ]
  },
  {
   "cell_type": "code",
   "execution_count": 7,
   "id": "113ded5e",
   "metadata": {},
   "outputs": [
    {
     "name": "stdout",
     "output_type": "stream",
     "text": [
      "Earth\n"
     ]
    }
   ],
   "source": []
  },
  {
   "cell_type": "code",
   "execution_count": null,
   "id": "484e3ae7",
   "metadata": {},
   "outputs": [],
   "source": []
  }
 ],
 "metadata": {
  "kernelspec": {
   "display_name": "Python 3 (ipykernel)",
   "language": "python",
   "name": "python3"
  },
  "language_info": {
   "codemirror_mode": {
    "name": "ipython",
    "version": 3
   },
   "file_extension": ".py",
   "mimetype": "text/x-python",
   "name": "python",
   "nbconvert_exporter": "python",
   "pygments_lexer": "ipython3",
   "version": "3.9.7"
  }
 },
 "nbformat": 4,
 "nbformat_minor": 5
}
